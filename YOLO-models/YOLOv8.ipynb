{
 "cells": [
  {
   "cell_type": "code",
   "execution_count": 1,
   "id": "90cf0fcf-fa8e-4c61-a08c-ccb4cac1ab74",
   "metadata": {
    "tags": []
   },
   "outputs": [],
   "source": [
    "!pip install ultralytics -q"
   ]
  },
  {
   "cell_type": "code",
   "execution_count": 2,
   "id": "02eebc60-cf3a-4e81-8ec3-f9f9e2d0bcf0",
   "metadata": {
    "tags": []
   },
   "outputs": [],
   "source": [
    "from ultralytics import YOLO"
   ]
  },
  {
   "cell_type": "code",
   "execution_count": 7,
   "id": "a51e382e-ab8b-4fe5-8b98-0e378e5e7a3c",
   "metadata": {
    "tags": []
   },
   "outputs": [],
   "source": [
    "model = YOLO(\"yolov8m.pt\")"
   ]
  },
  {
   "cell_type": "code",
   "execution_count": 8,
   "id": "1bd961a5-554f-48a8-a24b-59535690c7a7",
   "metadata": {
    "tags": []
   },
   "outputs": [
    {
     "name": "stdout",
     "output_type": "stream",
     "text": [
      "Ultralytics YOLOv8.1.24 🚀 Python-3.10.13 torch-2.1.0 CUDA:0 (Tesla V100-SXM2-16GB, 16151MiB)\n",
      "\u001b[34m\u001b[1mengine/trainer: \u001b[0mtask=detect, mode=train, model=yolov8m.pt, data=custom.yaml, epochs=300, time=None, patience=100, batch=16, imgsz=640, save=True, save_period=-1, cache=False, device=None, workers=8, project=None, name=train2, exist_ok=False, pretrained=True, optimizer=auto, verbose=True, seed=0, deterministic=True, single_cls=False, rect=False, cos_lr=False, close_mosaic=10, resume=False, amp=True, fraction=1.0, profile=False, freeze=None, multi_scale=False, overlap_mask=True, mask_ratio=4, dropout=0.0, val=True, split=val, save_json=False, save_hybrid=False, conf=None, iou=0.7, max_det=300, half=False, dnn=False, plots=True, source=None, vid_stride=1, stream_buffer=False, visualize=False, augment=False, agnostic_nms=False, classes=None, retina_masks=False, embed=None, show=False, save_frames=False, save_txt=False, save_conf=False, save_crop=False, show_labels=True, show_conf=True, show_boxes=True, line_width=None, format=torchscript, keras=False, optimize=False, int8=False, dynamic=False, simplify=False, opset=None, workspace=4, nms=False, lr0=0.01, lrf=0.01, momentum=0.937, weight_decay=0.0005, warmup_epochs=3.0, warmup_momentum=0.8, warmup_bias_lr=0.1, box=7.5, cls=0.5, dfl=1.5, pose=12.0, kobj=1.0, label_smoothing=0.0, nbs=64, hsv_h=0.015, hsv_s=0.7, hsv_v=0.4, degrees=0.0, translate=0.1, scale=0.5, shear=0.0, perspective=0.0, flipud=0.0, fliplr=0.5, mosaic=1.0, mixup=0.0, copy_paste=0.0, auto_augment=randaugment, erasing=0.4, crop_fraction=1.0, cfg=None, tracker=botsort.yaml, save_dir=runs/detect/train2\n",
      "Overriding model.yaml nc=80 with nc=2\n",
      "\n",
      "                   from  n    params  module                                       arguments                     \n",
      "  0                  -1  1      1392  ultralytics.nn.modules.conv.Conv             [3, 48, 3, 2]                 \n",
      "  1                  -1  1     41664  ultralytics.nn.modules.conv.Conv             [48, 96, 3, 2]                \n",
      "  2                  -1  2    111360  ultralytics.nn.modules.block.C2f             [96, 96, 2, True]             \n",
      "  3                  -1  1    166272  ultralytics.nn.modules.conv.Conv             [96, 192, 3, 2]               \n",
      "  4                  -1  4    813312  ultralytics.nn.modules.block.C2f             [192, 192, 4, True]           \n",
      "  5                  -1  1    664320  ultralytics.nn.modules.conv.Conv             [192, 384, 3, 2]              \n",
      "  6                  -1  4   3248640  ultralytics.nn.modules.block.C2f             [384, 384, 4, True]           \n",
      "  7                  -1  1   1991808  ultralytics.nn.modules.conv.Conv             [384, 576, 3, 2]              \n",
      "  8                  -1  2   3985920  ultralytics.nn.modules.block.C2f             [576, 576, 2, True]           \n",
      "  9                  -1  1    831168  ultralytics.nn.modules.block.SPPF            [576, 576, 5]                 \n",
      " 10                  -1  1         0  torch.nn.modules.upsampling.Upsample         [None, 2, 'nearest']          \n",
      " 11             [-1, 6]  1         0  ultralytics.nn.modules.conv.Concat           [1]                           \n",
      " 12                  -1  2   1993728  ultralytics.nn.modules.block.C2f             [960, 384, 2]                 \n",
      " 13                  -1  1         0  torch.nn.modules.upsampling.Upsample         [None, 2, 'nearest']          \n",
      " 14             [-1, 4]  1         0  ultralytics.nn.modules.conv.Concat           [1]                           \n",
      " 15                  -1  2    517632  ultralytics.nn.modules.block.C2f             [576, 192, 2]                 \n",
      " 16                  -1  1    332160  ultralytics.nn.modules.conv.Conv             [192, 192, 3, 2]              \n",
      " 17            [-1, 12]  1         0  ultralytics.nn.modules.conv.Concat           [1]                           \n",
      " 18                  -1  2   1846272  ultralytics.nn.modules.block.C2f             [576, 384, 2]                 \n",
      " 19                  -1  1   1327872  ultralytics.nn.modules.conv.Conv             [384, 384, 3, 2]              \n",
      " 20             [-1, 9]  1         0  ultralytics.nn.modules.conv.Concat           [1]                           \n",
      " 21                  -1  2   4207104  ultralytics.nn.modules.block.C2f             [960, 576, 2]                 \n",
      " 22        [15, 18, 21]  1   3776854  ultralytics.nn.modules.head.Detect           [2, [192, 384, 576]]          \n",
      "Model summary: 295 layers, 25857478 parameters, 25857462 gradients, 79.1 GFLOPs\n",
      "\n",
      "Transferred 469/475 items from pretrained weights\n",
      "Freezing layer 'model.22.dfl.conv.weight'\n",
      "\u001b[34m\u001b[1mAMP: \u001b[0mrunning Automatic Mixed Precision (AMP) checks with YOLOv8n...\n",
      "\u001b[34m\u001b[1mAMP: \u001b[0mchecks passed ✅\n"
     ]
    },
    {
     "name": "stderr",
     "output_type": "stream",
     "text": [
      "\u001b[34m\u001b[1mtrain: \u001b[0mScanning /home/ec2-user/SageMaker/data/train/labels.cache... 180 images, 0 backgrounds, 0 corrupt: 100%|██████████| 180/180 [00:00<?, ?it/s]\n",
      "\u001b[34m\u001b[1mval: \u001b[0mScanning /home/ec2-user/SageMaker/data/val/labels.cache... 44 images, 0 backgrounds, 0 corrupt: 100%|██████████| 44/44 [00:00<?, ?it/s]\n"
     ]
    },
    {
     "name": "stdout",
     "output_type": "stream",
     "text": [
      "Plotting labels to runs/detect/train2/labels.jpg... \n",
      "\u001b[34m\u001b[1moptimizer:\u001b[0m 'optimizer=auto' found, ignoring 'lr0=0.01' and 'momentum=0.937' and determining best 'optimizer', 'lr0' and 'momentum' automatically... \n",
      "\u001b[34m\u001b[1moptimizer:\u001b[0m AdamW(lr=0.001667, momentum=0.9) with parameter groups 77 weight(decay=0.0), 84 weight(decay=0.0005), 83 bias(decay=0.0)\n",
      "Image sizes 640 train, 640 val\n",
      "Using 8 dataloader workers\n",
      "Logging results to \u001b[1mruns/detect/train2\u001b[0m\n",
      "Starting training for 300 epochs...\n",
      "\n",
      "      Epoch    GPU_mem   box_loss   cls_loss   dfl_loss  Instances       Size\n"
     ]
    },
    {
     "name": "stderr",
     "output_type": "stream",
     "text": [
      "      1/300      6.78G      2.384      3.792      2.605         19        640: 100%|██████████| 12/12 [00:05<00:00,  2.01it/s]\n",
      "                 Class     Images  Instances      Box(P          R      mAP50  mAP50-95): 100%|██████████| 2/2 [00:01<00:00,  1.86it/s]"
     ]
    },
    {
     "name": "stdout",
     "output_type": "stream",
     "text": [
      "                   all         44        101      0.251      0.433      0.139     0.0378\n"
     ]
    },
    {
     "name": "stderr",
     "output_type": "stream",
     "text": [
      "\n"
     ]
    },
    {
     "name": "stdout",
     "output_type": "stream",
     "text": [
      "\n",
      "      Epoch    GPU_mem   box_loss   cls_loss   dfl_loss  Instances       Size\n"
     ]
    },
    {
     "name": "stderr",
     "output_type": "stream",
     "text": [
      "      2/300      6.98G      2.048      3.028      2.318         21        640: 100%|██████████| 12/12 [00:02<00:00,  5.00it/s]\n",
      "                 Class     Images  Instances      Box(P          R      mAP50  mAP50-95): 100%|██████████| 2/2 [00:00<00:00,  4.98it/s]"
     ]
    },
    {
     "name": "stdout",
     "output_type": "stream",
     "text": [
      "                   all         44        101     0.0375      0.146     0.0108    0.00273\n"
     ]
    },
    {
     "name": "stderr",
     "output_type": "stream",
     "text": [
      "\n"
     ]
    },
    {
     "name": "stdout",
     "output_type": "stream",
     "text": [
      "\n",
      "      Epoch    GPU_mem   box_loss   cls_loss   dfl_loss  Instances       Size\n"
     ]
    },
    {
     "name": "stderr",
     "output_type": "stream",
     "text": [
      "      3/300      6.99G      1.995      2.805      2.308         27        640: 100%|██████████| 12/12 [00:02<00:00,  5.10it/s]\n",
      "                 Class     Images  Instances      Box(P          R      mAP50  mAP50-95): 100%|██████████| 2/2 [00:00<00:00,  6.38it/s]"
     ]
    },
    {
     "name": "stdout",
     "output_type": "stream",
     "text": [
      "                   all         44        101    0.00998      0.371     0.0078    0.00225\n"
     ]
    },
    {
     "name": "stderr",
     "output_type": "stream",
     "text": [
      "\n"
     ]
    },
    {
     "name": "stdout",
     "output_type": "stream",
     "text": [
      "\n",
      "      Epoch    GPU_mem   box_loss   cls_loss   dfl_loss  Instances       Size\n"
     ]
    },
    {
     "name": "stderr",
     "output_type": "stream",
     "text": [
      "      4/300      6.98G      2.105      2.742      2.276         17        640: 100%|██████████| 12/12 [00:02<00:00,  5.11it/s]\n",
      "                 Class     Images  Instances      Box(P          R      mAP50  mAP50-95): 100%|██████████| 2/2 [00:00<00:00,  5.16it/s]"
     ]
    },
    {
     "name": "stdout",
     "output_type": "stream",
     "text": [
      "                   all         44        101     0.0022      0.318    0.00212   0.000502\n"
     ]
    },
    {
     "name": "stderr",
     "output_type": "stream",
     "text": [
      "\n"
     ]
    },
    {
     "name": "stdout",
     "output_type": "stream",
     "text": [
      "\n",
      "      Epoch    GPU_mem   box_loss   cls_loss   dfl_loss  Instances       Size\n"
     ]
    },
    {
     "name": "stderr",
     "output_type": "stream",
     "text": [
      "      5/300      7.01G      2.164      2.942      2.415         20        640: 100%|██████████| 12/12 [00:02<00:00,  5.22it/s]\n",
      "                 Class     Images  Instances      Box(P          R      mAP50  mAP50-95): 100%|██████████| 2/2 [00:00<00:00,  8.17it/s]"
     ]
    },
    {
     "name": "stdout",
     "output_type": "stream",
     "text": [
      "                   all         44        101      0.505    0.00877     0.0012   0.000361\n"
     ]
    },
    {
     "name": "stderr",
     "output_type": "stream",
     "text": [
      "\n"
     ]
    },
    {
     "name": "stdout",
     "output_type": "stream",
     "text": [
      "\n",
      "      Epoch    GPU_mem   box_loss   cls_loss   dfl_loss  Instances       Size\n"
     ]
    },
    {
     "name": "stderr",
     "output_type": "stream",
     "text": [
      "      6/300         7G      2.143      2.854      2.343         32        640: 100%|██████████| 12/12 [00:02<00:00,  5.28it/s]\n",
      "                 Class     Images  Instances      Box(P          R      mAP50  mAP50-95): 100%|██████████| 2/2 [00:00<00:00,  6.30it/s]"
     ]
    },
    {
     "name": "stdout",
     "output_type": "stream",
     "text": [
      "                   all         44        101      0.505    0.00877     0.0012   0.000361\n"
     ]
    },
    {
     "name": "stderr",
     "output_type": "stream",
     "text": [
      "\n"
     ]
    },
    {
     "name": "stdout",
     "output_type": "stream",
     "text": [
      "\n",
      "      Epoch    GPU_mem   box_loss   cls_loss   dfl_loss  Instances       Size\n"
     ]
    },
    {
     "name": "stderr",
     "output_type": "stream",
     "text": [
      "      7/300      6.99G      2.118      2.916      2.355         21        640: 100%|██████████| 12/12 [00:02<00:00,  5.24it/s]\n",
      "                 Class     Images  Instances      Box(P          R      mAP50  mAP50-95): 100%|██████████| 2/2 [00:00<00:00,  5.68it/s]"
     ]
    },
    {
     "name": "stdout",
     "output_type": "stream",
     "text": [
      "                   all         44        101   0.000398     0.0439   0.000317   5.58e-05\n"
     ]
    },
    {
     "name": "stderr",
     "output_type": "stream",
     "text": [
      "\n"
     ]
    },
    {
     "name": "stdout",
     "output_type": "stream",
     "text": [
      "\n",
      "      Epoch    GPU_mem   box_loss   cls_loss   dfl_loss  Instances       Size\n"
     ]
    },
    {
     "name": "stderr",
     "output_type": "stream",
     "text": [
      "      8/300         7G      2.122       2.87      2.361         24        640: 100%|██████████| 12/12 [00:02<00:00,  5.40it/s]\n",
      "                 Class     Images  Instances      Box(P          R      mAP50  mAP50-95): 100%|██████████| 2/2 [00:00<00:00,  4.39it/s]"
     ]
    },
    {
     "name": "stdout",
     "output_type": "stream",
     "text": [
      "                   all         44        101    0.00148      0.325    0.00161   0.000968\n"
     ]
    },
    {
     "name": "stderr",
     "output_type": "stream",
     "text": [
      "\n"
     ]
    },
    {
     "name": "stdout",
     "output_type": "stream",
     "text": [
      "\n",
      "      Epoch    GPU_mem   box_loss   cls_loss   dfl_loss  Instances       Size\n"
     ]
    },
    {
     "name": "stderr",
     "output_type": "stream",
     "text": [
      "      9/300      6.99G      2.065      2.785       2.33         15        640: 100%|██████████| 12/12 [00:02<00:00,  5.36it/s]\n",
      "                 Class     Images  Instances      Box(P          R      mAP50  mAP50-95): 100%|██████████| 2/2 [00:00<00:00,  5.13it/s]"
     ]
    },
    {
     "name": "stdout",
     "output_type": "stream",
     "text": [
      "                   all         44        101    0.00184      0.368    0.00265   0.000994\n"
     ]
    },
    {
     "name": "stderr",
     "output_type": "stream",
     "text": [
      "\n"
     ]
    },
    {
     "name": "stdout",
     "output_type": "stream",
     "text": [
      "\n",
      "      Epoch    GPU_mem   box_loss   cls_loss   dfl_loss  Instances       Size\n"
     ]
    },
    {
     "name": "stderr",
     "output_type": "stream",
     "text": [
      "     10/300      6.99G      2.089      2.757      2.327         18        640: 100%|██████████| 12/12 [00:02<00:00,  5.41it/s]\n",
      "                 Class     Images  Instances      Box(P          R      mAP50  mAP50-95): 100%|██████████| 2/2 [00:00<00:00,  6.08it/s]"
     ]
    },
    {
     "name": "stdout",
     "output_type": "stream",
     "text": [
      "                   all         44        101   0.000374     0.0789   0.000286   6.61e-05\n"
     ]
    },
    {
     "name": "stderr",
     "output_type": "stream",
     "text": [
      "\n"
     ]
    },
    {
     "name": "stdout",
     "output_type": "stream",
     "text": [
      "\n",
      "      Epoch    GPU_mem   box_loss   cls_loss   dfl_loss  Instances       Size\n"
     ]
    },
    {
     "name": "stderr",
     "output_type": "stream",
     "text": [
      "     11/300      6.99G      2.051      2.611      2.263         23        640: 100%|██████████| 12/12 [00:02<00:00,  5.37it/s]\n",
      "                 Class     Images  Instances      Box(P          R      mAP50  mAP50-95): 100%|██████████| 2/2 [00:00<00:00,  5.00it/s]"
     ]
    },
    {
     "name": "stdout",
     "output_type": "stream",
     "text": [
      "                   all         44        101      0.503     0.0526      0.001   0.000254\n"
     ]
    },
    {
     "name": "stderr",
     "output_type": "stream",
     "text": [
      "\n"
     ]
    },
    {
     "name": "stdout",
     "output_type": "stream",
     "text": [
      "\n",
      "      Epoch    GPU_mem   box_loss   cls_loss   dfl_loss  Instances       Size\n"
     ]
    },
    {
     "name": "stderr",
     "output_type": "stream",
     "text": [
      "     12/300         7G      2.024       2.61      2.277         22        640: 100%|██████████| 12/12 [00:02<00:00,  5.37it/s]\n",
      "                 Class     Images  Instances      Box(P          R      mAP50  mAP50-95): 100%|██████████| 2/2 [00:00<00:00,  4.30it/s]"
     ]
    },
    {
     "name": "stdout",
     "output_type": "stream",
     "text": [
      "                   all         44        101      0.508    0.00877    0.00113   0.000338\n"
     ]
    },
    {
     "name": "stderr",
     "output_type": "stream",
     "text": [
      "\n"
     ]
    },
    {
     "name": "stdout",
     "output_type": "stream",
     "text": [
      "\n",
      "      Epoch    GPU_mem   box_loss   cls_loss   dfl_loss  Instances       Size\n"
     ]
    },
    {
     "name": "stderr",
     "output_type": "stream",
     "text": [
      "     13/300      6.99G      1.986      2.558      2.289         14        640: 100%|██████████| 12/12 [00:02<00:00,  5.35it/s]\n",
      "                 Class     Images  Instances      Box(P          R      mAP50  mAP50-95): 100%|██████████| 2/2 [00:00<00:00,  5.74it/s]"
     ]
    },
    {
     "name": "stdout",
     "output_type": "stream",
     "text": [
      "                   all         44        101      0.519      0.105      0.011    0.00337\n"
     ]
    },
    {
     "name": "stderr",
     "output_type": "stream",
     "text": [
      "\n"
     ]
    },
    {
     "name": "stdout",
     "output_type": "stream",
     "text": [
      "\n",
      "      Epoch    GPU_mem   box_loss   cls_loss   dfl_loss  Instances       Size\n"
     ]
    },
    {
     "name": "stderr",
     "output_type": "stream",
     "text": [
      "     14/300      6.99G      1.937      2.503      2.237         20        640: 100%|██████████| 12/12 [00:02<00:00,  5.36it/s]\n",
      "                 Class     Images  Instances      Box(P          R      mAP50  mAP50-95): 100%|██████████| 2/2 [00:00<00:00,  5.03it/s]"
     ]
    },
    {
     "name": "stdout",
     "output_type": "stream",
     "text": [
      "                   all         44        101      0.002     0.0789    0.00123   0.000427\n"
     ]
    },
    {
     "name": "stderr",
     "output_type": "stream",
     "text": [
      "\n"
     ]
    },
    {
     "name": "stdout",
     "output_type": "stream",
     "text": [
      "\n",
      "      Epoch    GPU_mem   box_loss   cls_loss   dfl_loss  Instances       Size\n"
     ]
    },
    {
     "name": "stderr",
     "output_type": "stream",
     "text": [
      "     15/300      6.99G      1.999       2.52      2.257         13        640: 100%|██████████| 12/12 [00:02<00:00,  5.37it/s]\n",
      "                 Class     Images  Instances      Box(P          R      mAP50  mAP50-95): 100%|██████████| 2/2 [00:00<00:00,  5.03it/s]"
     ]
    },
    {
     "name": "stdout",
     "output_type": "stream",
     "text": [
      "                   all         44        101    0.00328      0.158    0.00216    0.00051\n"
     ]
    },
    {
     "name": "stderr",
     "output_type": "stream",
     "text": [
      "\n"
     ]
    },
    {
     "name": "stdout",
     "output_type": "stream",
     "text": [
      "\n",
      "      Epoch    GPU_mem   box_loss   cls_loss   dfl_loss  Instances       Size\n"
     ]
    },
    {
     "name": "stderr",
     "output_type": "stream",
     "text": [
      "     16/300      6.99G      1.993      2.519      2.239         13        640: 100%|██████████| 12/12 [00:02<00:00,  5.38it/s]\n",
      "                 Class     Images  Instances      Box(P          R      mAP50  mAP50-95): 100%|██████████| 2/2 [00:00<00:00,  5.13it/s]"
     ]
    },
    {
     "name": "stdout",
     "output_type": "stream",
     "text": [
      "                   all         44        101     0.0085     0.0227    0.00307   0.000721\n"
     ]
    },
    {
     "name": "stderr",
     "output_type": "stream",
     "text": [
      "\n"
     ]
    },
    {
     "name": "stdout",
     "output_type": "stream",
     "text": [
      "\n",
      "      Epoch    GPU_mem   box_loss   cls_loss   dfl_loss  Instances       Size\n"
     ]
    },
    {
     "name": "stderr",
     "output_type": "stream",
     "text": [
      "     17/300         7G      1.885      2.492      2.175         16        640: 100%|██████████| 12/12 [00:02<00:00,  5.39it/s]\n",
      "                 Class     Images  Instances      Box(P          R      mAP50  mAP50-95): 100%|██████████| 2/2 [00:00<00:00,  5.39it/s]"
     ]
    },
    {
     "name": "stdout",
     "output_type": "stream",
     "text": [
      "                   all         44        101      0.129      0.193      0.116      0.033\n"
     ]
    },
    {
     "name": "stderr",
     "output_type": "stream",
     "text": [
      "\n"
     ]
    },
    {
     "name": "stdout",
     "output_type": "stream",
     "text": [
      "\n",
      "      Epoch    GPU_mem   box_loss   cls_loss   dfl_loss  Instances       Size\n"
     ]
    },
    {
     "name": "stderr",
     "output_type": "stream",
     "text": [
      "     18/300         7G      1.882      2.452        2.2         12        640: 100%|██████████| 12/12 [00:02<00:00,  5.38it/s]\n",
      "                 Class     Images  Instances      Box(P          R      mAP50  mAP50-95): 100%|██████████| 2/2 [00:00<00:00,  5.19it/s]"
     ]
    },
    {
     "name": "stdout",
     "output_type": "stream",
     "text": [
      "                   all         44        101      0.104      0.189      0.087     0.0216\n"
     ]
    },
    {
     "name": "stderr",
     "output_type": "stream",
     "text": [
      "\n"
     ]
    },
    {
     "name": "stdout",
     "output_type": "stream",
     "text": [
      "\n",
      "      Epoch    GPU_mem   box_loss   cls_loss   dfl_loss  Instances       Size\n"
     ]
    },
    {
     "name": "stderr",
     "output_type": "stream",
     "text": [
      "     19/300      6.99G      1.921      2.447      2.231         23        640: 100%|██████████| 12/12 [00:02<00:00,  5.37it/s]\n",
      "                 Class     Images  Instances      Box(P          R      mAP50  mAP50-95): 100%|██████████| 2/2 [00:00<00:00,  5.94it/s]"
     ]
    },
    {
     "name": "stdout",
     "output_type": "stream",
     "text": [
      "                   all         44        101      0.802      0.298      0.293     0.0924\n"
     ]
    },
    {
     "name": "stderr",
     "output_type": "stream",
     "text": [
      "\n"
     ]
    },
    {
     "name": "stdout",
     "output_type": "stream",
     "text": [
      "\n",
      "      Epoch    GPU_mem   box_loss   cls_loss   dfl_loss  Instances       Size\n"
     ]
    },
    {
     "name": "stderr",
     "output_type": "stream",
     "text": [
      "     20/300         7G      1.934      2.399      2.254         17        640: 100%|██████████| 12/12 [00:02<00:00,  5.37it/s]\n",
      "                 Class     Images  Instances      Box(P          R      mAP50  mAP50-95): 100%|██████████| 2/2 [00:00<00:00,  5.15it/s]"
     ]
    },
    {
     "name": "stdout",
     "output_type": "stream",
     "text": [
      "                   all         44        101      0.777      0.211      0.255     0.0882\n"
     ]
    },
    {
     "name": "stderr",
     "output_type": "stream",
     "text": [
      "\n"
     ]
    },
    {
     "name": "stdout",
     "output_type": "stream",
     "text": [
      "\n",
      "      Epoch    GPU_mem   box_loss   cls_loss   dfl_loss  Instances       Size\n"
     ]
    },
    {
     "name": "stderr",
     "output_type": "stream",
     "text": [
      "     21/300      6.99G      1.854      2.418      2.164          9        640: 100%|██████████| 12/12 [00:02<00:00,  5.37it/s]\n",
      "                 Class     Images  Instances      Box(P          R      mAP50  mAP50-95): 100%|██████████| 2/2 [00:00<00:00,  5.24it/s]"
     ]
    },
    {
     "name": "stdout",
     "output_type": "stream",
     "text": [
      "                   all         44        101      0.777      0.237      0.252     0.0834\n"
     ]
    },
    {
     "name": "stderr",
     "output_type": "stream",
     "text": [
      "\n"
     ]
    },
    {
     "name": "stdout",
     "output_type": "stream",
     "text": [
      "\n",
      "      Epoch    GPU_mem   box_loss   cls_loss   dfl_loss  Instances       Size\n"
     ]
    },
    {
     "name": "stderr",
     "output_type": "stream",
     "text": [
      "     22/300      6.99G      1.867      2.362      2.147         17        640: 100%|██████████| 12/12 [00:02<00:00,  5.38it/s]\n",
      "                 Class     Images  Instances      Box(P          R      mAP50  mAP50-95): 100%|██████████| 2/2 [00:00<00:00,  5.30it/s]"
     ]
    },
    {
     "name": "stdout",
     "output_type": "stream",
     "text": [
      "                   all         44        101      0.688      0.174      0.155     0.0409\n"
     ]
    },
    {
     "name": "stderr",
     "output_type": "stream",
     "text": [
      "\n"
     ]
    },
    {
     "name": "stdout",
     "output_type": "stream",
     "text": [
      "\n",
      "      Epoch    GPU_mem   box_loss   cls_loss   dfl_loss  Instances       Size\n"
     ]
    },
    {
     "name": "stderr",
     "output_type": "stream",
     "text": [
      "     23/300         7G      1.913      2.352      2.158         13        640: 100%|██████████| 12/12 [00:02<00:00,  5.35it/s]\n",
      "                 Class     Images  Instances      Box(P          R      mAP50  mAP50-95): 100%|██████████| 2/2 [00:00<00:00,  5.22it/s]"
     ]
    },
    {
     "name": "stdout",
     "output_type": "stream",
     "text": [
      "                   all         44        101      0.748      0.241      0.264     0.0914\n"
     ]
    },
    {
     "name": "stderr",
     "output_type": "stream",
     "text": [
      "\n"
     ]
    },
    {
     "name": "stdout",
     "output_type": "stream",
     "text": [
      "\n",
      "      Epoch    GPU_mem   box_loss   cls_loss   dfl_loss  Instances       Size\n"
     ]
    },
    {
     "name": "stderr",
     "output_type": "stream",
     "text": [
      "     24/300      6.99G      1.868      2.356      2.184         18        640: 100%|██████████| 12/12 [00:02<00:00,  5.36it/s]\n",
      "                 Class     Images  Instances      Box(P          R      mAP50  mAP50-95): 100%|██████████| 2/2 [00:00<00:00,  5.24it/s]"
     ]
    },
    {
     "name": "stdout",
     "output_type": "stream",
     "text": [
      "                   all         44        101      0.668      0.307      0.257     0.0865\n"
     ]
    },
    {
     "name": "stderr",
     "output_type": "stream",
     "text": [
      "\n"
     ]
    },
    {
     "name": "stdout",
     "output_type": "stream",
     "text": [
      "\n",
      "      Epoch    GPU_mem   box_loss   cls_loss   dfl_loss  Instances       Size\n"
     ]
    },
    {
     "name": "stderr",
     "output_type": "stream",
     "text": [
      "     25/300      6.99G      1.877      2.346      2.173         26        640: 100%|██████████| 12/12 [00:02<00:00,  5.37it/s]\n",
      "                 Class     Images  Instances      Box(P          R      mAP50  mAP50-95): 100%|██████████| 2/2 [00:00<00:00,  5.24it/s]"
     ]
    },
    {
     "name": "stdout",
     "output_type": "stream",
     "text": [
      "                   all         44        101      0.669      0.268      0.233     0.0886\n"
     ]
    },
    {
     "name": "stderr",
     "output_type": "stream",
     "text": [
      "\n"
     ]
    },
    {
     "name": "stdout",
     "output_type": "stream",
     "text": [
      "\n",
      "      Epoch    GPU_mem   box_loss   cls_loss   dfl_loss  Instances       Size\n"
     ]
    },
    {
     "name": "stderr",
     "output_type": "stream",
     "text": [
      "     26/300      6.99G      1.846      2.332      2.161          9        640: 100%|██████████| 12/12 [00:02<00:00,  5.33it/s]\n",
      "                 Class     Images  Instances      Box(P          R      mAP50  mAP50-95): 100%|██████████| 2/2 [00:00<00:00,  5.17it/s]"
     ]
    },
    {
     "name": "stdout",
     "output_type": "stream",
     "text": [
      "                   all         44        101      0.804      0.272      0.308     0.0939\n"
     ]
    },
    {
     "name": "stderr",
     "output_type": "stream",
     "text": [
      "\n"
     ]
    },
    {
     "name": "stdout",
     "output_type": "stream",
     "text": [
      "\n",
      "      Epoch    GPU_mem   box_loss   cls_loss   dfl_loss  Instances       Size\n"
     ]
    },
    {
     "name": "stderr",
     "output_type": "stream",
     "text": [
      "     27/300      6.99G      1.786      2.303      2.109         11        640: 100%|██████████| 12/12 [00:02<00:00,  5.13it/s]\n",
      "                 Class     Images  Instances      Box(P          R      mAP50  mAP50-95): 100%|██████████| 2/2 [00:00<00:00,  6.33it/s]"
     ]
    },
    {
     "name": "stdout",
     "output_type": "stream",
     "text": [
      "                   all         44        101      0.812      0.307      0.351       0.12\n"
     ]
    },
    {
     "name": "stderr",
     "output_type": "stream",
     "text": [
      "\n"
     ]
    },
    {
     "name": "stdout",
     "output_type": "stream",
     "text": [
      "\n",
      "      Epoch    GPU_mem   box_loss   cls_loss   dfl_loss  Instances       Size\n"
     ]
    },
    {
     "name": "stderr",
     "output_type": "stream",
     "text": [
      "     28/300         7G      1.818      2.208      2.118         24        640: 100%|██████████| 12/12 [00:02<00:00,  5.40it/s]\n",
      "                 Class     Images  Instances      Box(P          R      mAP50  mAP50-95): 100%|██████████| 2/2 [00:00<00:00,  5.98it/s]"
     ]
    },
    {
     "name": "stdout",
     "output_type": "stream",
     "text": [
      "                   all         44        101      0.761      0.228      0.264     0.0932\n"
     ]
    },
    {
     "name": "stderr",
     "output_type": "stream",
     "text": [
      "\n"
     ]
    },
    {
     "name": "stdout",
     "output_type": "stream",
     "text": [
      "\n",
      "      Epoch    GPU_mem   box_loss   cls_loss   dfl_loss  Instances       Size\n"
     ]
    },
    {
     "name": "stderr",
     "output_type": "stream",
     "text": [
      "     29/300      6.99G      1.842      2.226      2.093         22        640: 100%|██████████| 12/12 [00:02<00:00,  5.41it/s]\n",
      "                 Class     Images  Instances      Box(P          R      mAP50  mAP50-95): 100%|██████████| 2/2 [00:00<00:00,  5.29it/s]"
     ]
    },
    {
     "name": "stdout",
     "output_type": "stream",
     "text": [
      "                   all         44        101      0.661      0.263       0.17     0.0605\n"
     ]
    },
    {
     "name": "stderr",
     "output_type": "stream",
     "text": [
      "\n"
     ]
    },
    {
     "name": "stdout",
     "output_type": "stream",
     "text": [
      "\n",
      "      Epoch    GPU_mem   box_loss   cls_loss   dfl_loss  Instances       Size\n"
     ]
    },
    {
     "name": "stderr",
     "output_type": "stream",
     "text": [
      "     30/300         7G        1.8      2.216      2.103         12        640: 100%|██████████| 12/12 [00:02<00:00,  5.39it/s]\n",
      "                 Class     Images  Instances      Box(P          R      mAP50  mAP50-95): 100%|██████████| 2/2 [00:00<00:00,  5.16it/s]"
     ]
    },
    {
     "name": "stdout",
     "output_type": "stream",
     "text": [
      "                   all         44        101      0.692      0.289      0.221     0.0709\n"
     ]
    },
    {
     "name": "stderr",
     "output_type": "stream",
     "text": [
      "\n"
     ]
    },
    {
     "name": "stdout",
     "output_type": "stream",
     "text": [
      "\n",
      "      Epoch    GPU_mem   box_loss   cls_loss   dfl_loss  Instances       Size\n"
     ]
    },
    {
     "name": "stderr",
     "output_type": "stream",
     "text": [
      "     31/300      6.99G      1.803        2.3      2.124         16        640: 100%|██████████| 12/12 [00:02<00:00,  5.39it/s]\n",
      "                 Class     Images  Instances      Box(P          R      mAP50  mAP50-95): 100%|██████████| 2/2 [00:00<00:00,  5.68it/s]"
     ]
    },
    {
     "name": "stdout",
     "output_type": "stream",
     "text": [
      "                   all         44        101      0.644      0.132       0.11       0.04\n"
     ]
    },
    {
     "name": "stderr",
     "output_type": "stream",
     "text": [
      "\n"
     ]
    },
    {
     "name": "stdout",
     "output_type": "stream",
     "text": [
      "\n",
      "      Epoch    GPU_mem   box_loss   cls_loss   dfl_loss  Instances       Size\n"
     ]
    },
    {
     "name": "stderr",
     "output_type": "stream",
     "text": [
      "     32/300      6.99G      1.755      2.273      2.119          9        640: 100%|██████████| 12/12 [00:02<00:00,  5.31it/s]\n",
      "                 Class     Images  Instances      Box(P          R      mAP50  mAP50-95): 100%|██████████| 2/2 [00:00<00:00,  5.14it/s]"
     ]
    },
    {
     "name": "stdout",
     "output_type": "stream",
     "text": [
      "                   all         44        101      0.686      0.167      0.148     0.0432\n"
     ]
    },
    {
     "name": "stderr",
     "output_type": "stream",
     "text": [
      "\n"
     ]
    },
    {
     "name": "stdout",
     "output_type": "stream",
     "text": [
      "\n",
      "      Epoch    GPU_mem   box_loss   cls_loss   dfl_loss  Instances       Size\n"
     ]
    },
    {
     "name": "stderr",
     "output_type": "stream",
     "text": [
      "     33/300      6.99G      1.811      2.242      2.167         34        640: 100%|██████████| 12/12 [00:02<00:00,  5.25it/s]\n",
      "                 Class     Images  Instances      Box(P          R      mAP50  mAP50-95): 100%|██████████| 2/2 [00:00<00:00,  6.03it/s]"
     ]
    },
    {
     "name": "stdout",
     "output_type": "stream",
     "text": [
      "                   all         44        101      0.758      0.298      0.318      0.131\n"
     ]
    },
    {
     "name": "stderr",
     "output_type": "stream",
     "text": [
      "\n"
     ]
    },
    {
     "name": "stdout",
     "output_type": "stream",
     "text": [
      "\n",
      "      Epoch    GPU_mem   box_loss   cls_loss   dfl_loss  Instances       Size\n"
     ]
    },
    {
     "name": "stderr",
     "output_type": "stream",
     "text": [
      "     34/300      6.99G       1.79      2.255      2.093         22        640: 100%|██████████| 12/12 [00:02<00:00,  5.38it/s]\n",
      "                 Class     Images  Instances      Box(P          R      mAP50  mAP50-95): 100%|██████████| 2/2 [00:00<00:00,  5.23it/s]"
     ]
    },
    {
     "name": "stdout",
     "output_type": "stream",
     "text": [
      "                   all         44        101      0.773      0.252      0.272      0.101\n"
     ]
    },
    {
     "name": "stderr",
     "output_type": "stream",
     "text": [
      "\n"
     ]
    },
    {
     "name": "stdout",
     "output_type": "stream",
     "text": [
      "\n",
      "      Epoch    GPU_mem   box_loss   cls_loss   dfl_loss  Instances       Size\n"
     ]
    },
    {
     "name": "stderr",
     "output_type": "stream",
     "text": [
      "     35/300      6.99G      1.798      2.156      2.087         18        640: 100%|██████████| 12/12 [00:02<00:00,  5.37it/s]\n",
      "                 Class     Images  Instances      Box(P          R      mAP50  mAP50-95): 100%|██████████| 2/2 [00:00<00:00,  5.08it/s]"
     ]
    },
    {
     "name": "stdout",
     "output_type": "stream",
     "text": [
      "                   all         44        101      0.216      0.346      0.211     0.0899\n"
     ]
    },
    {
     "name": "stderr",
     "output_type": "stream",
     "text": [
      "\n"
     ]
    },
    {
     "name": "stdout",
     "output_type": "stream",
     "text": [
      "\n",
      "      Epoch    GPU_mem   box_loss   cls_loss   dfl_loss  Instances       Size\n"
     ]
    },
    {
     "name": "stderr",
     "output_type": "stream",
     "text": [
      "     36/300         7G       1.79      2.212      2.083         14        640: 100%|██████████| 12/12 [00:02<00:00,  5.35it/s]\n",
      "                 Class     Images  Instances      Box(P          R      mAP50  mAP50-95): 100%|██████████| 2/2 [00:00<00:00,  5.00it/s]"
     ]
    },
    {
     "name": "stdout",
     "output_type": "stream",
     "text": [
      "                   all         44        101      0.841      0.302      0.381      0.143\n"
     ]
    },
    {
     "name": "stderr",
     "output_type": "stream",
     "text": [
      "\n"
     ]
    },
    {
     "name": "stdout",
     "output_type": "stream",
     "text": [
      "\n",
      "      Epoch    GPU_mem   box_loss   cls_loss   dfl_loss  Instances       Size\n"
     ]
    },
    {
     "name": "stderr",
     "output_type": "stream",
     "text": [
      "     37/300         7G       1.76      2.158      2.083         23        640: 100%|██████████| 12/12 [00:02<00:00,  5.35it/s]\n",
      "                 Class     Images  Instances      Box(P          R      mAP50  mAP50-95): 100%|██████████| 2/2 [00:00<00:00,  5.85it/s]"
     ]
    },
    {
     "name": "stdout",
     "output_type": "stream",
     "text": [
      "                   all         44        101      0.721      0.333      0.312      0.103\n"
     ]
    },
    {
     "name": "stderr",
     "output_type": "stream",
     "text": [
      "\n"
     ]
    },
    {
     "name": "stdout",
     "output_type": "stream",
     "text": [
      "\n",
      "      Epoch    GPU_mem   box_loss   cls_loss   dfl_loss  Instances       Size\n"
     ]
    },
    {
     "name": "stderr",
     "output_type": "stream",
     "text": [
      "     38/300         7G      1.762      2.192      2.075         16        640: 100%|██████████| 12/12 [00:02<00:00,  5.32it/s]\n",
      "                 Class     Images  Instances      Box(P          R      mAP50  mAP50-95): 100%|██████████| 2/2 [00:00<00:00,  5.64it/s]"
     ]
    },
    {
     "name": "stdout",
     "output_type": "stream",
     "text": [
      "                   all         44        101      0.775      0.311       0.29     0.0904\n"
     ]
    },
    {
     "name": "stderr",
     "output_type": "stream",
     "text": [
      "\n"
     ]
    },
    {
     "name": "stdout",
     "output_type": "stream",
     "text": [
      "\n",
      "      Epoch    GPU_mem   box_loss   cls_loss   dfl_loss  Instances       Size\n"
     ]
    },
    {
     "name": "stderr",
     "output_type": "stream",
     "text": [
      "     39/300      6.99G      1.731       2.05      2.019         19        640: 100%|██████████| 12/12 [00:02<00:00,  5.34it/s]\n",
      "                 Class     Images  Instances      Box(P          R      mAP50  mAP50-95): 100%|██████████| 2/2 [00:00<00:00,  5.88it/s]"
     ]
    },
    {
     "name": "stdout",
     "output_type": "stream",
     "text": [
      "                   all         44        101      0.688      0.263      0.205     0.0658\n"
     ]
    },
    {
     "name": "stderr",
     "output_type": "stream",
     "text": [
      "\n"
     ]
    },
    {
     "name": "stdout",
     "output_type": "stream",
     "text": [
      "\n",
      "      Epoch    GPU_mem   box_loss   cls_loss   dfl_loss  Instances       Size\n"
     ]
    },
    {
     "name": "stderr",
     "output_type": "stream",
     "text": [
      "     40/300      6.99G      1.733      2.152      1.999         31        640: 100%|██████████| 12/12 [00:02<00:00,  5.36it/s]\n",
      "                 Class     Images  Instances      Box(P          R      mAP50  mAP50-95): 100%|██████████| 2/2 [00:00<00:00,  5.77it/s]"
     ]
    },
    {
     "name": "stdout",
     "output_type": "stream",
     "text": [
      "                   all         44        101        0.7      0.281      0.276      0.102\n"
     ]
    },
    {
     "name": "stderr",
     "output_type": "stream",
     "text": [
      "\n"
     ]
    },
    {
     "name": "stdout",
     "output_type": "stream",
     "text": [
      "\n",
      "      Epoch    GPU_mem   box_loss   cls_loss   dfl_loss  Instances       Size\n"
     ]
    },
    {
     "name": "stderr",
     "output_type": "stream",
     "text": [
      "     41/300      6.99G      1.775      2.147      2.041         23        640: 100%|██████████| 12/12 [00:02<00:00,  5.31it/s]\n",
      "                 Class     Images  Instances      Box(P          R      mAP50  mAP50-95): 100%|██████████| 2/2 [00:00<00:00,  5.09it/s]"
     ]
    },
    {
     "name": "stdout",
     "output_type": "stream",
     "text": [
      "                   all         44        101      0.704      0.241      0.238     0.0882\n"
     ]
    },
    {
     "name": "stderr",
     "output_type": "stream",
     "text": [
      "\n"
     ]
    },
    {
     "name": "stdout",
     "output_type": "stream",
     "text": [
      "\n",
      "      Epoch    GPU_mem   box_loss   cls_loss   dfl_loss  Instances       Size\n"
     ]
    },
    {
     "name": "stderr",
     "output_type": "stream",
     "text": [
      "     42/300      6.99G      1.761      2.108       2.05         25        640: 100%|██████████| 12/12 [00:02<00:00,  5.37it/s]\n",
      "                 Class     Images  Instances      Box(P          R      mAP50  mAP50-95): 100%|██████████| 2/2 [00:00<00:00,  6.00it/s]"
     ]
    },
    {
     "name": "stdout",
     "output_type": "stream",
     "text": [
      "                   all         44        101      0.819      0.377      0.385      0.155\n"
     ]
    },
    {
     "name": "stderr",
     "output_type": "stream",
     "text": [
      "\n"
     ]
    },
    {
     "name": "stdout",
     "output_type": "stream",
     "text": [
      "\n",
      "      Epoch    GPU_mem   box_loss   cls_loss   dfl_loss  Instances       Size\n"
     ]
    },
    {
     "name": "stderr",
     "output_type": "stream",
     "text": [
      "     43/300      6.99G      1.739      2.106      2.003         15        640: 100%|██████████| 12/12 [00:02<00:00,  5.35it/s]\n",
      "                 Class     Images  Instances      Box(P          R      mAP50  mAP50-95): 100%|██████████| 2/2 [00:00<00:00,  6.25it/s]"
     ]
    },
    {
     "name": "stdout",
     "output_type": "stream",
     "text": [
      "                   all         44        101      0.843      0.382      0.451      0.175\n"
     ]
    },
    {
     "name": "stderr",
     "output_type": "stream",
     "text": [
      "\n"
     ]
    },
    {
     "name": "stdout",
     "output_type": "stream",
     "text": [
      "\n",
      "      Epoch    GPU_mem   box_loss   cls_loss   dfl_loss  Instances       Size\n"
     ]
    },
    {
     "name": "stderr",
     "output_type": "stream",
     "text": [
      "     44/300      6.99G      1.698      2.058       2.01         22        640: 100%|██████████| 12/12 [00:02<00:00,  5.36it/s]\n",
      "                 Class     Images  Instances      Box(P          R      mAP50  mAP50-95): 100%|██████████| 2/2 [00:00<00:00,  6.17it/s]"
     ]
    },
    {
     "name": "stdout",
     "output_type": "stream",
     "text": [
      "                   all         44        101      0.861      0.364      0.439      0.184\n"
     ]
    },
    {
     "name": "stderr",
     "output_type": "stream",
     "text": [
      "\n"
     ]
    },
    {
     "name": "stdout",
     "output_type": "stream",
     "text": [
      "\n",
      "      Epoch    GPU_mem   box_loss   cls_loss   dfl_loss  Instances       Size\n"
     ]
    },
    {
     "name": "stderr",
     "output_type": "stream",
     "text": [
      "     45/300      6.99G      1.707      2.088      2.005         18        640: 100%|██████████| 12/12 [00:02<00:00,  5.34it/s]\n",
      "                 Class     Images  Instances      Box(P          R      mAP50  mAP50-95): 100%|██████████| 2/2 [00:00<00:00,  5.98it/s]"
     ]
    },
    {
     "name": "stdout",
     "output_type": "stream",
     "text": [
      "                   all         44        101      0.336      0.383      0.326       0.12\n"
     ]
    },
    {
     "name": "stderr",
     "output_type": "stream",
     "text": [
      "\n"
     ]
    },
    {
     "name": "stdout",
     "output_type": "stream",
     "text": [
      "\n",
      "      Epoch    GPU_mem   box_loss   cls_loss   dfl_loss  Instances       Size\n"
     ]
    },
    {
     "name": "stderr",
     "output_type": "stream",
     "text": [
      "     46/300      6.99G      1.693      2.021      2.006         18        640: 100%|██████████| 12/12 [00:02<00:00,  5.40it/s]\n",
      "                 Class     Images  Instances      Box(P          R      mAP50  mAP50-95): 100%|██████████| 2/2 [00:00<00:00,  6.08it/s]"
     ]
    },
    {
     "name": "stdout",
     "output_type": "stream",
     "text": [
      "                   all         44        101      0.848       0.36      0.407      0.143\n"
     ]
    },
    {
     "name": "stderr",
     "output_type": "stream",
     "text": [
      "\n"
     ]
    },
    {
     "name": "stdout",
     "output_type": "stream",
     "text": [
      "\n",
      "      Epoch    GPU_mem   box_loss   cls_loss   dfl_loss  Instances       Size\n"
     ]
    },
    {
     "name": "stderr",
     "output_type": "stream",
     "text": [
      "     47/300         7G      1.681      2.052      1.981         15        640: 100%|██████████| 12/12 [00:02<00:00,  5.36it/s]\n",
      "                 Class     Images  Instances      Box(P          R      mAP50  mAP50-95): 100%|██████████| 2/2 [00:00<00:00,  5.13it/s]"
     ]
    },
    {
     "name": "stdout",
     "output_type": "stream",
     "text": [
      "                   all         44        101      0.916      0.386      0.475       0.16\n"
     ]
    },
    {
     "name": "stderr",
     "output_type": "stream",
     "text": [
      "\n"
     ]
    },
    {
     "name": "stdout",
     "output_type": "stream",
     "text": [
      "\n",
      "      Epoch    GPU_mem   box_loss   cls_loss   dfl_loss  Instances       Size\n"
     ]
    },
    {
     "name": "stderr",
     "output_type": "stream",
     "text": [
      "     48/300      6.99G      1.671      2.003      1.983         13        640: 100%|██████████| 12/12 [00:02<00:00,  5.38it/s]\n",
      "                 Class     Images  Instances      Box(P          R      mAP50  mAP50-95): 100%|██████████| 2/2 [00:00<00:00,  5.15it/s]"
     ]
    },
    {
     "name": "stdout",
     "output_type": "stream",
     "text": [
      "                   all         44        101      0.365      0.427      0.407      0.149\n"
     ]
    },
    {
     "name": "stderr",
     "output_type": "stream",
     "text": [
      "\n"
     ]
    },
    {
     "name": "stdout",
     "output_type": "stream",
     "text": [
      "\n",
      "      Epoch    GPU_mem   box_loss   cls_loss   dfl_loss  Instances       Size\n"
     ]
    },
    {
     "name": "stderr",
     "output_type": "stream",
     "text": [
      "     49/300      6.99G      1.644      1.956      1.963         14        640: 100%|██████████| 12/12 [00:02<00:00,  5.39it/s]\n",
      "                 Class     Images  Instances      Box(P          R      mAP50  mAP50-95): 100%|██████████| 2/2 [00:00<00:00,  5.17it/s]"
     ]
    },
    {
     "name": "stdout",
     "output_type": "stream",
     "text": [
      "                   all         44        101      0.266      0.351      0.364      0.131\n"
     ]
    },
    {
     "name": "stderr",
     "output_type": "stream",
     "text": [
      "\n"
     ]
    },
    {
     "name": "stdout",
     "output_type": "stream",
     "text": [
      "\n",
      "      Epoch    GPU_mem   box_loss   cls_loss   dfl_loss  Instances       Size\n"
     ]
    },
    {
     "name": "stderr",
     "output_type": "stream",
     "text": [
      "     50/300      6.99G      1.699      1.988      2.017         18        640: 100%|██████████| 12/12 [00:02<00:00,  5.38it/s]\n",
      "                 Class     Images  Instances      Box(P          R      mAP50  mAP50-95): 100%|██████████| 2/2 [00:00<00:00,  5.51it/s]"
     ]
    },
    {
     "name": "stdout",
     "output_type": "stream",
     "text": [
      "                   all         44        101      0.315      0.412      0.394      0.165\n"
     ]
    },
    {
     "name": "stderr",
     "output_type": "stream",
     "text": [
      "\n"
     ]
    },
    {
     "name": "stdout",
     "output_type": "stream",
     "text": [
      "\n",
      "      Epoch    GPU_mem   box_loss   cls_loss   dfl_loss  Instances       Size\n"
     ]
    },
    {
     "name": "stderr",
     "output_type": "stream",
     "text": [
      "     51/300      6.99G      1.667       2.04      2.005         18        640: 100%|██████████| 12/12 [00:02<00:00,  5.40it/s]\n",
      "                 Class     Images  Instances      Box(P          R      mAP50  mAP50-95): 100%|██████████| 2/2 [00:00<00:00,  5.75it/s]"
     ]
    },
    {
     "name": "stdout",
     "output_type": "stream",
     "text": [
      "                   all         44        101        0.3      0.516      0.412      0.143\n"
     ]
    },
    {
     "name": "stderr",
     "output_type": "stream",
     "text": [
      "\n"
     ]
    },
    {
     "name": "stdout",
     "output_type": "stream",
     "text": [
      "\n",
      "      Epoch    GPU_mem   box_loss   cls_loss   dfl_loss  Instances       Size\n"
     ]
    },
    {
     "name": "stderr",
     "output_type": "stream",
     "text": [
      "     52/300      6.99G      1.675      1.991       1.98         20        640: 100%|██████████| 12/12 [00:02<00:00,  5.35it/s]\n",
      "                 Class     Images  Instances      Box(P          R      mAP50  mAP50-95): 100%|██████████| 2/2 [00:00<00:00,  6.28it/s]"
     ]
    },
    {
     "name": "stdout",
     "output_type": "stream",
     "text": [
      "                   all         44        101      0.378      0.427      0.444      0.167\n"
     ]
    },
    {
     "name": "stderr",
     "output_type": "stream",
     "text": [
      "\n"
     ]
    },
    {
     "name": "stdout",
     "output_type": "stream",
     "text": [
      "\n",
      "      Epoch    GPU_mem   box_loss   cls_loss   dfl_loss  Instances       Size\n"
     ]
    },
    {
     "name": "stderr",
     "output_type": "stream",
     "text": [
      "     53/300      6.99G       1.74      1.986      2.039         19        640: 100%|██████████| 12/12 [00:02<00:00,  5.38it/s]\n",
      "                 Class     Images  Instances      Box(P          R      mAP50  mAP50-95): 100%|██████████| 2/2 [00:00<00:00,  6.24it/s]"
     ]
    },
    {
     "name": "stdout",
     "output_type": "stream",
     "text": [
      "                   all         44        101      0.444      0.365      0.405      0.134\n"
     ]
    },
    {
     "name": "stderr",
     "output_type": "stream",
     "text": [
      "\n"
     ]
    },
    {
     "name": "stdout",
     "output_type": "stream",
     "text": [
      "\n",
      "      Epoch    GPU_mem   box_loss   cls_loss   dfl_loss  Instances       Size\n"
     ]
    },
    {
     "name": "stderr",
     "output_type": "stream",
     "text": [
      "     54/300      6.99G      1.657      1.961      1.963         19        640: 100%|██████████| 12/12 [00:02<00:00,  5.35it/s]\n",
      "                 Class     Images  Instances      Box(P          R      mAP50  mAP50-95): 100%|██████████| 2/2 [00:00<00:00,  6.37it/s]"
     ]
    },
    {
     "name": "stdout",
     "output_type": "stream",
     "text": [
      "                   all         44        101      0.807      0.349      0.395      0.137\n"
     ]
    },
    {
     "name": "stderr",
     "output_type": "stream",
     "text": [
      "\n"
     ]
    },
    {
     "name": "stdout",
     "output_type": "stream",
     "text": [
      "\n",
      "      Epoch    GPU_mem   box_loss   cls_loss   dfl_loss  Instances       Size\n"
     ]
    },
    {
     "name": "stderr",
     "output_type": "stream",
     "text": [
      "     55/300      6.99G      1.702      2.041      2.037         12        640: 100%|██████████| 12/12 [00:02<00:00,  5.37it/s]\n",
      "                 Class     Images  Instances      Box(P          R      mAP50  mAP50-95): 100%|██████████| 2/2 [00:00<00:00,  6.15it/s]"
     ]
    },
    {
     "name": "stdout",
     "output_type": "stream",
     "text": [
      "                   all         44        101      0.286      0.503      0.381       0.13\n"
     ]
    },
    {
     "name": "stderr",
     "output_type": "stream",
     "text": [
      "\n"
     ]
    },
    {
     "name": "stdout",
     "output_type": "stream",
     "text": [
      "\n",
      "      Epoch    GPU_mem   box_loss   cls_loss   dfl_loss  Instances       Size\n"
     ]
    },
    {
     "name": "stderr",
     "output_type": "stream",
     "text": [
      "     56/300         7G        1.6      1.904      1.954         18        640: 100%|██████████| 12/12 [00:02<00:00,  5.37it/s]\n",
      "                 Class     Images  Instances      Box(P          R      mAP50  mAP50-95): 100%|██████████| 2/2 [00:00<00:00,  6.28it/s]"
     ]
    },
    {
     "name": "stdout",
     "output_type": "stream",
     "text": [
      "                   all         44        101      0.341      0.478      0.396      0.134\n"
     ]
    },
    {
     "name": "stderr",
     "output_type": "stream",
     "text": [
      "\n"
     ]
    },
    {
     "name": "stdout",
     "output_type": "stream",
     "text": [
      "\n",
      "      Epoch    GPU_mem   box_loss   cls_loss   dfl_loss  Instances       Size\n"
     ]
    },
    {
     "name": "stderr",
     "output_type": "stream",
     "text": [
      "     57/300      6.99G      1.682      1.943      1.968         28        640: 100%|██████████| 12/12 [00:02<00:00,  5.31it/s]\n",
      "                 Class     Images  Instances      Box(P          R      mAP50  mAP50-95): 100%|██████████| 2/2 [00:00<00:00,  6.25it/s]"
     ]
    },
    {
     "name": "stdout",
     "output_type": "stream",
     "text": [
      "                   all         44        101      0.287      0.492      0.404      0.152\n"
     ]
    },
    {
     "name": "stderr",
     "output_type": "stream",
     "text": [
      "\n"
     ]
    },
    {
     "name": "stdout",
     "output_type": "stream",
     "text": [
      "\n",
      "      Epoch    GPU_mem   box_loss   cls_loss   dfl_loss  Instances       Size\n"
     ]
    },
    {
     "name": "stderr",
     "output_type": "stream",
     "text": [
      "     58/300      6.99G      1.659      1.912      1.978         27        640: 100%|██████████| 12/12 [00:02<00:00,  5.37it/s]\n",
      "                 Class     Images  Instances      Box(P          R      mAP50  mAP50-95): 100%|██████████| 2/2 [00:00<00:00,  6.44it/s]"
     ]
    },
    {
     "name": "stdout",
     "output_type": "stream",
     "text": [
      "                   all         44        101      0.372        0.4      0.376      0.127\n"
     ]
    },
    {
     "name": "stderr",
     "output_type": "stream",
     "text": [
      "\n"
     ]
    },
    {
     "name": "stdout",
     "output_type": "stream",
     "text": [
      "\n",
      "      Epoch    GPU_mem   box_loss   cls_loss   dfl_loss  Instances       Size\n"
     ]
    },
    {
     "name": "stderr",
     "output_type": "stream",
     "text": [
      "     59/300      6.99G      1.643      1.878      1.962         17        640: 100%|██████████| 12/12 [00:02<00:00,  5.38it/s]\n",
      "                 Class     Images  Instances      Box(P          R      mAP50  mAP50-95): 100%|██████████| 2/2 [00:00<00:00,  5.53it/s]"
     ]
    },
    {
     "name": "stdout",
     "output_type": "stream",
     "text": [
      "                   all         44        101      0.364      0.413      0.376      0.133\n"
     ]
    },
    {
     "name": "stderr",
     "output_type": "stream",
     "text": [
      "\n"
     ]
    },
    {
     "name": "stdout",
     "output_type": "stream",
     "text": [
      "\n",
      "      Epoch    GPU_mem   box_loss   cls_loss   dfl_loss  Instances       Size\n"
     ]
    },
    {
     "name": "stderr",
     "output_type": "stream",
     "text": [
      "     60/300      6.99G      1.628      1.856      1.952         17        640: 100%|██████████| 12/12 [00:02<00:00,  5.40it/s]\n",
      "                 Class     Images  Instances      Box(P          R      mAP50  mAP50-95): 100%|██████████| 2/2 [00:00<00:00,  5.31it/s]"
     ]
    },
    {
     "name": "stdout",
     "output_type": "stream",
     "text": [
      "                   all         44        101      0.281      0.497      0.397       0.15\n"
     ]
    },
    {
     "name": "stderr",
     "output_type": "stream",
     "text": [
      "\n"
     ]
    },
    {
     "name": "stdout",
     "output_type": "stream",
     "text": [
      "\n",
      "      Epoch    GPU_mem   box_loss   cls_loss   dfl_loss  Instances       Size\n"
     ]
    },
    {
     "name": "stderr",
     "output_type": "stream",
     "text": [
      "     61/300      6.99G      1.635      1.864      1.947         15        640: 100%|██████████| 12/12 [00:02<00:00,  5.27it/s]\n",
      "                 Class     Images  Instances      Box(P          R      mAP50  mAP50-95): 100%|██████████| 2/2 [00:00<00:00,  5.22it/s]"
     ]
    },
    {
     "name": "stdout",
     "output_type": "stream",
     "text": [
      "                   all         44        101      0.339      0.408      0.381      0.142\n"
     ]
    },
    {
     "name": "stderr",
     "output_type": "stream",
     "text": [
      "\n"
     ]
    },
    {
     "name": "stdout",
     "output_type": "stream",
     "text": [
      "\n",
      "      Epoch    GPU_mem   box_loss   cls_loss   dfl_loss  Instances       Size\n"
     ]
    },
    {
     "name": "stderr",
     "output_type": "stream",
     "text": [
      "     62/300         7G      1.614      1.819      1.911         15        640: 100%|██████████| 12/12 [00:02<00:00,  5.38it/s]\n",
      "                 Class     Images  Instances      Box(P          R      mAP50  mAP50-95): 100%|██████████| 2/2 [00:00<00:00,  5.17it/s]"
     ]
    },
    {
     "name": "stdout",
     "output_type": "stream",
     "text": [
      "                   all         44        101      0.453      0.412      0.421      0.163\n"
     ]
    },
    {
     "name": "stderr",
     "output_type": "stream",
     "text": [
      "\n"
     ]
    },
    {
     "name": "stdout",
     "output_type": "stream",
     "text": [
      "\n",
      "      Epoch    GPU_mem   box_loss   cls_loss   dfl_loss  Instances       Size\n"
     ]
    },
    {
     "name": "stderr",
     "output_type": "stream",
     "text": [
      "     63/300         7G      1.663      1.864      1.973         19        640: 100%|██████████| 12/12 [00:02<00:00,  5.27it/s]\n",
      "                 Class     Images  Instances      Box(P          R      mAP50  mAP50-95): 100%|██████████| 2/2 [00:00<00:00,  6.23it/s]"
     ]
    },
    {
     "name": "stdout",
     "output_type": "stream",
     "text": [
      "                   all         44        101      0.347      0.483      0.394      0.165\n"
     ]
    },
    {
     "name": "stderr",
     "output_type": "stream",
     "text": [
      "\n"
     ]
    },
    {
     "name": "stdout",
     "output_type": "stream",
     "text": [
      "\n",
      "      Epoch    GPU_mem   box_loss   cls_loss   dfl_loss  Instances       Size\n"
     ]
    },
    {
     "name": "stderr",
     "output_type": "stream",
     "text": [
      "     64/300      6.99G      1.589      1.903      1.927          8        640: 100%|██████████| 12/12 [00:02<00:00,  5.31it/s]\n",
      "                 Class     Images  Instances      Box(P          R      mAP50  mAP50-95): 100%|██████████| 2/2 [00:00<00:00,  6.29it/s]"
     ]
    },
    {
     "name": "stdout",
     "output_type": "stream",
     "text": [
      "                   all         44        101      0.362      0.406      0.381       0.12\n"
     ]
    },
    {
     "name": "stderr",
     "output_type": "stream",
     "text": [
      "\n"
     ]
    },
    {
     "name": "stdout",
     "output_type": "stream",
     "text": [
      "\n",
      "      Epoch    GPU_mem   box_loss   cls_loss   dfl_loss  Instances       Size\n"
     ]
    },
    {
     "name": "stderr",
     "output_type": "stream",
     "text": [
      "     65/300      6.99G      1.611      1.846      1.906         13        640: 100%|██████████| 12/12 [00:02<00:00,  5.30it/s]\n",
      "                 Class     Images  Instances      Box(P          R      mAP50  mAP50-95): 100%|██████████| 2/2 [00:00<00:00,  6.13it/s]"
     ]
    },
    {
     "name": "stdout",
     "output_type": "stream",
     "text": [
      "                   all         44        101      0.314      0.556      0.461       0.17\n"
     ]
    },
    {
     "name": "stderr",
     "output_type": "stream",
     "text": [
      "\n"
     ]
    },
    {
     "name": "stdout",
     "output_type": "stream",
     "text": [
      "\n",
      "      Epoch    GPU_mem   box_loss   cls_loss   dfl_loss  Instances       Size\n"
     ]
    },
    {
     "name": "stderr",
     "output_type": "stream",
     "text": [
      "     66/300      6.99G      1.594      1.857      1.897         22        640: 100%|██████████| 12/12 [00:02<00:00,  5.39it/s]\n",
      "                 Class     Images  Instances      Box(P          R      mAP50  mAP50-95): 100%|██████████| 2/2 [00:00<00:00,  6.34it/s]"
     ]
    },
    {
     "name": "stdout",
     "output_type": "stream",
     "text": [
      "                   all         44        101      0.541       0.38      0.406      0.139\n"
     ]
    },
    {
     "name": "stderr",
     "output_type": "stream",
     "text": [
      "\n"
     ]
    },
    {
     "name": "stdout",
     "output_type": "stream",
     "text": [
      "\n",
      "      Epoch    GPU_mem   box_loss   cls_loss   dfl_loss  Instances       Size\n"
     ]
    },
    {
     "name": "stderr",
     "output_type": "stream",
     "text": [
      "     67/300      6.99G      1.597      1.745      1.921         19        640: 100%|██████████| 12/12 [00:02<00:00,  5.38it/s]\n",
      "                 Class     Images  Instances      Box(P          R      mAP50  mAP50-95): 100%|██████████| 2/2 [00:00<00:00,  6.13it/s]"
     ]
    },
    {
     "name": "stdout",
     "output_type": "stream",
     "text": [
      "                   all         44        101      0.931       0.36      0.471      0.169\n"
     ]
    },
    {
     "name": "stderr",
     "output_type": "stream",
     "text": [
      "\n"
     ]
    },
    {
     "name": "stdout",
     "output_type": "stream",
     "text": [
      "\n",
      "      Epoch    GPU_mem   box_loss   cls_loss   dfl_loss  Instances       Size\n"
     ]
    },
    {
     "name": "stderr",
     "output_type": "stream",
     "text": [
      "     68/300      6.99G      1.599      1.805      1.917         13        640: 100%|██████████| 12/12 [00:02<00:00,  5.35it/s]\n",
      "                 Class     Images  Instances      Box(P          R      mAP50  mAP50-95): 100%|██████████| 2/2 [00:00<00:00,  6.29it/s]"
     ]
    },
    {
     "name": "stdout",
     "output_type": "stream",
     "text": [
      "                   all         44        101      0.336      0.435      0.408      0.143\n"
     ]
    },
    {
     "name": "stderr",
     "output_type": "stream",
     "text": [
      "\n"
     ]
    },
    {
     "name": "stdout",
     "output_type": "stream",
     "text": [
      "\n",
      "      Epoch    GPU_mem   box_loss   cls_loss   dfl_loss  Instances       Size\n"
     ]
    },
    {
     "name": "stderr",
     "output_type": "stream",
     "text": [
      "     69/300         7G      1.621      1.841      1.931         19        640: 100%|██████████| 12/12 [00:02<00:00,  5.39it/s]\n",
      "                 Class     Images  Instances      Box(P          R      mAP50  mAP50-95): 100%|██████████| 2/2 [00:00<00:00,  6.36it/s]"
     ]
    },
    {
     "name": "stdout",
     "output_type": "stream",
     "text": [
      "                   all         44        101       0.26      0.443       0.35      0.121\n"
     ]
    },
    {
     "name": "stderr",
     "output_type": "stream",
     "text": [
      "\n"
     ]
    },
    {
     "name": "stdout",
     "output_type": "stream",
     "text": [
      "\n",
      "      Epoch    GPU_mem   box_loss   cls_loss   dfl_loss  Instances       Size\n"
     ]
    },
    {
     "name": "stderr",
     "output_type": "stream",
     "text": [
      "     70/300      6.99G      1.571      1.765      1.889         19        640: 100%|██████████| 12/12 [00:02<00:00,  5.38it/s]\n",
      "                 Class     Images  Instances      Box(P          R      mAP50  mAP50-95): 100%|██████████| 2/2 [00:00<00:00,  6.30it/s]"
     ]
    },
    {
     "name": "stdout",
     "output_type": "stream",
     "text": [
      "                   all         44        101      0.911      0.412      0.471      0.174\n"
     ]
    },
    {
     "name": "stderr",
     "output_type": "stream",
     "text": [
      "\n"
     ]
    },
    {
     "name": "stdout",
     "output_type": "stream",
     "text": [
      "\n",
      "      Epoch    GPU_mem   box_loss   cls_loss   dfl_loss  Instances       Size\n"
     ]
    },
    {
     "name": "stderr",
     "output_type": "stream",
     "text": [
      "     71/300      6.99G       1.58      1.717      1.876         18        640: 100%|██████████| 12/12 [00:02<00:00,  5.35it/s]\n",
      "                 Class     Images  Instances      Box(P          R      mAP50  mAP50-95): 100%|██████████| 2/2 [00:00<00:00,  6.15it/s]"
     ]
    },
    {
     "name": "stdout",
     "output_type": "stream",
     "text": [
      "                   all         44        101      0.535      0.442       0.47      0.181\n"
     ]
    },
    {
     "name": "stderr",
     "output_type": "stream",
     "text": [
      "\n"
     ]
    },
    {
     "name": "stdout",
     "output_type": "stream",
     "text": [
      "\n",
      "      Epoch    GPU_mem   box_loss   cls_loss   dfl_loss  Instances       Size\n"
     ]
    },
    {
     "name": "stderr",
     "output_type": "stream",
     "text": [
      "     72/300      6.99G      1.541      1.728       1.86         13        640: 100%|██████████| 12/12 [00:02<00:00,  5.39it/s]\n",
      "                 Class     Images  Instances      Box(P          R      mAP50  mAP50-95): 100%|██████████| 2/2 [00:00<00:00,  6.32it/s]"
     ]
    },
    {
     "name": "stdout",
     "output_type": "stream",
     "text": [
      "                   all         44        101      0.345      0.377      0.412      0.147\n"
     ]
    },
    {
     "name": "stderr",
     "output_type": "stream",
     "text": [
      "\n"
     ]
    },
    {
     "name": "stdout",
     "output_type": "stream",
     "text": [
      "\n",
      "      Epoch    GPU_mem   box_loss   cls_loss   dfl_loss  Instances       Size\n"
     ]
    },
    {
     "name": "stderr",
     "output_type": "stream",
     "text": [
      "     73/300         7G      1.532      1.722      1.868         13        640: 100%|██████████| 12/12 [00:02<00:00,  5.38it/s]\n",
      "                 Class     Images  Instances      Box(P          R      mAP50  mAP50-95): 100%|██████████| 2/2 [00:00<00:00,  6.39it/s]"
     ]
    },
    {
     "name": "stdout",
     "output_type": "stream",
     "text": [
      "                   all         44        101      0.322      0.365      0.409      0.148\n"
     ]
    },
    {
     "name": "stderr",
     "output_type": "stream",
     "text": [
      "\n"
     ]
    },
    {
     "name": "stdout",
     "output_type": "stream",
     "text": [
      "\n",
      "      Epoch    GPU_mem   box_loss   cls_loss   dfl_loss  Instances       Size\n"
     ]
    },
    {
     "name": "stderr",
     "output_type": "stream",
     "text": [
      "     74/300      6.99G      1.529      1.709      1.853         23        640: 100%|██████████| 12/12 [00:02<00:00,  5.32it/s]\n",
      "                 Class     Images  Instances      Box(P          R      mAP50  mAP50-95): 100%|██████████| 2/2 [00:00<00:00,  6.22it/s]"
     ]
    },
    {
     "name": "stdout",
     "output_type": "stream",
     "text": [
      "                   all         44        101      0.485      0.443      0.494      0.188\n"
     ]
    },
    {
     "name": "stderr",
     "output_type": "stream",
     "text": [
      "\n"
     ]
    },
    {
     "name": "stdout",
     "output_type": "stream",
     "text": [
      "\n",
      "      Epoch    GPU_mem   box_loss   cls_loss   dfl_loss  Instances       Size\n"
     ]
    },
    {
     "name": "stderr",
     "output_type": "stream",
     "text": [
      "     75/300      6.99G      1.536      1.694      1.874         25        640: 100%|██████████| 12/12 [00:02<00:00,  5.36it/s]\n",
      "                 Class     Images  Instances      Box(P          R      mAP50  mAP50-95): 100%|██████████| 2/2 [00:00<00:00,  6.31it/s]"
     ]
    },
    {
     "name": "stdout",
     "output_type": "stream",
     "text": [
      "                   all         44        101      0.364      0.556      0.504      0.186\n"
     ]
    },
    {
     "name": "stderr",
     "output_type": "stream",
     "text": [
      "\n"
     ]
    },
    {
     "name": "stdout",
     "output_type": "stream",
     "text": [
      "\n",
      "      Epoch    GPU_mem   box_loss   cls_loss   dfl_loss  Instances       Size\n"
     ]
    },
    {
     "name": "stderr",
     "output_type": "stream",
     "text": [
      "     76/300         7G      1.541      1.719      1.877         15        640: 100%|██████████| 12/12 [00:02<00:00,  5.37it/s]\n",
      "                 Class     Images  Instances      Box(P          R      mAP50  mAP50-95): 100%|██████████| 2/2 [00:00<00:00,  5.39it/s]"
     ]
    },
    {
     "name": "stdout",
     "output_type": "stream",
     "text": [
      "                   all         44        101       0.42      0.498       0.45      0.187\n"
     ]
    },
    {
     "name": "stderr",
     "output_type": "stream",
     "text": [
      "\n"
     ]
    },
    {
     "name": "stdout",
     "output_type": "stream",
     "text": [
      "\n",
      "      Epoch    GPU_mem   box_loss   cls_loss   dfl_loss  Instances       Size\n"
     ]
    },
    {
     "name": "stderr",
     "output_type": "stream",
     "text": [
      "     77/300      6.99G      1.494      1.695      1.818         25        640: 100%|██████████| 12/12 [00:02<00:00,  5.39it/s]\n",
      "                 Class     Images  Instances      Box(P          R      mAP50  mAP50-95): 100%|██████████| 2/2 [00:00<00:00,  5.29it/s]"
     ]
    },
    {
     "name": "stdout",
     "output_type": "stream",
     "text": [
      "                   all         44        101      0.523      0.455       0.48      0.182\n"
     ]
    },
    {
     "name": "stderr",
     "output_type": "stream",
     "text": [
      "\n"
     ]
    },
    {
     "name": "stdout",
     "output_type": "stream",
     "text": [
      "\n",
      "      Epoch    GPU_mem   box_loss   cls_loss   dfl_loss  Instances       Size\n"
     ]
    },
    {
     "name": "stderr",
     "output_type": "stream",
     "text": [
      "     78/300      6.99G      1.516      1.691      1.832         10        640: 100%|██████████| 12/12 [00:02<00:00,  5.38it/s]\n",
      "                 Class     Images  Instances      Box(P          R      mAP50  mAP50-95): 100%|██████████| 2/2 [00:00<00:00,  6.22it/s]"
     ]
    },
    {
     "name": "stdout",
     "output_type": "stream",
     "text": [
      "                   all         44        101      0.421      0.491      0.469      0.184\n"
     ]
    },
    {
     "name": "stderr",
     "output_type": "stream",
     "text": [
      "\n"
     ]
    },
    {
     "name": "stdout",
     "output_type": "stream",
     "text": [
      "\n",
      "      Epoch    GPU_mem   box_loss   cls_loss   dfl_loss  Instances       Size\n"
     ]
    },
    {
     "name": "stderr",
     "output_type": "stream",
     "text": [
      "     79/300      6.99G      1.475      1.639      1.805         23        640: 100%|██████████| 12/12 [00:02<00:00,  5.40it/s]\n",
      "                 Class     Images  Instances      Box(P          R      mAP50  mAP50-95): 100%|██████████| 2/2 [00:00<00:00,  6.04it/s]"
     ]
    },
    {
     "name": "stdout",
     "output_type": "stream",
     "text": [
      "                   all         44        101      0.329      0.532       0.47      0.187\n"
     ]
    },
    {
     "name": "stderr",
     "output_type": "stream",
     "text": [
      "\n"
     ]
    },
    {
     "name": "stdout",
     "output_type": "stream",
     "text": [
      "\n",
      "      Epoch    GPU_mem   box_loss   cls_loss   dfl_loss  Instances       Size\n"
     ]
    },
    {
     "name": "stderr",
     "output_type": "stream",
     "text": [
      "     80/300      6.99G      1.475      1.621      1.812         10        640: 100%|██████████| 12/12 [00:02<00:00,  5.34it/s]\n",
      "                 Class     Images  Instances      Box(P          R      mAP50  mAP50-95): 100%|██████████| 2/2 [00:00<00:00,  6.10it/s]"
     ]
    },
    {
     "name": "stdout",
     "output_type": "stream",
     "text": [
      "                   all         44        101      0.471      0.478      0.522      0.195\n"
     ]
    },
    {
     "name": "stderr",
     "output_type": "stream",
     "text": [
      "\n"
     ]
    },
    {
     "name": "stdout",
     "output_type": "stream",
     "text": [
      "\n",
      "      Epoch    GPU_mem   box_loss   cls_loss   dfl_loss  Instances       Size\n"
     ]
    },
    {
     "name": "stderr",
     "output_type": "stream",
     "text": [
      "     81/300      6.99G      1.555      1.644      1.866         28        640: 100%|██████████| 12/12 [00:02<00:00,  5.38it/s]\n",
      "                 Class     Images  Instances      Box(P          R      mAP50  mAP50-95): 100%|██████████| 2/2 [00:00<00:00,  6.25it/s]"
     ]
    },
    {
     "name": "stdout",
     "output_type": "stream",
     "text": [
      "                   all         44        101      0.416      0.527       0.47      0.187\n"
     ]
    },
    {
     "name": "stderr",
     "output_type": "stream",
     "text": [
      "\n"
     ]
    },
    {
     "name": "stdout",
     "output_type": "stream",
     "text": [
      "\n",
      "      Epoch    GPU_mem   box_loss   cls_loss   dfl_loss  Instances       Size\n"
     ]
    },
    {
     "name": "stderr",
     "output_type": "stream",
     "text": [
      "     82/300      6.99G      1.516       1.64      1.832         21        640: 100%|██████████| 12/12 [00:02<00:00,  5.35it/s]\n",
      "                 Class     Images  Instances      Box(P          R      mAP50  mAP50-95): 100%|██████████| 2/2 [00:00<00:00,  6.32it/s]"
     ]
    },
    {
     "name": "stdout",
     "output_type": "stream",
     "text": [
      "                   all         44        101      0.334      0.325      0.408      0.174\n"
     ]
    },
    {
     "name": "stderr",
     "output_type": "stream",
     "text": [
      "\n"
     ]
    },
    {
     "name": "stdout",
     "output_type": "stream",
     "text": [
      "\n",
      "      Epoch    GPU_mem   box_loss   cls_loss   dfl_loss  Instances       Size\n"
     ]
    },
    {
     "name": "stderr",
     "output_type": "stream",
     "text": [
      "     83/300      6.99G      1.476      1.633      1.806         34        640: 100%|██████████| 12/12 [00:02<00:00,  5.39it/s]\n",
      "                 Class     Images  Instances      Box(P          R      mAP50  mAP50-95): 100%|██████████| 2/2 [00:00<00:00,  6.35it/s]"
     ]
    },
    {
     "name": "stdout",
     "output_type": "stream",
     "text": [
      "                   all         44        101      0.879      0.329      0.419      0.152\n"
     ]
    },
    {
     "name": "stderr",
     "output_type": "stream",
     "text": [
      "\n"
     ]
    },
    {
     "name": "stdout",
     "output_type": "stream",
     "text": [
      "\n",
      "      Epoch    GPU_mem   box_loss   cls_loss   dfl_loss  Instances       Size\n"
     ]
    },
    {
     "name": "stderr",
     "output_type": "stream",
     "text": [
      "     84/300      6.99G      1.494      1.588      1.796         18        640: 100%|██████████| 12/12 [00:02<00:00,  5.37it/s]\n",
      "                 Class     Images  Instances      Box(P          R      mAP50  mAP50-95): 100%|██████████| 2/2 [00:00<00:00,  6.33it/s]"
     ]
    },
    {
     "name": "stdout",
     "output_type": "stream",
     "text": [
      "                   all         44        101      0.447       0.38      0.451      0.161\n"
     ]
    },
    {
     "name": "stderr",
     "output_type": "stream",
     "text": [
      "\n"
     ]
    },
    {
     "name": "stdout",
     "output_type": "stream",
     "text": [
      "\n",
      "      Epoch    GPU_mem   box_loss   cls_loss   dfl_loss  Instances       Size\n"
     ]
    },
    {
     "name": "stderr",
     "output_type": "stream",
     "text": [
      "     85/300      6.99G      1.513      1.604      1.813         12        640: 100%|██████████| 12/12 [00:02<00:00,  5.33it/s]\n",
      "                 Class     Images  Instances      Box(P          R      mAP50  mAP50-95): 100%|██████████| 2/2 [00:00<00:00,  6.30it/s]"
     ]
    },
    {
     "name": "stdout",
     "output_type": "stream",
     "text": [
      "                   all         44        101      0.433      0.423      0.431      0.157\n"
     ]
    },
    {
     "name": "stderr",
     "output_type": "stream",
     "text": [
      "\n"
     ]
    },
    {
     "name": "stdout",
     "output_type": "stream",
     "text": [
      "\n",
      "      Epoch    GPU_mem   box_loss   cls_loss   dfl_loss  Instances       Size\n"
     ]
    },
    {
     "name": "stderr",
     "output_type": "stream",
     "text": [
      "     86/300      6.99G      1.427      1.575      1.776         18        640: 100%|██████████| 12/12 [00:02<00:00,  5.38it/s]\n",
      "                 Class     Images  Instances      Box(P          R      mAP50  mAP50-95): 100%|██████████| 2/2 [00:00<00:00,  6.51it/s]"
     ]
    },
    {
     "name": "stdout",
     "output_type": "stream",
     "text": [
      "                   all         44        101      0.335      0.468      0.421       0.17\n"
     ]
    },
    {
     "name": "stderr",
     "output_type": "stream",
     "text": [
      "\n"
     ]
    },
    {
     "name": "stdout",
     "output_type": "stream",
     "text": [
      "\n",
      "      Epoch    GPU_mem   box_loss   cls_loss   dfl_loss  Instances       Size\n"
     ]
    },
    {
     "name": "stderr",
     "output_type": "stream",
     "text": [
      "     87/300      6.99G        1.5       1.56      1.809         16        640: 100%|██████████| 12/12 [00:02<00:00,  5.38it/s]\n",
      "                 Class     Images  Instances      Box(P          R      mAP50  mAP50-95): 100%|██████████| 2/2 [00:00<00:00,  6.27it/s]"
     ]
    },
    {
     "name": "stdout",
     "output_type": "stream",
     "text": [
      "                   all         44        101      0.386      0.515      0.444      0.158\n"
     ]
    },
    {
     "name": "stderr",
     "output_type": "stream",
     "text": [
      "\n"
     ]
    },
    {
     "name": "stdout",
     "output_type": "stream",
     "text": [
      "\n",
      "      Epoch    GPU_mem   box_loss   cls_loss   dfl_loss  Instances       Size\n"
     ]
    },
    {
     "name": "stderr",
     "output_type": "stream",
     "text": [
      "     88/300      6.99G      1.463      1.626      1.808         18        640: 100%|██████████| 12/12 [00:02<00:00,  5.40it/s]\n",
      "                 Class     Images  Instances      Box(P          R      mAP50  mAP50-95): 100%|██████████| 2/2 [00:00<00:00,  6.31it/s]"
     ]
    },
    {
     "name": "stdout",
     "output_type": "stream",
     "text": [
      "                   all         44        101      0.304      0.516      0.407      0.149\n"
     ]
    },
    {
     "name": "stderr",
     "output_type": "stream",
     "text": [
      "\n"
     ]
    },
    {
     "name": "stdout",
     "output_type": "stream",
     "text": [
      "\n",
      "      Epoch    GPU_mem   box_loss   cls_loss   dfl_loss  Instances       Size\n"
     ]
    },
    {
     "name": "stderr",
     "output_type": "stream",
     "text": [
      "     89/300      6.99G      1.434       1.53      1.788         18        640: 100%|██████████| 12/12 [00:02<00:00,  5.35it/s]\n",
      "                 Class     Images  Instances      Box(P          R      mAP50  mAP50-95): 100%|██████████| 2/2 [00:00<00:00,  6.31it/s]"
     ]
    },
    {
     "name": "stdout",
     "output_type": "stream",
     "text": [
      "                   all         44        101      0.358      0.417      0.375      0.135\n"
     ]
    },
    {
     "name": "stderr",
     "output_type": "stream",
     "text": [
      "\n"
     ]
    },
    {
     "name": "stdout",
     "output_type": "stream",
     "text": [
      "\n",
      "      Epoch    GPU_mem   box_loss   cls_loss   dfl_loss  Instances       Size\n"
     ]
    },
    {
     "name": "stderr",
     "output_type": "stream",
     "text": [
      "     90/300      6.99G      1.506      1.625      1.836         15        640: 100%|██████████| 12/12 [00:02<00:00,  5.37it/s]\n",
      "                 Class     Images  Instances      Box(P          R      mAP50  mAP50-95): 100%|██████████| 2/2 [00:00<00:00,  6.26it/s]"
     ]
    },
    {
     "name": "stdout",
     "output_type": "stream",
     "text": [
      "                   all         44        101      0.408      0.414      0.408      0.153\n"
     ]
    },
    {
     "name": "stderr",
     "output_type": "stream",
     "text": [
      "\n"
     ]
    },
    {
     "name": "stdout",
     "output_type": "stream",
     "text": [
      "\n",
      "      Epoch    GPU_mem   box_loss   cls_loss   dfl_loss  Instances       Size\n"
     ]
    },
    {
     "name": "stderr",
     "output_type": "stream",
     "text": [
      "     91/300      6.99G      1.515      1.636      1.842         11        640: 100%|██████████| 12/12 [00:02<00:00,  5.37it/s]\n",
      "                 Class     Images  Instances      Box(P          R      mAP50  mAP50-95): 100%|██████████| 2/2 [00:00<00:00,  6.34it/s]"
     ]
    },
    {
     "name": "stdout",
     "output_type": "stream",
     "text": [
      "                   all         44        101      0.436      0.414      0.408      0.147\n"
     ]
    },
    {
     "name": "stderr",
     "output_type": "stream",
     "text": [
      "\n"
     ]
    },
    {
     "name": "stdout",
     "output_type": "stream",
     "text": [
      "\n",
      "      Epoch    GPU_mem   box_loss   cls_loss   dfl_loss  Instances       Size\n"
     ]
    },
    {
     "name": "stderr",
     "output_type": "stream",
     "text": [
      "     92/300      6.99G      1.402      1.544      1.732         25        640: 100%|██████████| 12/12 [00:02<00:00,  5.36it/s]\n",
      "                 Class     Images  Instances      Box(P          R      mAP50  mAP50-95): 100%|██████████| 2/2 [00:00<00:00,  6.15it/s]"
     ]
    },
    {
     "name": "stdout",
     "output_type": "stream",
     "text": [
      "                   all         44        101      0.683      0.433      0.471      0.173\n"
     ]
    },
    {
     "name": "stderr",
     "output_type": "stream",
     "text": [
      "\n"
     ]
    },
    {
     "name": "stdout",
     "output_type": "stream",
     "text": [
      "\n",
      "      Epoch    GPU_mem   box_loss   cls_loss   dfl_loss  Instances       Size\n"
     ]
    },
    {
     "name": "stderr",
     "output_type": "stream",
     "text": [
      "     93/300      6.99G      1.462      1.553      1.805         13        640: 100%|██████████| 12/12 [00:02<00:00,  5.29it/s]\n",
      "                 Class     Images  Instances      Box(P          R      mAP50  mAP50-95): 100%|██████████| 2/2 [00:00<00:00,  6.30it/s]"
     ]
    },
    {
     "name": "stdout",
     "output_type": "stream",
     "text": [
      "                   all         44        101      0.405      0.473      0.463      0.178\n"
     ]
    },
    {
     "name": "stderr",
     "output_type": "stream",
     "text": [
      "\n"
     ]
    },
    {
     "name": "stdout",
     "output_type": "stream",
     "text": [
      "\n",
      "      Epoch    GPU_mem   box_loss   cls_loss   dfl_loss  Instances       Size\n"
     ]
    },
    {
     "name": "stderr",
     "output_type": "stream",
     "text": [
      "     94/300      6.99G      1.462      1.475      1.774         15        640: 100%|██████████| 12/12 [00:02<00:00,  5.39it/s]\n",
      "                 Class     Images  Instances      Box(P          R      mAP50  mAP50-95): 100%|██████████| 2/2 [00:00<00:00,  6.31it/s]"
     ]
    },
    {
     "name": "stdout",
     "output_type": "stream",
     "text": [
      "                   all         44        101      0.453      0.481      0.483      0.183\n"
     ]
    },
    {
     "name": "stderr",
     "output_type": "stream",
     "text": [
      "\n"
     ]
    },
    {
     "name": "stdout",
     "output_type": "stream",
     "text": [
      "\n",
      "      Epoch    GPU_mem   box_loss   cls_loss   dfl_loss  Instances       Size\n"
     ]
    },
    {
     "name": "stderr",
     "output_type": "stream",
     "text": [
      "     95/300      6.99G      1.458      1.434      1.767         16        640: 100%|██████████| 12/12 [00:02<00:00,  5.24it/s]\n",
      "                 Class     Images  Instances      Box(P          R      mAP50  mAP50-95): 100%|██████████| 2/2 [00:00<00:00,  6.35it/s]"
     ]
    },
    {
     "name": "stdout",
     "output_type": "stream",
     "text": [
      "                   all         44        101      0.541      0.438      0.457      0.172\n"
     ]
    },
    {
     "name": "stderr",
     "output_type": "stream",
     "text": [
      "\n"
     ]
    },
    {
     "name": "stdout",
     "output_type": "stream",
     "text": [
      "\n",
      "      Epoch    GPU_mem   box_loss   cls_loss   dfl_loss  Instances       Size\n"
     ]
    },
    {
     "name": "stderr",
     "output_type": "stream",
     "text": [
      "     96/300      6.99G      1.443      1.525      1.802         12        640: 100%|██████████| 12/12 [00:02<00:00,  5.33it/s]\n",
      "                 Class     Images  Instances      Box(P          R      mAP50  mAP50-95): 100%|██████████| 2/2 [00:00<00:00,  6.37it/s]"
     ]
    },
    {
     "name": "stdout",
     "output_type": "stream",
     "text": [
      "                   all         44        101      0.371       0.56      0.437      0.157\n"
     ]
    },
    {
     "name": "stderr",
     "output_type": "stream",
     "text": [
      "\n"
     ]
    },
    {
     "name": "stdout",
     "output_type": "stream",
     "text": [
      "\n",
      "      Epoch    GPU_mem   box_loss   cls_loss   dfl_loss  Instances       Size\n"
     ]
    },
    {
     "name": "stderr",
     "output_type": "stream",
     "text": [
      "     97/300      6.99G      1.427      1.518      1.761         14        640: 100%|██████████| 12/12 [00:02<00:00,  5.26it/s]\n",
      "                 Class     Images  Instances      Box(P          R      mAP50  mAP50-95): 100%|██████████| 2/2 [00:00<00:00,  6.36it/s]"
     ]
    },
    {
     "name": "stdout",
     "output_type": "stream",
     "text": [
      "                   all         44        101      0.454      0.583      0.463       0.18\n"
     ]
    },
    {
     "name": "stderr",
     "output_type": "stream",
     "text": [
      "\n"
     ]
    },
    {
     "name": "stdout",
     "output_type": "stream",
     "text": [
      "\n",
      "      Epoch    GPU_mem   box_loss   cls_loss   dfl_loss  Instances       Size\n"
     ]
    },
    {
     "name": "stderr",
     "output_type": "stream",
     "text": [
      "     98/300      6.99G      1.404      1.496       1.77         11        640: 100%|██████████| 12/12 [00:02<00:00,  5.37it/s]\n",
      "                 Class     Images  Instances      Box(P          R      mAP50  mAP50-95): 100%|██████████| 2/2 [00:00<00:00,  6.19it/s]"
     ]
    },
    {
     "name": "stdout",
     "output_type": "stream",
     "text": [
      "                   all         44        101      0.479      0.507      0.491      0.183\n"
     ]
    },
    {
     "name": "stderr",
     "output_type": "stream",
     "text": [
      "\n"
     ]
    },
    {
     "name": "stdout",
     "output_type": "stream",
     "text": [
      "\n",
      "      Epoch    GPU_mem   box_loss   cls_loss   dfl_loss  Instances       Size\n"
     ]
    },
    {
     "name": "stderr",
     "output_type": "stream",
     "text": [
      "     99/300         7G       1.42      1.391      1.739         24        640: 100%|██████████| 12/12 [00:02<00:00,  5.36it/s]\n",
      "                 Class     Images  Instances      Box(P          R      mAP50  mAP50-95): 100%|██████████| 2/2 [00:00<00:00,  6.34it/s]"
     ]
    },
    {
     "name": "stdout",
     "output_type": "stream",
     "text": [
      "                   all         44        101      0.422      0.435      0.438      0.157\n"
     ]
    },
    {
     "name": "stderr",
     "output_type": "stream",
     "text": [
      "\n"
     ]
    },
    {
     "name": "stdout",
     "output_type": "stream",
     "text": [
      "\n",
      "      Epoch    GPU_mem   box_loss   cls_loss   dfl_loss  Instances       Size\n"
     ]
    },
    {
     "name": "stderr",
     "output_type": "stream",
     "text": [
      "    100/300      6.99G      1.362      1.386      1.668         18        640: 100%|██████████| 12/12 [00:02<00:00,  5.39it/s]\n",
      "                 Class     Images  Instances      Box(P          R      mAP50  mAP50-95): 100%|██████████| 2/2 [00:00<00:00,  6.46it/s]"
     ]
    },
    {
     "name": "stdout",
     "output_type": "stream",
     "text": [
      "                   all         44        101      0.423      0.428      0.446      0.187\n"
     ]
    },
    {
     "name": "stderr",
     "output_type": "stream",
     "text": [
      "\n"
     ]
    },
    {
     "name": "stdout",
     "output_type": "stream",
     "text": [
      "\n",
      "      Epoch    GPU_mem   box_loss   cls_loss   dfl_loss  Instances       Size\n"
     ]
    },
    {
     "name": "stderr",
     "output_type": "stream",
     "text": [
      "    101/300         7G      1.434      1.444      1.731         15        640: 100%|██████████| 12/12 [00:02<00:00,  5.32it/s]\n",
      "                 Class     Images  Instances      Box(P          R      mAP50  mAP50-95): 100%|██████████| 2/2 [00:00<00:00,  6.23it/s]"
     ]
    },
    {
     "name": "stdout",
     "output_type": "stream",
     "text": [
      "                   all         44        101      0.346      0.575      0.459      0.176\n"
     ]
    },
    {
     "name": "stderr",
     "output_type": "stream",
     "text": [
      "\n"
     ]
    },
    {
     "name": "stdout",
     "output_type": "stream",
     "text": [
      "\n",
      "      Epoch    GPU_mem   box_loss   cls_loss   dfl_loss  Instances       Size\n"
     ]
    },
    {
     "name": "stderr",
     "output_type": "stream",
     "text": [
      "    102/300      6.99G      1.368      1.433      1.707         15        640: 100%|██████████| 12/12 [00:02<00:00,  5.32it/s]\n",
      "                 Class     Images  Instances      Box(P          R      mAP50  mAP50-95): 100%|██████████| 2/2 [00:00<00:00,  6.35it/s]"
     ]
    },
    {
     "name": "stdout",
     "output_type": "stream",
     "text": [
      "                   all         44        101       0.32      0.472      0.409      0.122\n"
     ]
    },
    {
     "name": "stderr",
     "output_type": "stream",
     "text": [
      "\n"
     ]
    },
    {
     "name": "stdout",
     "output_type": "stream",
     "text": [
      "\n",
      "      Epoch    GPU_mem   box_loss   cls_loss   dfl_loss  Instances       Size\n"
     ]
    },
    {
     "name": "stderr",
     "output_type": "stream",
     "text": [
      "    103/300      6.99G      1.421      1.409      1.771         12        640: 100%|██████████| 12/12 [00:02<00:00,  5.31it/s]\n",
      "                 Class     Images  Instances      Box(P          R      mAP50  mAP50-95): 100%|██████████| 2/2 [00:00<00:00,  6.34it/s]"
     ]
    },
    {
     "name": "stdout",
     "output_type": "stream",
     "text": [
      "                   all         44        101      0.409      0.409      0.432      0.154\n"
     ]
    },
    {
     "name": "stderr",
     "output_type": "stream",
     "text": [
      "\n"
     ]
    },
    {
     "name": "stdout",
     "output_type": "stream",
     "text": [
      "\n",
      "      Epoch    GPU_mem   box_loss   cls_loss   dfl_loss  Instances       Size\n"
     ]
    },
    {
     "name": "stderr",
     "output_type": "stream",
     "text": [
      "    104/300      6.99G      1.403      1.414      1.716         31        640: 100%|██████████| 12/12 [00:02<00:00,  5.36it/s]\n",
      "                 Class     Images  Instances      Box(P          R      mAP50  mAP50-95): 100%|██████████| 2/2 [00:00<00:00,  6.19it/s]"
     ]
    },
    {
     "name": "stdout",
     "output_type": "stream",
     "text": [
      "                   all         44        101      0.616      0.457      0.505      0.164\n"
     ]
    },
    {
     "name": "stderr",
     "output_type": "stream",
     "text": [
      "\n"
     ]
    },
    {
     "name": "stdout",
     "output_type": "stream",
     "text": [
      "\n",
      "      Epoch    GPU_mem   box_loss   cls_loss   dfl_loss  Instances       Size\n"
     ]
    },
    {
     "name": "stderr",
     "output_type": "stream",
     "text": [
      "    105/300      6.99G      1.386      1.413      1.731         17        640: 100%|██████████| 12/12 [00:02<00:00,  5.33it/s]\n",
      "                 Class     Images  Instances      Box(P          R      mAP50  mAP50-95): 100%|██████████| 2/2 [00:00<00:00,  6.18it/s]"
     ]
    },
    {
     "name": "stdout",
     "output_type": "stream",
     "text": [
      "                   all         44        101      0.594      0.538      0.506      0.185\n"
     ]
    },
    {
     "name": "stderr",
     "output_type": "stream",
     "text": [
      "\n"
     ]
    },
    {
     "name": "stdout",
     "output_type": "stream",
     "text": [
      "\n",
      "      Epoch    GPU_mem   box_loss   cls_loss   dfl_loss  Instances       Size\n"
     ]
    },
    {
     "name": "stderr",
     "output_type": "stream",
     "text": [
      "    106/300      6.99G      1.374      1.339      1.715         15        640: 100%|██████████| 12/12 [00:02<00:00,  5.37it/s]\n",
      "                 Class     Images  Instances      Box(P          R      mAP50  mAP50-95): 100%|██████████| 2/2 [00:00<00:00,  6.33it/s]"
     ]
    },
    {
     "name": "stdout",
     "output_type": "stream",
     "text": [
      "                   all         44        101      0.446      0.495      0.457      0.181\n"
     ]
    },
    {
     "name": "stderr",
     "output_type": "stream",
     "text": [
      "\n"
     ]
    },
    {
     "name": "stdout",
     "output_type": "stream",
     "text": [
      "\n",
      "      Epoch    GPU_mem   box_loss   cls_loss   dfl_loss  Instances       Size\n"
     ]
    },
    {
     "name": "stderr",
     "output_type": "stream",
     "text": [
      "    107/300      6.99G      1.355      1.346      1.686         17        640: 100%|██████████| 12/12 [00:02<00:00,  5.40it/s]\n",
      "                 Class     Images  Instances      Box(P          R      mAP50  mAP50-95): 100%|██████████| 2/2 [00:00<00:00,  6.34it/s]"
     ]
    },
    {
     "name": "stdout",
     "output_type": "stream",
     "text": [
      "                   all         44        101       0.43       0.44      0.409      0.165\n"
     ]
    },
    {
     "name": "stderr",
     "output_type": "stream",
     "text": [
      "\n"
     ]
    },
    {
     "name": "stdout",
     "output_type": "stream",
     "text": [
      "\n",
      "      Epoch    GPU_mem   box_loss   cls_loss   dfl_loss  Instances       Size\n"
     ]
    },
    {
     "name": "stderr",
     "output_type": "stream",
     "text": [
      "    108/300      6.99G      1.305      1.279      1.667         14        640: 100%|██████████| 12/12 [00:02<00:00,  5.33it/s]\n",
      "                 Class     Images  Instances      Box(P          R      mAP50  mAP50-95): 100%|██████████| 2/2 [00:00<00:00,  6.38it/s]"
     ]
    },
    {
     "name": "stdout",
     "output_type": "stream",
     "text": [
      "                   all         44        101      0.413      0.512      0.484      0.175\n"
     ]
    },
    {
     "name": "stderr",
     "output_type": "stream",
     "text": [
      "\n"
     ]
    },
    {
     "name": "stdout",
     "output_type": "stream",
     "text": [
      "\n",
      "      Epoch    GPU_mem   box_loss   cls_loss   dfl_loss  Instances       Size\n"
     ]
    },
    {
     "name": "stderr",
     "output_type": "stream",
     "text": [
      "    109/300      6.99G      1.299       1.32       1.65         22        640: 100%|██████████| 12/12 [00:02<00:00,  5.37it/s]\n",
      "                 Class     Images  Instances      Box(P          R      mAP50  mAP50-95): 100%|██████████| 2/2 [00:00<00:00,  6.19it/s]"
     ]
    },
    {
     "name": "stdout",
     "output_type": "stream",
     "text": [
      "                   all         44        101       0.42      0.477      0.436      0.145\n"
     ]
    },
    {
     "name": "stderr",
     "output_type": "stream",
     "text": [
      "\n"
     ]
    },
    {
     "name": "stdout",
     "output_type": "stream",
     "text": [
      "\n",
      "      Epoch    GPU_mem   box_loss   cls_loss   dfl_loss  Instances       Size\n"
     ]
    },
    {
     "name": "stderr",
     "output_type": "stream",
     "text": [
      "    110/300      6.99G      1.302      1.368      1.642         17        640: 100%|██████████| 12/12 [00:02<00:00,  5.39it/s]\n",
      "                 Class     Images  Instances      Box(P          R      mAP50  mAP50-95): 100%|██████████| 2/2 [00:00<00:00,  6.41it/s]"
     ]
    },
    {
     "name": "stdout",
     "output_type": "stream",
     "text": [
      "                   all         44        101      0.428       0.49      0.444      0.162\n"
     ]
    },
    {
     "name": "stderr",
     "output_type": "stream",
     "text": [
      "\n"
     ]
    },
    {
     "name": "stdout",
     "output_type": "stream",
     "text": [
      "\n",
      "      Epoch    GPU_mem   box_loss   cls_loss   dfl_loss  Instances       Size\n"
     ]
    },
    {
     "name": "stderr",
     "output_type": "stream",
     "text": [
      "    111/300      6.99G      1.288      1.283      1.645         15        640: 100%|██████████| 12/12 [00:02<00:00,  5.35it/s]\n",
      "                 Class     Images  Instances      Box(P          R      mAP50  mAP50-95): 100%|██████████| 2/2 [00:00<00:00,  6.39it/s]"
     ]
    },
    {
     "name": "stdout",
     "output_type": "stream",
     "text": [
      "                   all         44        101      0.396      0.443      0.431      0.166\n"
     ]
    },
    {
     "name": "stderr",
     "output_type": "stream",
     "text": [
      "\n"
     ]
    },
    {
     "name": "stdout",
     "output_type": "stream",
     "text": [
      "\n",
      "      Epoch    GPU_mem   box_loss   cls_loss   dfl_loss  Instances       Size\n"
     ]
    },
    {
     "name": "stderr",
     "output_type": "stream",
     "text": [
      "    112/300      6.99G      1.302      1.315      1.683         13        640: 100%|██████████| 12/12 [00:02<00:00,  5.38it/s]\n",
      "                 Class     Images  Instances      Box(P          R      mAP50  mAP50-95): 100%|██████████| 2/2 [00:00<00:00,  6.35it/s]"
     ]
    },
    {
     "name": "stdout",
     "output_type": "stream",
     "text": [
      "                   all         44        101      0.446       0.44      0.416       0.15\n"
     ]
    },
    {
     "name": "stderr",
     "output_type": "stream",
     "text": [
      "\n"
     ]
    },
    {
     "name": "stdout",
     "output_type": "stream",
     "text": [
      "\n",
      "      Epoch    GPU_mem   box_loss   cls_loss   dfl_loss  Instances       Size\n"
     ]
    },
    {
     "name": "stderr",
     "output_type": "stream",
     "text": [
      "    113/300      6.99G      1.247      1.277      1.608         19        640: 100%|██████████| 12/12 [00:02<00:00,  5.31it/s]\n",
      "                 Class     Images  Instances      Box(P          R      mAP50  mAP50-95): 100%|██████████| 2/2 [00:00<00:00,  6.32it/s]"
     ]
    },
    {
     "name": "stdout",
     "output_type": "stream",
     "text": [
      "                   all         44        101      0.365      0.502      0.414      0.145\n"
     ]
    },
    {
     "name": "stderr",
     "output_type": "stream",
     "text": [
      "\n"
     ]
    },
    {
     "name": "stdout",
     "output_type": "stream",
     "text": [
      "\n",
      "      Epoch    GPU_mem   box_loss   cls_loss   dfl_loss  Instances       Size\n"
     ]
    },
    {
     "name": "stderr",
     "output_type": "stream",
     "text": [
      "    114/300      6.99G      1.293      1.285      1.628         34        640: 100%|██████████| 12/12 [00:02<00:00,  5.34it/s]\n",
      "                 Class     Images  Instances      Box(P          R      mAP50  mAP50-95): 100%|██████████| 2/2 [00:00<00:00,  6.16it/s]"
     ]
    },
    {
     "name": "stdout",
     "output_type": "stream",
     "text": [
      "                   all         44        101      0.365      0.423      0.414      0.148\n"
     ]
    },
    {
     "name": "stderr",
     "output_type": "stream",
     "text": [
      "\n"
     ]
    },
    {
     "name": "stdout",
     "output_type": "stream",
     "text": [
      "\n",
      "      Epoch    GPU_mem   box_loss   cls_loss   dfl_loss  Instances       Size\n"
     ]
    },
    {
     "name": "stderr",
     "output_type": "stream",
     "text": [
      "    115/300      6.99G      1.261       1.31      1.659         18        640: 100%|██████████| 12/12 [00:02<00:00,  5.35it/s]\n",
      "                 Class     Images  Instances      Box(P          R      mAP50  mAP50-95): 100%|██████████| 2/2 [00:00<00:00,  6.31it/s]"
     ]
    },
    {
     "name": "stdout",
     "output_type": "stream",
     "text": [
      "                   all         44        101       0.45      0.399      0.425      0.153\n"
     ]
    },
    {
     "name": "stderr",
     "output_type": "stream",
     "text": [
      "\n"
     ]
    },
    {
     "name": "stdout",
     "output_type": "stream",
     "text": [
      "\n",
      "      Epoch    GPU_mem   box_loss   cls_loss   dfl_loss  Instances       Size\n"
     ]
    },
    {
     "name": "stderr",
     "output_type": "stream",
     "text": [
      "    116/300      6.99G      1.295      1.284      1.635         19        640: 100%|██████████| 12/12 [00:02<00:00,  5.36it/s]\n",
      "                 Class     Images  Instances      Box(P          R      mAP50  mAP50-95): 100%|██████████| 2/2 [00:00<00:00,  6.36it/s]"
     ]
    },
    {
     "name": "stdout",
     "output_type": "stream",
     "text": [
      "                   all         44        101      0.336       0.52      0.382      0.147\n"
     ]
    },
    {
     "name": "stderr",
     "output_type": "stream",
     "text": [
      "\n"
     ]
    },
    {
     "name": "stdout",
     "output_type": "stream",
     "text": [
      "\n",
      "      Epoch    GPU_mem   box_loss   cls_loss   dfl_loss  Instances       Size\n"
     ]
    },
    {
     "name": "stderr",
     "output_type": "stream",
     "text": [
      "    117/300      6.99G      1.301      1.282       1.66         13        640: 100%|██████████| 12/12 [00:02<00:00,  5.35it/s]\n",
      "                 Class     Images  Instances      Box(P          R      mAP50  mAP50-95): 100%|██████████| 2/2 [00:00<00:00,  6.49it/s]"
     ]
    },
    {
     "name": "stdout",
     "output_type": "stream",
     "text": [
      "                   all         44        101      0.464      0.434      0.428      0.156\n"
     ]
    },
    {
     "name": "stderr",
     "output_type": "stream",
     "text": [
      "\n"
     ]
    },
    {
     "name": "stdout",
     "output_type": "stream",
     "text": [
      "\n",
      "      Epoch    GPU_mem   box_loss   cls_loss   dfl_loss  Instances       Size\n"
     ]
    },
    {
     "name": "stderr",
     "output_type": "stream",
     "text": [
      "    118/300      6.99G      1.222      1.218      1.577         17        640: 100%|██████████| 12/12 [00:02<00:00,  5.37it/s]\n",
      "                 Class     Images  Instances      Box(P          R      mAP50  mAP50-95): 100%|██████████| 2/2 [00:00<00:00,  6.23it/s]"
     ]
    },
    {
     "name": "stdout",
     "output_type": "stream",
     "text": [
      "                   all         44        101      0.435      0.382      0.423      0.149\n"
     ]
    },
    {
     "name": "stderr",
     "output_type": "stream",
     "text": [
      "\n"
     ]
    },
    {
     "name": "stdout",
     "output_type": "stream",
     "text": [
      "\n",
      "      Epoch    GPU_mem   box_loss   cls_loss   dfl_loss  Instances       Size\n"
     ]
    },
    {
     "name": "stderr",
     "output_type": "stream",
     "text": [
      "    119/300      6.99G      1.284      1.222      1.638         25        640: 100%|██████████| 12/12 [00:02<00:00,  5.39it/s]\n",
      "                 Class     Images  Instances      Box(P          R      mAP50  mAP50-95): 100%|██████████| 2/2 [00:00<00:00,  6.45it/s]"
     ]
    },
    {
     "name": "stdout",
     "output_type": "stream",
     "text": [
      "                   all         44        101      0.411      0.547       0.47      0.177\n"
     ]
    },
    {
     "name": "stderr",
     "output_type": "stream",
     "text": [
      "\n"
     ]
    },
    {
     "name": "stdout",
     "output_type": "stream",
     "text": [
      "\n",
      "      Epoch    GPU_mem   box_loss   cls_loss   dfl_loss  Instances       Size\n"
     ]
    },
    {
     "name": "stderr",
     "output_type": "stream",
     "text": [
      "    120/300      6.99G      1.286      1.255      1.683         10        640: 100%|██████████| 12/12 [00:02<00:00,  5.36it/s]\n",
      "                 Class     Images  Instances      Box(P          R      mAP50  mAP50-95): 100%|██████████| 2/2 [00:00<00:00,  6.36it/s]"
     ]
    },
    {
     "name": "stdout",
     "output_type": "stream",
     "text": [
      "                   all         44        101      0.437      0.473      0.447      0.152\n"
     ]
    },
    {
     "name": "stderr",
     "output_type": "stream",
     "text": [
      "\n"
     ]
    },
    {
     "name": "stdout",
     "output_type": "stream",
     "text": [
      "\n",
      "      Epoch    GPU_mem   box_loss   cls_loss   dfl_loss  Instances       Size\n"
     ]
    },
    {
     "name": "stderr",
     "output_type": "stream",
     "text": [
      "    121/300         7G      1.243      1.203      1.608         15        640: 100%|██████████| 12/12 [00:02<00:00,  5.35it/s]\n",
      "                 Class     Images  Instances      Box(P          R      mAP50  mAP50-95): 100%|██████████| 2/2 [00:00<00:00,  6.33it/s]"
     ]
    },
    {
     "name": "stdout",
     "output_type": "stream",
     "text": [
      "                   all         44        101       0.32      0.489      0.414      0.132\n"
     ]
    },
    {
     "name": "stderr",
     "output_type": "stream",
     "text": [
      "\n"
     ]
    },
    {
     "name": "stdout",
     "output_type": "stream",
     "text": [
      "\n",
      "      Epoch    GPU_mem   box_loss   cls_loss   dfl_loss  Instances       Size\n"
     ]
    },
    {
     "name": "stderr",
     "output_type": "stream",
     "text": [
      "    122/300      6.99G      1.314      1.303      1.653         13        640: 100%|██████████| 12/12 [00:02<00:00,  5.36it/s]\n",
      "                 Class     Images  Instances      Box(P          R      mAP50  mAP50-95): 100%|██████████| 2/2 [00:00<00:00,  6.34it/s]"
     ]
    },
    {
     "name": "stdout",
     "output_type": "stream",
     "text": [
      "                   all         44        101      0.397      0.407      0.368      0.136\n"
     ]
    },
    {
     "name": "stderr",
     "output_type": "stream",
     "text": [
      "\n"
     ]
    },
    {
     "name": "stdout",
     "output_type": "stream",
     "text": [
      "\n",
      "      Epoch    GPU_mem   box_loss   cls_loss   dfl_loss  Instances       Size\n"
     ]
    },
    {
     "name": "stderr",
     "output_type": "stream",
     "text": [
      "    123/300      6.99G       1.27       1.22      1.625         19        640: 100%|██████████| 12/12 [00:02<00:00,  5.28it/s]\n",
      "                 Class     Images  Instances      Box(P          R      mAP50  mAP50-95): 100%|██████████| 2/2 [00:00<00:00,  6.35it/s]"
     ]
    },
    {
     "name": "stdout",
     "output_type": "stream",
     "text": [
      "                   all         44        101      0.439      0.423      0.393      0.152\n"
     ]
    },
    {
     "name": "stderr",
     "output_type": "stream",
     "text": [
      "\n"
     ]
    },
    {
     "name": "stdout",
     "output_type": "stream",
     "text": [
      "\n",
      "      Epoch    GPU_mem   box_loss   cls_loss   dfl_loss  Instances       Size\n"
     ]
    },
    {
     "name": "stderr",
     "output_type": "stream",
     "text": [
      "    124/300      6.99G      1.194      1.127      1.537         18        640: 100%|██████████| 12/12 [00:02<00:00,  5.34it/s]\n",
      "                 Class     Images  Instances      Box(P          R      mAP50  mAP50-95): 100%|██████████| 2/2 [00:00<00:00,  6.19it/s]"
     ]
    },
    {
     "name": "stdout",
     "output_type": "stream",
     "text": [
      "                   all         44        101      0.404      0.503      0.435      0.162\n"
     ]
    },
    {
     "name": "stderr",
     "output_type": "stream",
     "text": [
      "\n"
     ]
    },
    {
     "name": "stdout",
     "output_type": "stream",
     "text": [
      "\n",
      "      Epoch    GPU_mem   box_loss   cls_loss   dfl_loss  Instances       Size\n"
     ]
    },
    {
     "name": "stderr",
     "output_type": "stream",
     "text": [
      "    125/300      6.99G      1.218      1.177      1.571         12        640: 100%|██████████| 12/12 [00:02<00:00,  5.32it/s]\n",
      "                 Class     Images  Instances      Box(P          R      mAP50  mAP50-95): 100%|██████████| 2/2 [00:00<00:00,  6.33it/s]"
     ]
    },
    {
     "name": "stdout",
     "output_type": "stream",
     "text": [
      "                   all         44        101      0.367      0.438      0.429      0.176\n"
     ]
    },
    {
     "name": "stderr",
     "output_type": "stream",
     "text": [
      "\n"
     ]
    },
    {
     "name": "stdout",
     "output_type": "stream",
     "text": [
      "\n",
      "      Epoch    GPU_mem   box_loss   cls_loss   dfl_loss  Instances       Size\n"
     ]
    },
    {
     "name": "stderr",
     "output_type": "stream",
     "text": [
      "    126/300      6.99G      1.212      1.193      1.571         21        640: 100%|██████████| 12/12 [00:02<00:00,  5.33it/s]\n",
      "                 Class     Images  Instances      Box(P          R      mAP50  mAP50-95): 100%|██████████| 2/2 [00:00<00:00,  6.18it/s]"
     ]
    },
    {
     "name": "stdout",
     "output_type": "stream",
     "text": [
      "                   all         44        101      0.339      0.545      0.458      0.175\n"
     ]
    },
    {
     "name": "stderr",
     "output_type": "stream",
     "text": [
      "\n"
     ]
    },
    {
     "name": "stdout",
     "output_type": "stream",
     "text": [
      "\n",
      "      Epoch    GPU_mem   box_loss   cls_loss   dfl_loss  Instances       Size\n"
     ]
    },
    {
     "name": "stderr",
     "output_type": "stream",
     "text": [
      "    127/300      6.99G      1.209      1.134      1.564         15        640: 100%|██████████| 12/12 [00:02<00:00,  5.34it/s]\n",
      "                 Class     Images  Instances      Box(P          R      mAP50  mAP50-95): 100%|██████████| 2/2 [00:00<00:00,  6.36it/s]"
     ]
    },
    {
     "name": "stdout",
     "output_type": "stream",
     "text": [
      "                   all         44        101      0.431       0.45      0.462      0.162\n"
     ]
    },
    {
     "name": "stderr",
     "output_type": "stream",
     "text": [
      "\n"
     ]
    },
    {
     "name": "stdout",
     "output_type": "stream",
     "text": [
      "\n",
      "      Epoch    GPU_mem   box_loss   cls_loss   dfl_loss  Instances       Size\n"
     ]
    },
    {
     "name": "stderr",
     "output_type": "stream",
     "text": [
      "    128/300      6.99G      1.201      1.198      1.564         15        640: 100%|██████████| 12/12 [00:02<00:00,  5.36it/s]\n",
      "                 Class     Images  Instances      Box(P          R      mAP50  mAP50-95): 100%|██████████| 2/2 [00:00<00:00,  6.41it/s]"
     ]
    },
    {
     "name": "stdout",
     "output_type": "stream",
     "text": [
      "                   all         44        101      0.394      0.498      0.453      0.172\n"
     ]
    },
    {
     "name": "stderr",
     "output_type": "stream",
     "text": [
      "\n"
     ]
    },
    {
     "name": "stdout",
     "output_type": "stream",
     "text": [
      "\n",
      "      Epoch    GPU_mem   box_loss   cls_loss   dfl_loss  Instances       Size\n"
     ]
    },
    {
     "name": "stderr",
     "output_type": "stream",
     "text": [
      "    129/300         7G      1.175      1.164      1.562         18        640: 100%|██████████| 12/12 [00:02<00:00,  5.36it/s]\n",
      "                 Class     Images  Instances      Box(P          R      mAP50  mAP50-95): 100%|██████████| 2/2 [00:00<00:00,  6.39it/s]"
     ]
    },
    {
     "name": "stdout",
     "output_type": "stream",
     "text": [
      "                   all         44        101      0.475      0.433      0.399      0.151\n"
     ]
    },
    {
     "name": "stderr",
     "output_type": "stream",
     "text": [
      "\n"
     ]
    },
    {
     "name": "stdout",
     "output_type": "stream",
     "text": [
      "\n",
      "      Epoch    GPU_mem   box_loss   cls_loss   dfl_loss  Instances       Size\n"
     ]
    },
    {
     "name": "stderr",
     "output_type": "stream",
     "text": [
      "    130/300      6.99G      1.167      1.112      1.534         11        640: 100%|██████████| 12/12 [00:02<00:00,  5.36it/s]\n",
      "                 Class     Images  Instances      Box(P          R      mAP50  mAP50-95): 100%|██████████| 2/2 [00:00<00:00,  6.46it/s]"
     ]
    },
    {
     "name": "stdout",
     "output_type": "stream",
     "text": [
      "                   all         44        101      0.427      0.482      0.407      0.149\n"
     ]
    },
    {
     "name": "stderr",
     "output_type": "stream",
     "text": [
      "\n"
     ]
    },
    {
     "name": "stdout",
     "output_type": "stream",
     "text": [
      "\n",
      "      Epoch    GPU_mem   box_loss   cls_loss   dfl_loss  Instances       Size\n"
     ]
    },
    {
     "name": "stderr",
     "output_type": "stream",
     "text": [
      "    131/300      6.99G      1.203       1.16      1.563         29        640: 100%|██████████| 12/12 [00:02<00:00,  5.34it/s]\n",
      "                 Class     Images  Instances      Box(P          R      mAP50  mAP50-95): 100%|██████████| 2/2 [00:00<00:00,  6.31it/s]"
     ]
    },
    {
     "name": "stdout",
     "output_type": "stream",
     "text": [
      "                   all         44        101      0.414        0.5      0.443      0.166\n"
     ]
    },
    {
     "name": "stderr",
     "output_type": "stream",
     "text": [
      "\n"
     ]
    },
    {
     "name": "stdout",
     "output_type": "stream",
     "text": [
      "\n",
      "      Epoch    GPU_mem   box_loss   cls_loss   dfl_loss  Instances       Size\n"
     ]
    },
    {
     "name": "stderr",
     "output_type": "stream",
     "text": [
      "    132/300      6.99G      1.149      1.098      1.516         34        640: 100%|██████████| 12/12 [00:02<00:00,  5.34it/s]\n",
      "                 Class     Images  Instances      Box(P          R      mAP50  mAP50-95): 100%|██████████| 2/2 [00:00<00:00,  6.23it/s]"
     ]
    },
    {
     "name": "stdout",
     "output_type": "stream",
     "text": [
      "                   all         44        101      0.539      0.452      0.474      0.175\n"
     ]
    },
    {
     "name": "stderr",
     "output_type": "stream",
     "text": [
      "\n"
     ]
    },
    {
     "name": "stdout",
     "output_type": "stream",
     "text": [
      "\n",
      "      Epoch    GPU_mem   box_loss   cls_loss   dfl_loss  Instances       Size\n"
     ]
    },
    {
     "name": "stderr",
     "output_type": "stream",
     "text": [
      "    133/300      6.99G      1.151      1.074        1.5         14        640: 100%|██████████| 12/12 [00:02<00:00,  5.39it/s]\n",
      "                 Class     Images  Instances      Box(P          R      mAP50  mAP50-95): 100%|██████████| 2/2 [00:00<00:00,  6.39it/s]"
     ]
    },
    {
     "name": "stdout",
     "output_type": "stream",
     "text": [
      "                   all         44        101      0.475       0.53      0.464      0.174\n"
     ]
    },
    {
     "name": "stderr",
     "output_type": "stream",
     "text": [
      "\n"
     ]
    },
    {
     "name": "stdout",
     "output_type": "stream",
     "text": [
      "\n",
      "      Epoch    GPU_mem   box_loss   cls_loss   dfl_loss  Instances       Size\n"
     ]
    },
    {
     "name": "stderr",
     "output_type": "stream",
     "text": [
      "    134/300      6.99G      1.131      1.086      1.498         13        640: 100%|██████████| 12/12 [00:02<00:00,  5.34it/s]\n",
      "                 Class     Images  Instances      Box(P          R      mAP50  mAP50-95): 100%|██████████| 2/2 [00:00<00:00,  6.26it/s]"
     ]
    },
    {
     "name": "stdout",
     "output_type": "stream",
     "text": [
      "                   all         44        101      0.591      0.491       0.48      0.171\n"
     ]
    },
    {
     "name": "stderr",
     "output_type": "stream",
     "text": [
      "\n"
     ]
    },
    {
     "name": "stdout",
     "output_type": "stream",
     "text": [
      "\n",
      "      Epoch    GPU_mem   box_loss   cls_loss   dfl_loss  Instances       Size\n"
     ]
    },
    {
     "name": "stderr",
     "output_type": "stream",
     "text": [
      "    135/300      6.99G      1.144      1.056      1.502         18        640: 100%|██████████| 12/12 [00:02<00:00,  5.37it/s]\n",
      "                 Class     Images  Instances      Box(P          R      mAP50  mAP50-95): 100%|██████████| 2/2 [00:00<00:00,  6.55it/s]"
     ]
    },
    {
     "name": "stdout",
     "output_type": "stream",
     "text": [
      "                   all         44        101      0.384      0.561      0.434      0.159\n"
     ]
    },
    {
     "name": "stderr",
     "output_type": "stream",
     "text": [
      "\n"
     ]
    },
    {
     "name": "stdout",
     "output_type": "stream",
     "text": [
      "\n",
      "      Epoch    GPU_mem   box_loss   cls_loss   dfl_loss  Instances       Size\n"
     ]
    },
    {
     "name": "stderr",
     "output_type": "stream",
     "text": [
      "    136/300         7G      1.126      1.055      1.485         14        640: 100%|██████████| 12/12 [00:02<00:00,  5.33it/s]\n",
      "                 Class     Images  Instances      Box(P          R      mAP50  mAP50-95): 100%|██████████| 2/2 [00:00<00:00,  6.14it/s]"
     ]
    },
    {
     "name": "stdout",
     "output_type": "stream",
     "text": [
      "                   all         44        101       0.46      0.475      0.461      0.163\n"
     ]
    },
    {
     "name": "stderr",
     "output_type": "stream",
     "text": [
      "\n"
     ]
    },
    {
     "name": "stdout",
     "output_type": "stream",
     "text": [
      "\n",
      "      Epoch    GPU_mem   box_loss   cls_loss   dfl_loss  Instances       Size\n"
     ]
    },
    {
     "name": "stderr",
     "output_type": "stream",
     "text": [
      "    137/300         7G      1.167      1.126       1.52         11        640: 100%|██████████| 12/12 [00:02<00:00,  5.35it/s]\n",
      "                 Class     Images  Instances      Box(P          R      mAP50  mAP50-95): 100%|██████████| 2/2 [00:00<00:00,  6.28it/s]"
     ]
    },
    {
     "name": "stdout",
     "output_type": "stream",
     "text": [
      "                   all         44        101      0.483      0.425      0.456      0.161\n"
     ]
    },
    {
     "name": "stderr",
     "output_type": "stream",
     "text": [
      "\n"
     ]
    },
    {
     "name": "stdout",
     "output_type": "stream",
     "text": [
      "\n",
      "      Epoch    GPU_mem   box_loss   cls_loss   dfl_loss  Instances       Size\n"
     ]
    },
    {
     "name": "stderr",
     "output_type": "stream",
     "text": [
      "    138/300      6.99G      1.113      1.055      1.474         17        640: 100%|██████████| 12/12 [00:02<00:00,  5.40it/s]\n",
      "                 Class     Images  Instances      Box(P          R      mAP50  mAP50-95): 100%|██████████| 2/2 [00:00<00:00,  6.41it/s]"
     ]
    },
    {
     "name": "stdout",
     "output_type": "stream",
     "text": [
      "                   all         44        101      0.546      0.432      0.479      0.176\n"
     ]
    },
    {
     "name": "stderr",
     "output_type": "stream",
     "text": [
      "\n"
     ]
    },
    {
     "name": "stdout",
     "output_type": "stream",
     "text": [
      "\n",
      "      Epoch    GPU_mem   box_loss   cls_loss   dfl_loss  Instances       Size\n"
     ]
    },
    {
     "name": "stderr",
     "output_type": "stream",
     "text": [
      "    139/300      6.99G      1.092      1.036      1.465         16        640: 100%|██████████| 12/12 [00:02<00:00,  5.01it/s]\n",
      "                 Class     Images  Instances      Box(P          R      mAP50  mAP50-95): 100%|██████████| 2/2 [00:00<00:00,  6.51it/s]"
     ]
    },
    {
     "name": "stdout",
     "output_type": "stream",
     "text": [
      "                   all         44        101      0.397      0.522      0.461      0.171\n"
     ]
    },
    {
     "name": "stderr",
     "output_type": "stream",
     "text": [
      "\n"
     ]
    },
    {
     "name": "stdout",
     "output_type": "stream",
     "text": [
      "\n",
      "      Epoch    GPU_mem   box_loss   cls_loss   dfl_loss  Instances       Size\n"
     ]
    },
    {
     "name": "stderr",
     "output_type": "stream",
     "text": [
      "    140/300         7G      1.092     0.9835      1.468         15        640: 100%|██████████| 12/12 [00:02<00:00,  5.33it/s]\n",
      "                 Class     Images  Instances      Box(P          R      mAP50  mAP50-95): 100%|██████████| 2/2 [00:00<00:00,  6.20it/s]"
     ]
    },
    {
     "name": "stdout",
     "output_type": "stream",
     "text": [
      "                   all         44        101      0.377      0.495      0.422       0.15\n"
     ]
    },
    {
     "name": "stderr",
     "output_type": "stream",
     "text": [
      "\n"
     ]
    },
    {
     "name": "stdout",
     "output_type": "stream",
     "text": [
      "\n",
      "      Epoch    GPU_mem   box_loss   cls_loss   dfl_loss  Instances       Size\n"
     ]
    },
    {
     "name": "stderr",
     "output_type": "stream",
     "text": [
      "    141/300      6.99G       1.11      1.046      1.461         12        640: 100%|██████████| 12/12 [00:02<00:00,  5.37it/s]\n",
      "                 Class     Images  Instances      Box(P          R      mAP50  mAP50-95): 100%|██████████| 2/2 [00:00<00:00,  6.35it/s]"
     ]
    },
    {
     "name": "stdout",
     "output_type": "stream",
     "text": [
      "                   all         44        101       0.43      0.492       0.45      0.162\n"
     ]
    },
    {
     "name": "stderr",
     "output_type": "stream",
     "text": [
      "\n"
     ]
    },
    {
     "name": "stdout",
     "output_type": "stream",
     "text": [
      "\n",
      "      Epoch    GPU_mem   box_loss   cls_loss   dfl_loss  Instances       Size\n"
     ]
    },
    {
     "name": "stderr",
     "output_type": "stream",
     "text": [
      "    142/300      6.99G      1.078      1.048      1.467          7        640: 100%|██████████| 12/12 [00:02<00:00,  5.44it/s]\n",
      "                 Class     Images  Instances      Box(P          R      mAP50  mAP50-95): 100%|██████████| 2/2 [00:00<00:00,  6.40it/s]"
     ]
    },
    {
     "name": "stdout",
     "output_type": "stream",
     "text": [
      "                   all         44        101      0.397      0.565      0.461      0.155\n"
     ]
    },
    {
     "name": "stderr",
     "output_type": "stream",
     "text": [
      "\n"
     ]
    },
    {
     "name": "stdout",
     "output_type": "stream",
     "text": [
      "\n",
      "      Epoch    GPU_mem   box_loss   cls_loss   dfl_loss  Instances       Size\n"
     ]
    },
    {
     "name": "stderr",
     "output_type": "stream",
     "text": [
      "    143/300      6.99G      1.078      1.023      1.444         25        640: 100%|██████████| 12/12 [00:02<00:00,  5.36it/s]\n",
      "                 Class     Images  Instances      Box(P          R      mAP50  mAP50-95): 100%|██████████| 2/2 [00:00<00:00,  6.49it/s]"
     ]
    },
    {
     "name": "stdout",
     "output_type": "stream",
     "text": [
      "                   all         44        101      0.401      0.443      0.391      0.148\n"
     ]
    },
    {
     "name": "stderr",
     "output_type": "stream",
     "text": [
      "\n"
     ]
    },
    {
     "name": "stdout",
     "output_type": "stream",
     "text": [
      "\n",
      "      Epoch    GPU_mem   box_loss   cls_loss   dfl_loss  Instances       Size\n"
     ]
    },
    {
     "name": "stderr",
     "output_type": "stream",
     "text": [
      "    144/300      6.99G      1.036       0.98      1.412         23        640: 100%|██████████| 12/12 [00:02<00:00,  5.39it/s]\n",
      "                 Class     Images  Instances      Box(P          R      mAP50  mAP50-95): 100%|██████████| 2/2 [00:00<00:00,  6.48it/s]"
     ]
    },
    {
     "name": "stdout",
     "output_type": "stream",
     "text": [
      "                   all         44        101      0.542      0.415      0.451      0.163\n"
     ]
    },
    {
     "name": "stderr",
     "output_type": "stream",
     "text": [
      "\n"
     ]
    },
    {
     "name": "stdout",
     "output_type": "stream",
     "text": [
      "\n",
      "      Epoch    GPU_mem   box_loss   cls_loss   dfl_loss  Instances       Size\n"
     ]
    },
    {
     "name": "stderr",
     "output_type": "stream",
     "text": [
      "    145/300      6.99G       1.11      1.043      1.473         18        640: 100%|██████████| 12/12 [00:02<00:00,  5.36it/s]\n",
      "                 Class     Images  Instances      Box(P          R      mAP50  mAP50-95): 100%|██████████| 2/2 [00:00<00:00,  6.47it/s]"
     ]
    },
    {
     "name": "stdout",
     "output_type": "stream",
     "text": [
      "                   all         44        101      0.487       0.51       0.46       0.16\n"
     ]
    },
    {
     "name": "stderr",
     "output_type": "stream",
     "text": [
      "\n"
     ]
    },
    {
     "name": "stdout",
     "output_type": "stream",
     "text": [
      "\n",
      "      Epoch    GPU_mem   box_loss   cls_loss   dfl_loss  Instances       Size\n"
     ]
    },
    {
     "name": "stderr",
     "output_type": "stream",
     "text": [
      "    146/300      6.99G        1.1      1.055      1.485         13        640: 100%|██████████| 12/12 [00:02<00:00,  5.38it/s]\n",
      "                 Class     Images  Instances      Box(P          R      mAP50  mAP50-95): 100%|██████████| 2/2 [00:00<00:00,  6.43it/s]"
     ]
    },
    {
     "name": "stdout",
     "output_type": "stream",
     "text": [
      "                   all         44        101      0.469      0.498      0.446      0.157\n"
     ]
    },
    {
     "name": "stderr",
     "output_type": "stream",
     "text": [
      "\n"
     ]
    },
    {
     "name": "stdout",
     "output_type": "stream",
     "text": [
      "\n",
      "      Epoch    GPU_mem   box_loss   cls_loss   dfl_loss  Instances       Size\n"
     ]
    },
    {
     "name": "stderr",
     "output_type": "stream",
     "text": [
      "    147/300      6.99G      1.054     0.9845      1.425         20        640: 100%|██████████| 12/12 [00:02<00:00,  5.36it/s]\n",
      "                 Class     Images  Instances      Box(P          R      mAP50  mAP50-95): 100%|██████████| 2/2 [00:00<00:00,  6.14it/s]"
     ]
    },
    {
     "name": "stdout",
     "output_type": "stream",
     "text": [
      "                   all         44        101       0.42      0.533      0.438      0.159\n"
     ]
    },
    {
     "name": "stderr",
     "output_type": "stream",
     "text": [
      "\n"
     ]
    },
    {
     "name": "stdout",
     "output_type": "stream",
     "text": [
      "\n",
      "      Epoch    GPU_mem   box_loss   cls_loss   dfl_loss  Instances       Size\n"
     ]
    },
    {
     "name": "stderr",
     "output_type": "stream",
     "text": [
      "    148/300      6.99G      1.086      1.036      1.458         14        640: 100%|██████████| 12/12 [00:02<00:00,  5.39it/s]\n",
      "                 Class     Images  Instances      Box(P          R      mAP50  mAP50-95): 100%|██████████| 2/2 [00:00<00:00,  6.45it/s]"
     ]
    },
    {
     "name": "stdout",
     "output_type": "stream",
     "text": [
      "                   all         44        101      0.505      0.516      0.467       0.17\n"
     ]
    },
    {
     "name": "stderr",
     "output_type": "stream",
     "text": [
      "\n"
     ]
    },
    {
     "name": "stdout",
     "output_type": "stream",
     "text": [
      "\n",
      "      Epoch    GPU_mem   box_loss   cls_loss   dfl_loss  Instances       Size\n"
     ]
    },
    {
     "name": "stderr",
     "output_type": "stream",
     "text": [
      "    149/300      6.99G      1.103     0.9736       1.45         21        640: 100%|██████████| 12/12 [00:02<00:00,  5.37it/s]\n",
      "                 Class     Images  Instances      Box(P          R      mAP50  mAP50-95): 100%|██████████| 2/2 [00:00<00:00,  6.20it/s]"
     ]
    },
    {
     "name": "stdout",
     "output_type": "stream",
     "text": [
      "                   all         44        101      0.512      0.538      0.499      0.175\n"
     ]
    },
    {
     "name": "stderr",
     "output_type": "stream",
     "text": [
      "\n"
     ]
    },
    {
     "name": "stdout",
     "output_type": "stream",
     "text": [
      "\n",
      "      Epoch    GPU_mem   box_loss   cls_loss   dfl_loss  Instances       Size\n"
     ]
    },
    {
     "name": "stderr",
     "output_type": "stream",
     "text": [
      "    150/300      6.99G      1.097      1.016       1.46         17        640: 100%|██████████| 12/12 [00:02<00:00,  5.35it/s]\n",
      "                 Class     Images  Instances      Box(P          R      mAP50  mAP50-95): 100%|██████████| 2/2 [00:00<00:00,  6.57it/s]"
     ]
    },
    {
     "name": "stdout",
     "output_type": "stream",
     "text": [
      "                   all         44        101      0.402      0.509      0.454      0.157\n"
     ]
    },
    {
     "name": "stderr",
     "output_type": "stream",
     "text": [
      "\n"
     ]
    },
    {
     "name": "stdout",
     "output_type": "stream",
     "text": [
      "\n",
      "      Epoch    GPU_mem   box_loss   cls_loss   dfl_loss  Instances       Size\n"
     ]
    },
    {
     "name": "stderr",
     "output_type": "stream",
     "text": [
      "    151/300         7G      1.106      1.012      1.461         17        640: 100%|██████████| 12/12 [00:02<00:00,  5.37it/s]\n",
      "                 Class     Images  Instances      Box(P          R      mAP50  mAP50-95): 100%|██████████| 2/2 [00:00<00:00,  6.38it/s]"
     ]
    },
    {
     "name": "stdout",
     "output_type": "stream",
     "text": [
      "                   all         44        101      0.441      0.442      0.432      0.137\n"
     ]
    },
    {
     "name": "stderr",
     "output_type": "stream",
     "text": [
      "\n"
     ]
    },
    {
     "name": "stdout",
     "output_type": "stream",
     "text": [
      "\n",
      "      Epoch    GPU_mem   box_loss   cls_loss   dfl_loss  Instances       Size\n"
     ]
    },
    {
     "name": "stderr",
     "output_type": "stream",
     "text": [
      "    152/300      6.99G      1.034     0.9834      1.417         23        640: 100%|██████████| 12/12 [00:02<00:00,  5.36it/s]\n",
      "                 Class     Images  Instances      Box(P          R      mAP50  mAP50-95): 100%|██████████| 2/2 [00:00<00:00,  6.42it/s]"
     ]
    },
    {
     "name": "stdout",
     "output_type": "stream",
     "text": [
      "                   all         44        101      0.365      0.515      0.405      0.137\n"
     ]
    },
    {
     "name": "stderr",
     "output_type": "stream",
     "text": [
      "\n"
     ]
    },
    {
     "name": "stdout",
     "output_type": "stream",
     "text": [
      "\n",
      "      Epoch    GPU_mem   box_loss   cls_loss   dfl_loss  Instances       Size\n"
     ]
    },
    {
     "name": "stderr",
     "output_type": "stream",
     "text": [
      "    153/300      6.99G     0.9792     0.9034      1.351         19        640: 100%|██████████| 12/12 [00:02<00:00,  5.38it/s]\n",
      "                 Class     Images  Instances      Box(P          R      mAP50  mAP50-95): 100%|██████████| 2/2 [00:00<00:00,  6.45it/s]"
     ]
    },
    {
     "name": "stdout",
     "output_type": "stream",
     "text": [
      "                   all         44        101      0.334      0.495      0.407      0.151\n"
     ]
    },
    {
     "name": "stderr",
     "output_type": "stream",
     "text": [
      "\n"
     ]
    },
    {
     "name": "stdout",
     "output_type": "stream",
     "text": [
      "\n",
      "      Epoch    GPU_mem   box_loss   cls_loss   dfl_loss  Instances       Size\n"
     ]
    },
    {
     "name": "stderr",
     "output_type": "stream",
     "text": [
      "    154/300      6.99G     0.9989      0.964      1.397         19        640: 100%|██████████| 12/12 [00:02<00:00,  5.29it/s]\n",
      "                 Class     Images  Instances      Box(P          R      mAP50  mAP50-95): 100%|██████████| 2/2 [00:00<00:00,  6.46it/s]"
     ]
    },
    {
     "name": "stdout",
     "output_type": "stream",
     "text": [
      "                   all         44        101       0.45        0.4      0.413      0.155\n"
     ]
    },
    {
     "name": "stderr",
     "output_type": "stream",
     "text": [
      "\n"
     ]
    },
    {
     "name": "stdout",
     "output_type": "stream",
     "text": [
      "\n",
      "      Epoch    GPU_mem   box_loss   cls_loss   dfl_loss  Instances       Size\n"
     ]
    },
    {
     "name": "stderr",
     "output_type": "stream",
     "text": [
      "    155/300      6.99G      1.042      1.019      1.437         16        640: 100%|██████████| 12/12 [00:02<00:00,  5.37it/s]\n",
      "                 Class     Images  Instances      Box(P          R      mAP50  mAP50-95): 100%|██████████| 2/2 [00:00<00:00,  6.46it/s]"
     ]
    },
    {
     "name": "stdout",
     "output_type": "stream",
     "text": [
      "                   all         44        101      0.356      0.502      0.449      0.155\n"
     ]
    },
    {
     "name": "stderr",
     "output_type": "stream",
     "text": [
      "\n"
     ]
    },
    {
     "name": "stdout",
     "output_type": "stream",
     "text": [
      "\n",
      "      Epoch    GPU_mem   box_loss   cls_loss   dfl_loss  Instances       Size\n"
     ]
    },
    {
     "name": "stderr",
     "output_type": "stream",
     "text": [
      "    156/300      6.99G      0.994     0.9539      1.404         12        640: 100%|██████████| 12/12 [00:02<00:00,  5.39it/s]\n",
      "                 Class     Images  Instances      Box(P          R      mAP50  mAP50-95): 100%|██████████| 2/2 [00:00<00:00,  6.17it/s]"
     ]
    },
    {
     "name": "stdout",
     "output_type": "stream",
     "text": [
      "                   all         44        101      0.333      0.526      0.423      0.159\n"
     ]
    },
    {
     "name": "stderr",
     "output_type": "stream",
     "text": [
      "\n"
     ]
    },
    {
     "name": "stdout",
     "output_type": "stream",
     "text": [
      "\n",
      "      Epoch    GPU_mem   box_loss   cls_loss   dfl_loss  Instances       Size\n"
     ]
    },
    {
     "name": "stderr",
     "output_type": "stream",
     "text": [
      "    157/300      6.99G     0.9999     0.9154      1.383         17        640: 100%|██████████| 12/12 [00:02<00:00,  5.38it/s]\n",
      "                 Class     Images  Instances      Box(P          R      mAP50  mAP50-95): 100%|██████████| 2/2 [00:00<00:00,  6.45it/s]"
     ]
    },
    {
     "name": "stdout",
     "output_type": "stream",
     "text": [
      "                   all         44        101      0.383      0.463      0.398      0.151\n"
     ]
    },
    {
     "name": "stderr",
     "output_type": "stream",
     "text": [
      "\n"
     ]
    },
    {
     "name": "stdout",
     "output_type": "stream",
     "text": [
      "\n",
      "      Epoch    GPU_mem   box_loss   cls_loss   dfl_loss  Instances       Size\n"
     ]
    },
    {
     "name": "stderr",
     "output_type": "stream",
     "text": [
      "    158/300      6.99G      1.009     0.8932      1.372         22        640: 100%|██████████| 12/12 [00:02<00:00,  5.38it/s]\n",
      "                 Class     Images  Instances      Box(P          R      mAP50  mAP50-95): 100%|██████████| 2/2 [00:00<00:00,  6.47it/s]"
     ]
    },
    {
     "name": "stdout",
     "output_type": "stream",
     "text": [
      "                   all         44        101      0.387      0.513      0.463      0.154\n"
     ]
    },
    {
     "name": "stderr",
     "output_type": "stream",
     "text": [
      "\n"
     ]
    },
    {
     "name": "stdout",
     "output_type": "stream",
     "text": [
      "\n",
      "      Epoch    GPU_mem   box_loss   cls_loss   dfl_loss  Instances       Size\n"
     ]
    },
    {
     "name": "stderr",
     "output_type": "stream",
     "text": [
      "    159/300         7G      1.072      0.954      1.448         17        640: 100%|██████████| 12/12 [00:02<00:00,  5.40it/s]\n",
      "                 Class     Images  Instances      Box(P          R      mAP50  mAP50-95): 100%|██████████| 2/2 [00:00<00:00,  6.38it/s]"
     ]
    },
    {
     "name": "stdout",
     "output_type": "stream",
     "text": [
      "                   all         44        101      0.439      0.478       0.45      0.158\n"
     ]
    },
    {
     "name": "stderr",
     "output_type": "stream",
     "text": [
      "\n"
     ]
    },
    {
     "name": "stdout",
     "output_type": "stream",
     "text": [
      "\n",
      "      Epoch    GPU_mem   box_loss   cls_loss   dfl_loss  Instances       Size\n"
     ]
    },
    {
     "name": "stderr",
     "output_type": "stream",
     "text": [
      "    160/300      6.99G     0.9898     0.8858      1.362         29        640: 100%|██████████| 12/12 [00:02<00:00,  5.39it/s]\n",
      "                 Class     Images  Instances      Box(P          R      mAP50  mAP50-95): 100%|██████████| 2/2 [00:00<00:00,  6.43it/s]"
     ]
    },
    {
     "name": "stdout",
     "output_type": "stream",
     "text": [
      "                   all         44        101      0.413      0.501      0.432      0.156\n"
     ]
    },
    {
     "name": "stderr",
     "output_type": "stream",
     "text": [
      "\n"
     ]
    },
    {
     "name": "stdout",
     "output_type": "stream",
     "text": [
      "\n",
      "      Epoch    GPU_mem   box_loss   cls_loss   dfl_loss  Instances       Size\n"
     ]
    },
    {
     "name": "stderr",
     "output_type": "stream",
     "text": [
      "    161/300      6.99G     0.9821     0.9005      1.371         18        640: 100%|██████████| 12/12 [00:02<00:00,  5.25it/s]\n",
      "                 Class     Images  Instances      Box(P          R      mAP50  mAP50-95): 100%|██████████| 2/2 [00:00<00:00,  6.45it/s]"
     ]
    },
    {
     "name": "stdout",
     "output_type": "stream",
     "text": [
      "                   all         44        101      0.461       0.42      0.443      0.155\n"
     ]
    },
    {
     "name": "stderr",
     "output_type": "stream",
     "text": [
      "\n"
     ]
    },
    {
     "name": "stdout",
     "output_type": "stream",
     "text": [
      "\n",
      "      Epoch    GPU_mem   box_loss   cls_loss   dfl_loss  Instances       Size\n"
     ]
    },
    {
     "name": "stderr",
     "output_type": "stream",
     "text": [
      "    162/300      6.99G     0.9665     0.8741      1.353         20        640: 100%|██████████| 12/12 [00:02<00:00,  5.36it/s]\n",
      "                 Class     Images  Instances      Box(P          R      mAP50  mAP50-95): 100%|██████████| 2/2 [00:00<00:00,  6.44it/s]"
     ]
    },
    {
     "name": "stdout",
     "output_type": "stream",
     "text": [
      "                   all         44        101      0.427      0.549      0.454      0.163\n"
     ]
    },
    {
     "name": "stderr",
     "output_type": "stream",
     "text": [
      "\n"
     ]
    },
    {
     "name": "stdout",
     "output_type": "stream",
     "text": [
      "\n",
      "      Epoch    GPU_mem   box_loss   cls_loss   dfl_loss  Instances       Size\n"
     ]
    },
    {
     "name": "stderr",
     "output_type": "stream",
     "text": [
      "    163/300      6.99G     0.9381     0.9014       1.35         20        640: 100%|██████████| 12/12 [00:02<00:00,  5.36it/s]\n",
      "                 Class     Images  Instances      Box(P          R      mAP50  mAP50-95): 100%|██████████| 2/2 [00:00<00:00,  6.45it/s]"
     ]
    },
    {
     "name": "stdout",
     "output_type": "stream",
     "text": [
      "                   all         44        101      0.371      0.504      0.431      0.152\n"
     ]
    },
    {
     "name": "stderr",
     "output_type": "stream",
     "text": [
      "\n"
     ]
    },
    {
     "name": "stdout",
     "output_type": "stream",
     "text": [
      "\n",
      "      Epoch    GPU_mem   box_loss   cls_loss   dfl_loss  Instances       Size\n"
     ]
    },
    {
     "name": "stderr",
     "output_type": "stream",
     "text": [
      "    164/300      6.99G     0.9648     0.8758      1.363         18        640: 100%|██████████| 12/12 [00:02<00:00,  5.35it/s]\n",
      "                 Class     Images  Instances      Box(P          R      mAP50  mAP50-95): 100%|██████████| 2/2 [00:00<00:00,  6.49it/s]"
     ]
    },
    {
     "name": "stdout",
     "output_type": "stream",
     "text": [
      "                   all         44        101      0.479      0.432      0.434      0.164\n"
     ]
    },
    {
     "name": "stderr",
     "output_type": "stream",
     "text": [
      "\n"
     ]
    },
    {
     "name": "stdout",
     "output_type": "stream",
     "text": [
      "\n",
      "      Epoch    GPU_mem   box_loss   cls_loss   dfl_loss  Instances       Size\n"
     ]
    },
    {
     "name": "stderr",
     "output_type": "stream",
     "text": [
      "    165/300         7G     0.9751     0.9012      1.365         14        640: 100%|██████████| 12/12 [00:02<00:00,  5.37it/s]\n",
      "                 Class     Images  Instances      Box(P          R      mAP50  mAP50-95): 100%|██████████| 2/2 [00:00<00:00,  6.63it/s]"
     ]
    },
    {
     "name": "stdout",
     "output_type": "stream",
     "text": [
      "                   all         44        101      0.405      0.513      0.468       0.17\n"
     ]
    },
    {
     "name": "stderr",
     "output_type": "stream",
     "text": [
      "\n"
     ]
    },
    {
     "name": "stdout",
     "output_type": "stream",
     "text": [
      "\n",
      "      Epoch    GPU_mem   box_loss   cls_loss   dfl_loss  Instances       Size\n"
     ]
    },
    {
     "name": "stderr",
     "output_type": "stream",
     "text": [
      "    166/300      6.99G     0.9702     0.8881      1.363         20        640: 100%|██████████| 12/12 [00:02<00:00,  5.25it/s]\n",
      "                 Class     Images  Instances      Box(P          R      mAP50  mAP50-95): 100%|██████████| 2/2 [00:00<00:00,  6.51it/s]"
     ]
    },
    {
     "name": "stdout",
     "output_type": "stream",
     "text": [
      "                   all         44        101      0.475      0.484      0.458      0.167\n"
     ]
    },
    {
     "name": "stderr",
     "output_type": "stream",
     "text": [
      "\n"
     ]
    },
    {
     "name": "stdout",
     "output_type": "stream",
     "text": [
      "\n",
      "      Epoch    GPU_mem   box_loss   cls_loss   dfl_loss  Instances       Size\n"
     ]
    },
    {
     "name": "stderr",
     "output_type": "stream",
     "text": [
      "    167/300      6.99G     0.9505     0.8794       1.35         27        640: 100%|██████████| 12/12 [00:02<00:00,  5.37it/s]\n",
      "                 Class     Images  Instances      Box(P          R      mAP50  mAP50-95): 100%|██████████| 2/2 [00:00<00:00,  6.46it/s]"
     ]
    },
    {
     "name": "stdout",
     "output_type": "stream",
     "text": [
      "                   all         44        101      0.458      0.493      0.469      0.176\n"
     ]
    },
    {
     "name": "stderr",
     "output_type": "stream",
     "text": [
      "\n"
     ]
    },
    {
     "name": "stdout",
     "output_type": "stream",
     "text": [
      "\n",
      "      Epoch    GPU_mem   box_loss   cls_loss   dfl_loss  Instances       Size\n"
     ]
    },
    {
     "name": "stderr",
     "output_type": "stream",
     "text": [
      "    168/300      6.99G     0.9682     0.8863      1.364         10        640: 100%|██████████| 12/12 [00:02<00:00,  5.38it/s]\n",
      "                 Class     Images  Instances      Box(P          R      mAP50  mAP50-95): 100%|██████████| 2/2 [00:00<00:00,  6.34it/s]"
     ]
    },
    {
     "name": "stdout",
     "output_type": "stream",
     "text": [
      "                   all         44        101       0.43      0.558       0.45      0.155\n"
     ]
    },
    {
     "name": "stderr",
     "output_type": "stream",
     "text": [
      "\n"
     ]
    },
    {
     "name": "stdout",
     "output_type": "stream",
     "text": [
      "\n",
      "      Epoch    GPU_mem   box_loss   cls_loss   dfl_loss  Instances       Size\n"
     ]
    },
    {
     "name": "stderr",
     "output_type": "stream",
     "text": [
      "    169/300      6.99G     0.9259     0.8525      1.327         28        640: 100%|██████████| 12/12 [00:02<00:00,  5.36it/s]\n",
      "                 Class     Images  Instances      Box(P          R      mAP50  mAP50-95): 100%|██████████| 2/2 [00:00<00:00,  6.44it/s]"
     ]
    },
    {
     "name": "stdout",
     "output_type": "stream",
     "text": [
      "                   all         44        101      0.477      0.552      0.467      0.169\n"
     ]
    },
    {
     "name": "stderr",
     "output_type": "stream",
     "text": [
      "\n"
     ]
    },
    {
     "name": "stdout",
     "output_type": "stream",
     "text": [
      "\n",
      "      Epoch    GPU_mem   box_loss   cls_loss   dfl_loss  Instances       Size\n"
     ]
    },
    {
     "name": "stderr",
     "output_type": "stream",
     "text": [
      "    170/300      6.99G     0.9055     0.7833        1.3         20        640: 100%|██████████| 12/12 [00:02<00:00,  5.40it/s]\n",
      "                 Class     Images  Instances      Box(P          R      mAP50  mAP50-95): 100%|██████████| 2/2 [00:00<00:00,  6.51it/s]"
     ]
    },
    {
     "name": "stdout",
     "output_type": "stream",
     "text": [
      "                   all         44        101      0.474      0.511      0.444      0.156\n"
     ]
    },
    {
     "name": "stderr",
     "output_type": "stream",
     "text": [
      "\n"
     ]
    },
    {
     "name": "stdout",
     "output_type": "stream",
     "text": [
      "\n",
      "      Epoch    GPU_mem   box_loss   cls_loss   dfl_loss  Instances       Size\n"
     ]
    },
    {
     "name": "stderr",
     "output_type": "stream",
     "text": [
      "    171/300      6.99G     0.9142     0.7741      1.297         22        640: 100%|██████████| 12/12 [00:02<00:00,  5.34it/s]\n",
      "                 Class     Images  Instances      Box(P          R      mAP50  mAP50-95): 100%|██████████| 2/2 [00:00<00:00,  6.48it/s]"
     ]
    },
    {
     "name": "stdout",
     "output_type": "stream",
     "text": [
      "                   all         44        101      0.432      0.477      0.376      0.141\n"
     ]
    },
    {
     "name": "stderr",
     "output_type": "stream",
     "text": [
      "\n"
     ]
    },
    {
     "name": "stdout",
     "output_type": "stream",
     "text": [
      "\n",
      "      Epoch    GPU_mem   box_loss   cls_loss   dfl_loss  Instances       Size\n"
     ]
    },
    {
     "name": "stderr",
     "output_type": "stream",
     "text": [
      "    172/300      6.99G     0.9479     0.8649      1.337         18        640: 100%|██████████| 12/12 [00:02<00:00,  5.39it/s]\n",
      "                 Class     Images  Instances      Box(P          R      mAP50  mAP50-95): 100%|██████████| 2/2 [00:00<00:00,  6.46it/s]"
     ]
    },
    {
     "name": "stdout",
     "output_type": "stream",
     "text": [
      "                   all         44        101      0.337      0.517      0.402      0.157\n"
     ]
    },
    {
     "name": "stderr",
     "output_type": "stream",
     "text": [
      "\n"
     ]
    },
    {
     "name": "stdout",
     "output_type": "stream",
     "text": [
      "\n",
      "      Epoch    GPU_mem   box_loss   cls_loss   dfl_loss  Instances       Size\n"
     ]
    },
    {
     "name": "stderr",
     "output_type": "stream",
     "text": [
      "    173/300      6.99G     0.9278     0.8368      1.331         15        640: 100%|██████████| 12/12 [00:02<00:00,  5.29it/s]\n",
      "                 Class     Images  Instances      Box(P          R      mAP50  mAP50-95): 100%|██████████| 2/2 [00:00<00:00,  6.31it/s]"
     ]
    },
    {
     "name": "stdout",
     "output_type": "stream",
     "text": [
      "                   all         44        101      0.375      0.449      0.387      0.163\n"
     ]
    },
    {
     "name": "stderr",
     "output_type": "stream",
     "text": [
      "\n"
     ]
    },
    {
     "name": "stdout",
     "output_type": "stream",
     "text": [
      "\n",
      "      Epoch    GPU_mem   box_loss   cls_loss   dfl_loss  Instances       Size\n"
     ]
    },
    {
     "name": "stderr",
     "output_type": "stream",
     "text": [
      "    174/300      6.99G     0.9659     0.8815      1.355         16        640: 100%|██████████| 12/12 [00:02<00:00,  5.40it/s]\n",
      "                 Class     Images  Instances      Box(P          R      mAP50  mAP50-95): 100%|██████████| 2/2 [00:00<00:00,  6.62it/s]"
     ]
    },
    {
     "name": "stdout",
     "output_type": "stream",
     "text": [
      "                   all         44        101       0.43      0.463      0.412       0.18\n"
     ]
    },
    {
     "name": "stderr",
     "output_type": "stream",
     "text": [
      "\n"
     ]
    },
    {
     "name": "stdout",
     "output_type": "stream",
     "text": [
      "\n",
      "      Epoch    GPU_mem   box_loss   cls_loss   dfl_loss  Instances       Size\n"
     ]
    },
    {
     "name": "stderr",
     "output_type": "stream",
     "text": [
      "    175/300      6.99G     0.9303     0.8377       1.32         24        640: 100%|██████████| 12/12 [00:02<00:00,  5.31it/s]\n",
      "                 Class     Images  Instances      Box(P          R      mAP50  mAP50-95): 100%|██████████| 2/2 [00:00<00:00,  6.45it/s]"
     ]
    },
    {
     "name": "stdout",
     "output_type": "stream",
     "text": [
      "                   all         44        101      0.471       0.48      0.427      0.165\n"
     ]
    },
    {
     "name": "stderr",
     "output_type": "stream",
     "text": [
      "\n"
     ]
    },
    {
     "name": "stdout",
     "output_type": "stream",
     "text": [
      "\n",
      "      Epoch    GPU_mem   box_loss   cls_loss   dfl_loss  Instances       Size\n"
     ]
    },
    {
     "name": "stderr",
     "output_type": "stream",
     "text": [
      "    176/300      6.99G     0.9497     0.8929      1.374         12        640: 100%|██████████| 12/12 [00:02<00:00,  5.29it/s]\n",
      "                 Class     Images  Instances      Box(P          R      mAP50  mAP50-95): 100%|██████████| 2/2 [00:00<00:00,  6.30it/s]"
     ]
    },
    {
     "name": "stdout",
     "output_type": "stream",
     "text": [
      "                   all         44        101        0.4      0.443        0.4       0.14\n"
     ]
    },
    {
     "name": "stderr",
     "output_type": "stream",
     "text": [
      "\n"
     ]
    },
    {
     "name": "stdout",
     "output_type": "stream",
     "text": [
      "\n",
      "      Epoch    GPU_mem   box_loss   cls_loss   dfl_loss  Instances       Size\n"
     ]
    },
    {
     "name": "stderr",
     "output_type": "stream",
     "text": [
      "    177/300      6.99G     0.8835     0.8534      1.313         14        640: 100%|██████████| 12/12 [00:02<00:00,  5.37it/s]\n",
      "                 Class     Images  Instances      Box(P          R      mAP50  mAP50-95): 100%|██████████| 2/2 [00:00<00:00,  6.52it/s]"
     ]
    },
    {
     "name": "stdout",
     "output_type": "stream",
     "text": [
      "                   all         44        101      0.418      0.479      0.447      0.154\n"
     ]
    },
    {
     "name": "stderr",
     "output_type": "stream",
     "text": [
      "\n"
     ]
    },
    {
     "name": "stdout",
     "output_type": "stream",
     "text": [
      "\n",
      "      Epoch    GPU_mem   box_loss   cls_loss   dfl_loss  Instances       Size\n"
     ]
    },
    {
     "name": "stderr",
     "output_type": "stream",
     "text": [
      "    178/300         7G     0.8716     0.7757       1.27         14        640: 100%|██████████| 12/12 [00:02<00:00,  5.38it/s]\n",
      "                 Class     Images  Instances      Box(P          R      mAP50  mAP50-95): 100%|██████████| 2/2 [00:00<00:00,  6.40it/s]"
     ]
    },
    {
     "name": "stdout",
     "output_type": "stream",
     "text": [
      "                   all         44        101      0.424      0.447       0.44      0.151\n"
     ]
    },
    {
     "name": "stderr",
     "output_type": "stream",
     "text": [
      "\n"
     ]
    },
    {
     "name": "stdout",
     "output_type": "stream",
     "text": [
      "\n",
      "      Epoch    GPU_mem   box_loss   cls_loss   dfl_loss  Instances       Size\n"
     ]
    },
    {
     "name": "stderr",
     "output_type": "stream",
     "text": [
      "    179/300         7G      0.914     0.8096      1.345         11        640: 100%|██████████| 12/12 [00:02<00:00,  5.38it/s]\n",
      "                 Class     Images  Instances      Box(P          R      mAP50  mAP50-95): 100%|██████████| 2/2 [00:00<00:00,  6.45it/s]"
     ]
    },
    {
     "name": "stdout",
     "output_type": "stream",
     "text": [
      "                   all         44        101      0.434      0.484      0.449      0.149\n"
     ]
    },
    {
     "name": "stderr",
     "output_type": "stream",
     "text": [
      "\n"
     ]
    },
    {
     "name": "stdout",
     "output_type": "stream",
     "text": [
      "\n",
      "      Epoch    GPU_mem   box_loss   cls_loss   dfl_loss  Instances       Size\n"
     ]
    },
    {
     "name": "stderr",
     "output_type": "stream",
     "text": [
      "    180/300      6.99G     0.9192     0.8126      1.315         10        640: 100%|██████████| 12/12 [00:02<00:00,  5.41it/s]\n",
      "                 Class     Images  Instances      Box(P          R      mAP50  mAP50-95): 100%|██████████| 2/2 [00:00<00:00,  6.44it/s]"
     ]
    },
    {
     "name": "stdout",
     "output_type": "stream",
     "text": [
      "                   all         44        101      0.411      0.516      0.432       0.15\n",
      "Stopping training early as no improvement observed in last 100 epochs. Best results observed at epoch 80, best model saved as best.pt.\n",
      "To update EarlyStopping(patience=100) pass a new patience value, i.e. `patience=300` or use `patience=0` to disable EarlyStopping.\n"
     ]
    },
    {
     "name": "stderr",
     "output_type": "stream",
     "text": [
      "\n"
     ]
    },
    {
     "name": "stdout",
     "output_type": "stream",
     "text": [
      "\n",
      "180 epochs completed in 0.272 hours.\n",
      "Optimizer stripped from runs/detect/train2/weights/last.pt, 52.1MB\n",
      "Optimizer stripped from runs/detect/train2/weights/best.pt, 52.0MB\n",
      "\n",
      "Validating runs/detect/train2/weights/best.pt...\n",
      "Ultralytics YOLOv8.1.24 🚀 Python-3.10.13 torch-2.1.0 CUDA:0 (Tesla V100-SXM2-16GB, 16151MiB)\n",
      "Model summary (fused): 218 layers, 25840918 parameters, 0 gradients, 78.7 GFLOPs\n"
     ]
    },
    {
     "name": "stderr",
     "output_type": "stream",
     "text": [
      "                 Class     Images  Instances      Box(P          R      mAP50  mAP50-95): 100%|██████████| 2/2 [00:00<00:00,  4.80it/s]\n"
     ]
    },
    {
     "name": "stdout",
     "output_type": "stream",
     "text": [
      "                   all         44        101      0.471      0.478      0.521      0.195\n",
      "                  eddy         44         57      0.616      0.842       0.82      0.332\n",
      "              non-eddy         44         44      0.326      0.114      0.221     0.0578\n",
      "Speed: 0.2ms preprocess, 2.8ms inference, 0.0ms loss, 1.7ms postprocess per image\n",
      "Results saved to \u001b[1mruns/detect/train2\u001b[0m\n"
     ]
    },
    {
     "data": {
      "text/plain": [
       "ultralytics.utils.metrics.DetMetrics object with attributes:\n",
       "\n",
       "ap_class_index: array([0, 1])\n",
       "box: ultralytics.utils.metrics.Metric object\n",
       "confusion_matrix: <ultralytics.utils.metrics.ConfusionMatrix object at 0x7f86685a55d0>\n",
       "curves: ['Precision-Recall(B)', 'F1-Confidence(B)', 'Precision-Confidence(B)', 'Recall-Confidence(B)']\n",
       "curves_results: [[array([          0,    0.001001,    0.002002,    0.003003,    0.004004,    0.005005,    0.006006,    0.007007,    0.008008,    0.009009,     0.01001,    0.011011,    0.012012,    0.013013,    0.014014,    0.015015,    0.016016,    0.017017,    0.018018,    0.019019,     0.02002,    0.021021,    0.022022,    0.023023,\n",
       "          0.024024,    0.025025,    0.026026,    0.027027,    0.028028,    0.029029,     0.03003,    0.031031,    0.032032,    0.033033,    0.034034,    0.035035,    0.036036,    0.037037,    0.038038,    0.039039,     0.04004,    0.041041,    0.042042,    0.043043,    0.044044,    0.045045,    0.046046,    0.047047,\n",
       "          0.048048,    0.049049,     0.05005,    0.051051,    0.052052,    0.053053,    0.054054,    0.055055,    0.056056,    0.057057,    0.058058,    0.059059,     0.06006,    0.061061,    0.062062,    0.063063,    0.064064,    0.065065,    0.066066,    0.067067,    0.068068,    0.069069,     0.07007,    0.071071,\n",
       "          0.072072,    0.073073,    0.074074,    0.075075,    0.076076,    0.077077,    0.078078,    0.079079,     0.08008,    0.081081,    0.082082,    0.083083,    0.084084,    0.085085,    0.086086,    0.087087,    0.088088,    0.089089,     0.09009,    0.091091,    0.092092,    0.093093,    0.094094,    0.095095,\n",
       "          0.096096,    0.097097,    0.098098,    0.099099,      0.1001,      0.1011,      0.1021,      0.1031,      0.1041,     0.10511,     0.10611,     0.10711,     0.10811,     0.10911,     0.11011,     0.11111,     0.11211,     0.11311,     0.11411,     0.11512,     0.11612,     0.11712,     0.11812,     0.11912,\n",
       "           0.12012,     0.12112,     0.12212,     0.12312,     0.12412,     0.12513,     0.12613,     0.12713,     0.12813,     0.12913,     0.13013,     0.13113,     0.13213,     0.13313,     0.13413,     0.13514,     0.13614,     0.13714,     0.13814,     0.13914,     0.14014,     0.14114,     0.14214,     0.14314,\n",
       "           0.14414,     0.14515,     0.14615,     0.14715,     0.14815,     0.14915,     0.15015,     0.15115,     0.15215,     0.15315,     0.15415,     0.15516,     0.15616,     0.15716,     0.15816,     0.15916,     0.16016,     0.16116,     0.16216,     0.16316,     0.16416,     0.16517,     0.16617,     0.16717,\n",
       "           0.16817,     0.16917,     0.17017,     0.17117,     0.17217,     0.17317,     0.17417,     0.17518,     0.17618,     0.17718,     0.17818,     0.17918,     0.18018,     0.18118,     0.18218,     0.18318,     0.18418,     0.18519,     0.18619,     0.18719,     0.18819,     0.18919,     0.19019,     0.19119,\n",
       "           0.19219,     0.19319,     0.19419,      0.1952,      0.1962,      0.1972,      0.1982,      0.1992,      0.2002,      0.2012,      0.2022,      0.2032,      0.2042,     0.20521,     0.20621,     0.20721,     0.20821,     0.20921,     0.21021,     0.21121,     0.21221,     0.21321,     0.21421,     0.21522,\n",
       "           0.21622,     0.21722,     0.21822,     0.21922,     0.22022,     0.22122,     0.22222,     0.22322,     0.22422,     0.22523,     0.22623,     0.22723,     0.22823,     0.22923,     0.23023,     0.23123,     0.23223,     0.23323,     0.23423,     0.23524,     0.23624,     0.23724,     0.23824,     0.23924,\n",
       "           0.24024,     0.24124,     0.24224,     0.24324,     0.24424,     0.24525,     0.24625,     0.24725,     0.24825,     0.24925,     0.25025,     0.25125,     0.25225,     0.25325,     0.25425,     0.25526,     0.25626,     0.25726,     0.25826,     0.25926,     0.26026,     0.26126,     0.26226,     0.26326,\n",
       "           0.26426,     0.26527,     0.26627,     0.26727,     0.26827,     0.26927,     0.27027,     0.27127,     0.27227,     0.27327,     0.27427,     0.27528,     0.27628,     0.27728,     0.27828,     0.27928,     0.28028,     0.28128,     0.28228,     0.28328,     0.28428,     0.28529,     0.28629,     0.28729,\n",
       "           0.28829,     0.28929,     0.29029,     0.29129,     0.29229,     0.29329,     0.29429,      0.2953,      0.2963,      0.2973,      0.2983,      0.2993,      0.3003,      0.3013,      0.3023,      0.3033,      0.3043,     0.30531,     0.30631,     0.30731,     0.30831,     0.30931,     0.31031,     0.31131,\n",
       "           0.31231,     0.31331,     0.31431,     0.31532,     0.31632,     0.31732,     0.31832,     0.31932,     0.32032,     0.32132,     0.32232,     0.32332,     0.32432,     0.32533,     0.32633,     0.32733,     0.32833,     0.32933,     0.33033,     0.33133,     0.33233,     0.33333,     0.33433,     0.33534,\n",
       "           0.33634,     0.33734,     0.33834,     0.33934,     0.34034,     0.34134,     0.34234,     0.34334,     0.34434,     0.34535,     0.34635,     0.34735,     0.34835,     0.34935,     0.35035,     0.35135,     0.35235,     0.35335,     0.35435,     0.35536,     0.35636,     0.35736,     0.35836,     0.35936,\n",
       "           0.36036,     0.36136,     0.36236,     0.36336,     0.36436,     0.36537,     0.36637,     0.36737,     0.36837,     0.36937,     0.37037,     0.37137,     0.37237,     0.37337,     0.37437,     0.37538,     0.37638,     0.37738,     0.37838,     0.37938,     0.38038,     0.38138,     0.38238,     0.38338,\n",
       "           0.38438,     0.38539,     0.38639,     0.38739,     0.38839,     0.38939,     0.39039,     0.39139,     0.39239,     0.39339,     0.39439,      0.3954,      0.3964,      0.3974,      0.3984,      0.3994,      0.4004,      0.4014,      0.4024,      0.4034,      0.4044,     0.40541,     0.40641,     0.40741,\n",
       "           0.40841,     0.40941,     0.41041,     0.41141,     0.41241,     0.41341,     0.41441,     0.41542,     0.41642,     0.41742,     0.41842,     0.41942,     0.42042,     0.42142,     0.42242,     0.42342,     0.42442,     0.42543,     0.42643,     0.42743,     0.42843,     0.42943,     0.43043,     0.43143,\n",
       "           0.43243,     0.43343,     0.43443,     0.43544,     0.43644,     0.43744,     0.43844,     0.43944,     0.44044,     0.44144,     0.44244,     0.44344,     0.44444,     0.44545,     0.44645,     0.44745,     0.44845,     0.44945,     0.45045,     0.45145,     0.45245,     0.45345,     0.45445,     0.45546,\n",
       "           0.45646,     0.45746,     0.45846,     0.45946,     0.46046,     0.46146,     0.46246,     0.46346,     0.46446,     0.46547,     0.46647,     0.46747,     0.46847,     0.46947,     0.47047,     0.47147,     0.47247,     0.47347,     0.47447,     0.47548,     0.47648,     0.47748,     0.47848,     0.47948,\n",
       "           0.48048,     0.48148,     0.48248,     0.48348,     0.48448,     0.48549,     0.48649,     0.48749,     0.48849,     0.48949,     0.49049,     0.49149,     0.49249,     0.49349,     0.49449,      0.4955,      0.4965,      0.4975,      0.4985,      0.4995,      0.5005,      0.5015,      0.5025,      0.5035,\n",
       "            0.5045,     0.50551,     0.50651,     0.50751,     0.50851,     0.50951,     0.51051,     0.51151,     0.51251,     0.51351,     0.51451,     0.51552,     0.51652,     0.51752,     0.51852,     0.51952,     0.52052,     0.52152,     0.52252,     0.52352,     0.52452,     0.52553,     0.52653,     0.52753,\n",
       "           0.52853,     0.52953,     0.53053,     0.53153,     0.53253,     0.53353,     0.53453,     0.53554,     0.53654,     0.53754,     0.53854,     0.53954,     0.54054,     0.54154,     0.54254,     0.54354,     0.54454,     0.54555,     0.54655,     0.54755,     0.54855,     0.54955,     0.55055,     0.55155,\n",
       "           0.55255,     0.55355,     0.55455,     0.55556,     0.55656,     0.55756,     0.55856,     0.55956,     0.56056,     0.56156,     0.56256,     0.56356,     0.56456,     0.56557,     0.56657,     0.56757,     0.56857,     0.56957,     0.57057,     0.57157,     0.57257,     0.57357,     0.57457,     0.57558,\n",
       "           0.57658,     0.57758,     0.57858,     0.57958,     0.58058,     0.58158,     0.58258,     0.58358,     0.58458,     0.58559,     0.58659,     0.58759,     0.58859,     0.58959,     0.59059,     0.59159,     0.59259,     0.59359,     0.59459,      0.5956,      0.5966,      0.5976,      0.5986,      0.5996,\n",
       "            0.6006,      0.6016,      0.6026,      0.6036,      0.6046,     0.60561,     0.60661,     0.60761,     0.60861,     0.60961,     0.61061,     0.61161,     0.61261,     0.61361,     0.61461,     0.61562,     0.61662,     0.61762,     0.61862,     0.61962,     0.62062,     0.62162,     0.62262,     0.62362,\n",
       "           0.62462,     0.62563,     0.62663,     0.62763,     0.62863,     0.62963,     0.63063,     0.63163,     0.63263,     0.63363,     0.63463,     0.63564,     0.63664,     0.63764,     0.63864,     0.63964,     0.64064,     0.64164,     0.64264,     0.64364,     0.64464,     0.64565,     0.64665,     0.64765,\n",
       "           0.64865,     0.64965,     0.65065,     0.65165,     0.65265,     0.65365,     0.65465,     0.65566,     0.65666,     0.65766,     0.65866,     0.65966,     0.66066,     0.66166,     0.66266,     0.66366,     0.66466,     0.66567,     0.66667,     0.66767,     0.66867,     0.66967,     0.67067,     0.67167,\n",
       "           0.67267,     0.67367,     0.67467,     0.67568,     0.67668,     0.67768,     0.67868,     0.67968,     0.68068,     0.68168,     0.68268,     0.68368,     0.68468,     0.68569,     0.68669,     0.68769,     0.68869,     0.68969,     0.69069,     0.69169,     0.69269,     0.69369,     0.69469,      0.6957,\n",
       "            0.6967,      0.6977,      0.6987,      0.6997,      0.7007,      0.7017,      0.7027,      0.7037,      0.7047,     0.70571,     0.70671,     0.70771,     0.70871,     0.70971,     0.71071,     0.71171,     0.71271,     0.71371,     0.71471,     0.71572,     0.71672,     0.71772,     0.71872,     0.71972,\n",
       "           0.72072,     0.72172,     0.72272,     0.72372,     0.72472,     0.72573,     0.72673,     0.72773,     0.72873,     0.72973,     0.73073,     0.73173,     0.73273,     0.73373,     0.73473,     0.73574,     0.73674,     0.73774,     0.73874,     0.73974,     0.74074,     0.74174,     0.74274,     0.74374,\n",
       "           0.74474,     0.74575,     0.74675,     0.74775,     0.74875,     0.74975,     0.75075,     0.75175,     0.75275,     0.75375,     0.75475,     0.75576,     0.75676,     0.75776,     0.75876,     0.75976,     0.76076,     0.76176,     0.76276,     0.76376,     0.76476,     0.76577,     0.76677,     0.76777,\n",
       "           0.76877,     0.76977,     0.77077,     0.77177,     0.77277,     0.77377,     0.77477,     0.77578,     0.77678,     0.77778,     0.77878,     0.77978,     0.78078,     0.78178,     0.78278,     0.78378,     0.78478,     0.78579,     0.78679,     0.78779,     0.78879,     0.78979,     0.79079,     0.79179,\n",
       "           0.79279,     0.79379,     0.79479,      0.7958,      0.7968,      0.7978,      0.7988,      0.7998,      0.8008,      0.8018,      0.8028,      0.8038,      0.8048,     0.80581,     0.80681,     0.80781,     0.80881,     0.80981,     0.81081,     0.81181,     0.81281,     0.81381,     0.81481,     0.81582,\n",
       "           0.81682,     0.81782,     0.81882,     0.81982,     0.82082,     0.82182,     0.82282,     0.82382,     0.82482,     0.82583,     0.82683,     0.82783,     0.82883,     0.82983,     0.83083,     0.83183,     0.83283,     0.83383,     0.83483,     0.83584,     0.83684,     0.83784,     0.83884,     0.83984,\n",
       "           0.84084,     0.84184,     0.84284,     0.84384,     0.84484,     0.84585,     0.84685,     0.84785,     0.84885,     0.84985,     0.85085,     0.85185,     0.85285,     0.85385,     0.85485,     0.85586,     0.85686,     0.85786,     0.85886,     0.85986,     0.86086,     0.86186,     0.86286,     0.86386,\n",
       "           0.86486,     0.86587,     0.86687,     0.86787,     0.86887,     0.86987,     0.87087,     0.87187,     0.87287,     0.87387,     0.87487,     0.87588,     0.87688,     0.87788,     0.87888,     0.87988,     0.88088,     0.88188,     0.88288,     0.88388,     0.88488,     0.88589,     0.88689,     0.88789,\n",
       "           0.88889,     0.88989,     0.89089,     0.89189,     0.89289,     0.89389,     0.89489,      0.8959,      0.8969,      0.8979,      0.8989,      0.8999,      0.9009,      0.9019,      0.9029,      0.9039,      0.9049,     0.90591,     0.90691,     0.90791,     0.90891,     0.90991,     0.91091,     0.91191,\n",
       "           0.91291,     0.91391,     0.91491,     0.91592,     0.91692,     0.91792,     0.91892,     0.91992,     0.92092,     0.92192,     0.92292,     0.92392,     0.92492,     0.92593,     0.92693,     0.92793,     0.92893,     0.92993,     0.93093,     0.93193,     0.93293,     0.93393,     0.93493,     0.93594,\n",
       "           0.93694,     0.93794,     0.93894,     0.93994,     0.94094,     0.94194,     0.94294,     0.94394,     0.94494,     0.94595,     0.94695,     0.94795,     0.94895,     0.94995,     0.95095,     0.95195,     0.95295,     0.95395,     0.95495,     0.95596,     0.95696,     0.95796,     0.95896,     0.95996,\n",
       "           0.96096,     0.96196,     0.96296,     0.96396,     0.96496,     0.96597,     0.96697,     0.96797,     0.96897,     0.96997,     0.97097,     0.97197,     0.97297,     0.97397,     0.97497,     0.97598,     0.97698,     0.97798,     0.97898,     0.97998,     0.98098,     0.98198,     0.98298,     0.98398,\n",
       "           0.98498,     0.98599,     0.98699,     0.98799,     0.98899,     0.98999,     0.99099,     0.99199,     0.99299,     0.99399,     0.99499,       0.996,       0.997,       0.998,       0.999,           1]), array([[          1,           1,           1, ...,   0.0045875,   0.0022938,           0],\n",
       "       [          1,           1,           1, ...,  0.00054359,   0.0002718,           0]]), 'Recall', 'Precision'], [array([          0,    0.001001,    0.002002,    0.003003,    0.004004,    0.005005,    0.006006,    0.007007,    0.008008,    0.009009,     0.01001,    0.011011,    0.012012,    0.013013,    0.014014,    0.015015,    0.016016,    0.017017,    0.018018,    0.019019,     0.02002,    0.021021,    0.022022,    0.023023,\n",
       "          0.024024,    0.025025,    0.026026,    0.027027,    0.028028,    0.029029,     0.03003,    0.031031,    0.032032,    0.033033,    0.034034,    0.035035,    0.036036,    0.037037,    0.038038,    0.039039,     0.04004,    0.041041,    0.042042,    0.043043,    0.044044,    0.045045,    0.046046,    0.047047,\n",
       "          0.048048,    0.049049,     0.05005,    0.051051,    0.052052,    0.053053,    0.054054,    0.055055,    0.056056,    0.057057,    0.058058,    0.059059,     0.06006,    0.061061,    0.062062,    0.063063,    0.064064,    0.065065,    0.066066,    0.067067,    0.068068,    0.069069,     0.07007,    0.071071,\n",
       "          0.072072,    0.073073,    0.074074,    0.075075,    0.076076,    0.077077,    0.078078,    0.079079,     0.08008,    0.081081,    0.082082,    0.083083,    0.084084,    0.085085,    0.086086,    0.087087,    0.088088,    0.089089,     0.09009,    0.091091,    0.092092,    0.093093,    0.094094,    0.095095,\n",
       "          0.096096,    0.097097,    0.098098,    0.099099,      0.1001,      0.1011,      0.1021,      0.1031,      0.1041,     0.10511,     0.10611,     0.10711,     0.10811,     0.10911,     0.11011,     0.11111,     0.11211,     0.11311,     0.11411,     0.11512,     0.11612,     0.11712,     0.11812,     0.11912,\n",
       "           0.12012,     0.12112,     0.12212,     0.12312,     0.12412,     0.12513,     0.12613,     0.12713,     0.12813,     0.12913,     0.13013,     0.13113,     0.13213,     0.13313,     0.13413,     0.13514,     0.13614,     0.13714,     0.13814,     0.13914,     0.14014,     0.14114,     0.14214,     0.14314,\n",
       "           0.14414,     0.14515,     0.14615,     0.14715,     0.14815,     0.14915,     0.15015,     0.15115,     0.15215,     0.15315,     0.15415,     0.15516,     0.15616,     0.15716,     0.15816,     0.15916,     0.16016,     0.16116,     0.16216,     0.16316,     0.16416,     0.16517,     0.16617,     0.16717,\n",
       "           0.16817,     0.16917,     0.17017,     0.17117,     0.17217,     0.17317,     0.17417,     0.17518,     0.17618,     0.17718,     0.17818,     0.17918,     0.18018,     0.18118,     0.18218,     0.18318,     0.18418,     0.18519,     0.18619,     0.18719,     0.18819,     0.18919,     0.19019,     0.19119,\n",
       "           0.19219,     0.19319,     0.19419,      0.1952,      0.1962,      0.1972,      0.1982,      0.1992,      0.2002,      0.2012,      0.2022,      0.2032,      0.2042,     0.20521,     0.20621,     0.20721,     0.20821,     0.20921,     0.21021,     0.21121,     0.21221,     0.21321,     0.21421,     0.21522,\n",
       "           0.21622,     0.21722,     0.21822,     0.21922,     0.22022,     0.22122,     0.22222,     0.22322,     0.22422,     0.22523,     0.22623,     0.22723,     0.22823,     0.22923,     0.23023,     0.23123,     0.23223,     0.23323,     0.23423,     0.23524,     0.23624,     0.23724,     0.23824,     0.23924,\n",
       "           0.24024,     0.24124,     0.24224,     0.24324,     0.24424,     0.24525,     0.24625,     0.24725,     0.24825,     0.24925,     0.25025,     0.25125,     0.25225,     0.25325,     0.25425,     0.25526,     0.25626,     0.25726,     0.25826,     0.25926,     0.26026,     0.26126,     0.26226,     0.26326,\n",
       "           0.26426,     0.26527,     0.26627,     0.26727,     0.26827,     0.26927,     0.27027,     0.27127,     0.27227,     0.27327,     0.27427,     0.27528,     0.27628,     0.27728,     0.27828,     0.27928,     0.28028,     0.28128,     0.28228,     0.28328,     0.28428,     0.28529,     0.28629,     0.28729,\n",
       "           0.28829,     0.28929,     0.29029,     0.29129,     0.29229,     0.29329,     0.29429,      0.2953,      0.2963,      0.2973,      0.2983,      0.2993,      0.3003,      0.3013,      0.3023,      0.3033,      0.3043,     0.30531,     0.30631,     0.30731,     0.30831,     0.30931,     0.31031,     0.31131,\n",
       "           0.31231,     0.31331,     0.31431,     0.31532,     0.31632,     0.31732,     0.31832,     0.31932,     0.32032,     0.32132,     0.32232,     0.32332,     0.32432,     0.32533,     0.32633,     0.32733,     0.32833,     0.32933,     0.33033,     0.33133,     0.33233,     0.33333,     0.33433,     0.33534,\n",
       "           0.33634,     0.33734,     0.33834,     0.33934,     0.34034,     0.34134,     0.34234,     0.34334,     0.34434,     0.34535,     0.34635,     0.34735,     0.34835,     0.34935,     0.35035,     0.35135,     0.35235,     0.35335,     0.35435,     0.35536,     0.35636,     0.35736,     0.35836,     0.35936,\n",
       "           0.36036,     0.36136,     0.36236,     0.36336,     0.36436,     0.36537,     0.36637,     0.36737,     0.36837,     0.36937,     0.37037,     0.37137,     0.37237,     0.37337,     0.37437,     0.37538,     0.37638,     0.37738,     0.37838,     0.37938,     0.38038,     0.38138,     0.38238,     0.38338,\n",
       "           0.38438,     0.38539,     0.38639,     0.38739,     0.38839,     0.38939,     0.39039,     0.39139,     0.39239,     0.39339,     0.39439,      0.3954,      0.3964,      0.3974,      0.3984,      0.3994,      0.4004,      0.4014,      0.4024,      0.4034,      0.4044,     0.40541,     0.40641,     0.40741,\n",
       "           0.40841,     0.40941,     0.41041,     0.41141,     0.41241,     0.41341,     0.41441,     0.41542,     0.41642,     0.41742,     0.41842,     0.41942,     0.42042,     0.42142,     0.42242,     0.42342,     0.42442,     0.42543,     0.42643,     0.42743,     0.42843,     0.42943,     0.43043,     0.43143,\n",
       "           0.43243,     0.43343,     0.43443,     0.43544,     0.43644,     0.43744,     0.43844,     0.43944,     0.44044,     0.44144,     0.44244,     0.44344,     0.44444,     0.44545,     0.44645,     0.44745,     0.44845,     0.44945,     0.45045,     0.45145,     0.45245,     0.45345,     0.45445,     0.45546,\n",
       "           0.45646,     0.45746,     0.45846,     0.45946,     0.46046,     0.46146,     0.46246,     0.46346,     0.46446,     0.46547,     0.46647,     0.46747,     0.46847,     0.46947,     0.47047,     0.47147,     0.47247,     0.47347,     0.47447,     0.47548,     0.47648,     0.47748,     0.47848,     0.47948,\n",
       "           0.48048,     0.48148,     0.48248,     0.48348,     0.48448,     0.48549,     0.48649,     0.48749,     0.48849,     0.48949,     0.49049,     0.49149,     0.49249,     0.49349,     0.49449,      0.4955,      0.4965,      0.4975,      0.4985,      0.4995,      0.5005,      0.5015,      0.5025,      0.5035,\n",
       "            0.5045,     0.50551,     0.50651,     0.50751,     0.50851,     0.50951,     0.51051,     0.51151,     0.51251,     0.51351,     0.51451,     0.51552,     0.51652,     0.51752,     0.51852,     0.51952,     0.52052,     0.52152,     0.52252,     0.52352,     0.52452,     0.52553,     0.52653,     0.52753,\n",
       "           0.52853,     0.52953,     0.53053,     0.53153,     0.53253,     0.53353,     0.53453,     0.53554,     0.53654,     0.53754,     0.53854,     0.53954,     0.54054,     0.54154,     0.54254,     0.54354,     0.54454,     0.54555,     0.54655,     0.54755,     0.54855,     0.54955,     0.55055,     0.55155,\n",
       "           0.55255,     0.55355,     0.55455,     0.55556,     0.55656,     0.55756,     0.55856,     0.55956,     0.56056,     0.56156,     0.56256,     0.56356,     0.56456,     0.56557,     0.56657,     0.56757,     0.56857,     0.56957,     0.57057,     0.57157,     0.57257,     0.57357,     0.57457,     0.57558,\n",
       "           0.57658,     0.57758,     0.57858,     0.57958,     0.58058,     0.58158,     0.58258,     0.58358,     0.58458,     0.58559,     0.58659,     0.58759,     0.58859,     0.58959,     0.59059,     0.59159,     0.59259,     0.59359,     0.59459,      0.5956,      0.5966,      0.5976,      0.5986,      0.5996,\n",
       "            0.6006,      0.6016,      0.6026,      0.6036,      0.6046,     0.60561,     0.60661,     0.60761,     0.60861,     0.60961,     0.61061,     0.61161,     0.61261,     0.61361,     0.61461,     0.61562,     0.61662,     0.61762,     0.61862,     0.61962,     0.62062,     0.62162,     0.62262,     0.62362,\n",
       "           0.62462,     0.62563,     0.62663,     0.62763,     0.62863,     0.62963,     0.63063,     0.63163,     0.63263,     0.63363,     0.63463,     0.63564,     0.63664,     0.63764,     0.63864,     0.63964,     0.64064,     0.64164,     0.64264,     0.64364,     0.64464,     0.64565,     0.64665,     0.64765,\n",
       "           0.64865,     0.64965,     0.65065,     0.65165,     0.65265,     0.65365,     0.65465,     0.65566,     0.65666,     0.65766,     0.65866,     0.65966,     0.66066,     0.66166,     0.66266,     0.66366,     0.66466,     0.66567,     0.66667,     0.66767,     0.66867,     0.66967,     0.67067,     0.67167,\n",
       "           0.67267,     0.67367,     0.67467,     0.67568,     0.67668,     0.67768,     0.67868,     0.67968,     0.68068,     0.68168,     0.68268,     0.68368,     0.68468,     0.68569,     0.68669,     0.68769,     0.68869,     0.68969,     0.69069,     0.69169,     0.69269,     0.69369,     0.69469,      0.6957,\n",
       "            0.6967,      0.6977,      0.6987,      0.6997,      0.7007,      0.7017,      0.7027,      0.7037,      0.7047,     0.70571,     0.70671,     0.70771,     0.70871,     0.70971,     0.71071,     0.71171,     0.71271,     0.71371,     0.71471,     0.71572,     0.71672,     0.71772,     0.71872,     0.71972,\n",
       "           0.72072,     0.72172,     0.72272,     0.72372,     0.72472,     0.72573,     0.72673,     0.72773,     0.72873,     0.72973,     0.73073,     0.73173,     0.73273,     0.73373,     0.73473,     0.73574,     0.73674,     0.73774,     0.73874,     0.73974,     0.74074,     0.74174,     0.74274,     0.74374,\n",
       "           0.74474,     0.74575,     0.74675,     0.74775,     0.74875,     0.74975,     0.75075,     0.75175,     0.75275,     0.75375,     0.75475,     0.75576,     0.75676,     0.75776,     0.75876,     0.75976,     0.76076,     0.76176,     0.76276,     0.76376,     0.76476,     0.76577,     0.76677,     0.76777,\n",
       "           0.76877,     0.76977,     0.77077,     0.77177,     0.77277,     0.77377,     0.77477,     0.77578,     0.77678,     0.77778,     0.77878,     0.77978,     0.78078,     0.78178,     0.78278,     0.78378,     0.78478,     0.78579,     0.78679,     0.78779,     0.78879,     0.78979,     0.79079,     0.79179,\n",
       "           0.79279,     0.79379,     0.79479,      0.7958,      0.7968,      0.7978,      0.7988,      0.7998,      0.8008,      0.8018,      0.8028,      0.8038,      0.8048,     0.80581,     0.80681,     0.80781,     0.80881,     0.80981,     0.81081,     0.81181,     0.81281,     0.81381,     0.81481,     0.81582,\n",
       "           0.81682,     0.81782,     0.81882,     0.81982,     0.82082,     0.82182,     0.82282,     0.82382,     0.82482,     0.82583,     0.82683,     0.82783,     0.82883,     0.82983,     0.83083,     0.83183,     0.83283,     0.83383,     0.83483,     0.83584,     0.83684,     0.83784,     0.83884,     0.83984,\n",
       "           0.84084,     0.84184,     0.84284,     0.84384,     0.84484,     0.84585,     0.84685,     0.84785,     0.84885,     0.84985,     0.85085,     0.85185,     0.85285,     0.85385,     0.85485,     0.85586,     0.85686,     0.85786,     0.85886,     0.85986,     0.86086,     0.86186,     0.86286,     0.86386,\n",
       "           0.86486,     0.86587,     0.86687,     0.86787,     0.86887,     0.86987,     0.87087,     0.87187,     0.87287,     0.87387,     0.87487,     0.87588,     0.87688,     0.87788,     0.87888,     0.87988,     0.88088,     0.88188,     0.88288,     0.88388,     0.88488,     0.88589,     0.88689,     0.88789,\n",
       "           0.88889,     0.88989,     0.89089,     0.89189,     0.89289,     0.89389,     0.89489,      0.8959,      0.8969,      0.8979,      0.8989,      0.8999,      0.9009,      0.9019,      0.9029,      0.9039,      0.9049,     0.90591,     0.90691,     0.90791,     0.90891,     0.90991,     0.91091,     0.91191,\n",
       "           0.91291,     0.91391,     0.91491,     0.91592,     0.91692,     0.91792,     0.91892,     0.91992,     0.92092,     0.92192,     0.92292,     0.92392,     0.92492,     0.92593,     0.92693,     0.92793,     0.92893,     0.92993,     0.93093,     0.93193,     0.93293,     0.93393,     0.93493,     0.93594,\n",
       "           0.93694,     0.93794,     0.93894,     0.93994,     0.94094,     0.94194,     0.94294,     0.94394,     0.94494,     0.94595,     0.94695,     0.94795,     0.94895,     0.94995,     0.95095,     0.95195,     0.95295,     0.95395,     0.95495,     0.95596,     0.95696,     0.95796,     0.95896,     0.95996,\n",
       "           0.96096,     0.96196,     0.96296,     0.96396,     0.96496,     0.96597,     0.96697,     0.96797,     0.96897,     0.96997,     0.97097,     0.97197,     0.97297,     0.97397,     0.97497,     0.97598,     0.97698,     0.97798,     0.97898,     0.97998,     0.98098,     0.98198,     0.98298,     0.98398,\n",
       "           0.98498,     0.98599,     0.98699,     0.98799,     0.98899,     0.98999,     0.99099,     0.99199,     0.99299,     0.99399,     0.99499,       0.996,       0.997,       0.998,       0.999,           1]), array([[   0.077241,    0.077241,       0.123, ...,           0,           0,           0],\n",
       "       [   0.024369,    0.024369,    0.033114, ...,           0,           0,           0]]), 'Confidence', 'F1'], [array([          0,    0.001001,    0.002002,    0.003003,    0.004004,    0.005005,    0.006006,    0.007007,    0.008008,    0.009009,     0.01001,    0.011011,    0.012012,    0.013013,    0.014014,    0.015015,    0.016016,    0.017017,    0.018018,    0.019019,     0.02002,    0.021021,    0.022022,    0.023023,\n",
       "          0.024024,    0.025025,    0.026026,    0.027027,    0.028028,    0.029029,     0.03003,    0.031031,    0.032032,    0.033033,    0.034034,    0.035035,    0.036036,    0.037037,    0.038038,    0.039039,     0.04004,    0.041041,    0.042042,    0.043043,    0.044044,    0.045045,    0.046046,    0.047047,\n",
       "          0.048048,    0.049049,     0.05005,    0.051051,    0.052052,    0.053053,    0.054054,    0.055055,    0.056056,    0.057057,    0.058058,    0.059059,     0.06006,    0.061061,    0.062062,    0.063063,    0.064064,    0.065065,    0.066066,    0.067067,    0.068068,    0.069069,     0.07007,    0.071071,\n",
       "          0.072072,    0.073073,    0.074074,    0.075075,    0.076076,    0.077077,    0.078078,    0.079079,     0.08008,    0.081081,    0.082082,    0.083083,    0.084084,    0.085085,    0.086086,    0.087087,    0.088088,    0.089089,     0.09009,    0.091091,    0.092092,    0.093093,    0.094094,    0.095095,\n",
       "          0.096096,    0.097097,    0.098098,    0.099099,      0.1001,      0.1011,      0.1021,      0.1031,      0.1041,     0.10511,     0.10611,     0.10711,     0.10811,     0.10911,     0.11011,     0.11111,     0.11211,     0.11311,     0.11411,     0.11512,     0.11612,     0.11712,     0.11812,     0.11912,\n",
       "           0.12012,     0.12112,     0.12212,     0.12312,     0.12412,     0.12513,     0.12613,     0.12713,     0.12813,     0.12913,     0.13013,     0.13113,     0.13213,     0.13313,     0.13413,     0.13514,     0.13614,     0.13714,     0.13814,     0.13914,     0.14014,     0.14114,     0.14214,     0.14314,\n",
       "           0.14414,     0.14515,     0.14615,     0.14715,     0.14815,     0.14915,     0.15015,     0.15115,     0.15215,     0.15315,     0.15415,     0.15516,     0.15616,     0.15716,     0.15816,     0.15916,     0.16016,     0.16116,     0.16216,     0.16316,     0.16416,     0.16517,     0.16617,     0.16717,\n",
       "           0.16817,     0.16917,     0.17017,     0.17117,     0.17217,     0.17317,     0.17417,     0.17518,     0.17618,     0.17718,     0.17818,     0.17918,     0.18018,     0.18118,     0.18218,     0.18318,     0.18418,     0.18519,     0.18619,     0.18719,     0.18819,     0.18919,     0.19019,     0.19119,\n",
       "           0.19219,     0.19319,     0.19419,      0.1952,      0.1962,      0.1972,      0.1982,      0.1992,      0.2002,      0.2012,      0.2022,      0.2032,      0.2042,     0.20521,     0.20621,     0.20721,     0.20821,     0.20921,     0.21021,     0.21121,     0.21221,     0.21321,     0.21421,     0.21522,\n",
       "           0.21622,     0.21722,     0.21822,     0.21922,     0.22022,     0.22122,     0.22222,     0.22322,     0.22422,     0.22523,     0.22623,     0.22723,     0.22823,     0.22923,     0.23023,     0.23123,     0.23223,     0.23323,     0.23423,     0.23524,     0.23624,     0.23724,     0.23824,     0.23924,\n",
       "           0.24024,     0.24124,     0.24224,     0.24324,     0.24424,     0.24525,     0.24625,     0.24725,     0.24825,     0.24925,     0.25025,     0.25125,     0.25225,     0.25325,     0.25425,     0.25526,     0.25626,     0.25726,     0.25826,     0.25926,     0.26026,     0.26126,     0.26226,     0.26326,\n",
       "           0.26426,     0.26527,     0.26627,     0.26727,     0.26827,     0.26927,     0.27027,     0.27127,     0.27227,     0.27327,     0.27427,     0.27528,     0.27628,     0.27728,     0.27828,     0.27928,     0.28028,     0.28128,     0.28228,     0.28328,     0.28428,     0.28529,     0.28629,     0.28729,\n",
       "           0.28829,     0.28929,     0.29029,     0.29129,     0.29229,     0.29329,     0.29429,      0.2953,      0.2963,      0.2973,      0.2983,      0.2993,      0.3003,      0.3013,      0.3023,      0.3033,      0.3043,     0.30531,     0.30631,     0.30731,     0.30831,     0.30931,     0.31031,     0.31131,\n",
       "           0.31231,     0.31331,     0.31431,     0.31532,     0.31632,     0.31732,     0.31832,     0.31932,     0.32032,     0.32132,     0.32232,     0.32332,     0.32432,     0.32533,     0.32633,     0.32733,     0.32833,     0.32933,     0.33033,     0.33133,     0.33233,     0.33333,     0.33433,     0.33534,\n",
       "           0.33634,     0.33734,     0.33834,     0.33934,     0.34034,     0.34134,     0.34234,     0.34334,     0.34434,     0.34535,     0.34635,     0.34735,     0.34835,     0.34935,     0.35035,     0.35135,     0.35235,     0.35335,     0.35435,     0.35536,     0.35636,     0.35736,     0.35836,     0.35936,\n",
       "           0.36036,     0.36136,     0.36236,     0.36336,     0.36436,     0.36537,     0.36637,     0.36737,     0.36837,     0.36937,     0.37037,     0.37137,     0.37237,     0.37337,     0.37437,     0.37538,     0.37638,     0.37738,     0.37838,     0.37938,     0.38038,     0.38138,     0.38238,     0.38338,\n",
       "           0.38438,     0.38539,     0.38639,     0.38739,     0.38839,     0.38939,     0.39039,     0.39139,     0.39239,     0.39339,     0.39439,      0.3954,      0.3964,      0.3974,      0.3984,      0.3994,      0.4004,      0.4014,      0.4024,      0.4034,      0.4044,     0.40541,     0.40641,     0.40741,\n",
       "           0.40841,     0.40941,     0.41041,     0.41141,     0.41241,     0.41341,     0.41441,     0.41542,     0.41642,     0.41742,     0.41842,     0.41942,     0.42042,     0.42142,     0.42242,     0.42342,     0.42442,     0.42543,     0.42643,     0.42743,     0.42843,     0.42943,     0.43043,     0.43143,\n",
       "           0.43243,     0.43343,     0.43443,     0.43544,     0.43644,     0.43744,     0.43844,     0.43944,     0.44044,     0.44144,     0.44244,     0.44344,     0.44444,     0.44545,     0.44645,     0.44745,     0.44845,     0.44945,     0.45045,     0.45145,     0.45245,     0.45345,     0.45445,     0.45546,\n",
       "           0.45646,     0.45746,     0.45846,     0.45946,     0.46046,     0.46146,     0.46246,     0.46346,     0.46446,     0.46547,     0.46647,     0.46747,     0.46847,     0.46947,     0.47047,     0.47147,     0.47247,     0.47347,     0.47447,     0.47548,     0.47648,     0.47748,     0.47848,     0.47948,\n",
       "           0.48048,     0.48148,     0.48248,     0.48348,     0.48448,     0.48549,     0.48649,     0.48749,     0.48849,     0.48949,     0.49049,     0.49149,     0.49249,     0.49349,     0.49449,      0.4955,      0.4965,      0.4975,      0.4985,      0.4995,      0.5005,      0.5015,      0.5025,      0.5035,\n",
       "            0.5045,     0.50551,     0.50651,     0.50751,     0.50851,     0.50951,     0.51051,     0.51151,     0.51251,     0.51351,     0.51451,     0.51552,     0.51652,     0.51752,     0.51852,     0.51952,     0.52052,     0.52152,     0.52252,     0.52352,     0.52452,     0.52553,     0.52653,     0.52753,\n",
       "           0.52853,     0.52953,     0.53053,     0.53153,     0.53253,     0.53353,     0.53453,     0.53554,     0.53654,     0.53754,     0.53854,     0.53954,     0.54054,     0.54154,     0.54254,     0.54354,     0.54454,     0.54555,     0.54655,     0.54755,     0.54855,     0.54955,     0.55055,     0.55155,\n",
       "           0.55255,     0.55355,     0.55455,     0.55556,     0.55656,     0.55756,     0.55856,     0.55956,     0.56056,     0.56156,     0.56256,     0.56356,     0.56456,     0.56557,     0.56657,     0.56757,     0.56857,     0.56957,     0.57057,     0.57157,     0.57257,     0.57357,     0.57457,     0.57558,\n",
       "           0.57658,     0.57758,     0.57858,     0.57958,     0.58058,     0.58158,     0.58258,     0.58358,     0.58458,     0.58559,     0.58659,     0.58759,     0.58859,     0.58959,     0.59059,     0.59159,     0.59259,     0.59359,     0.59459,      0.5956,      0.5966,      0.5976,      0.5986,      0.5996,\n",
       "            0.6006,      0.6016,      0.6026,      0.6036,      0.6046,     0.60561,     0.60661,     0.60761,     0.60861,     0.60961,     0.61061,     0.61161,     0.61261,     0.61361,     0.61461,     0.61562,     0.61662,     0.61762,     0.61862,     0.61962,     0.62062,     0.62162,     0.62262,     0.62362,\n",
       "           0.62462,     0.62563,     0.62663,     0.62763,     0.62863,     0.62963,     0.63063,     0.63163,     0.63263,     0.63363,     0.63463,     0.63564,     0.63664,     0.63764,     0.63864,     0.63964,     0.64064,     0.64164,     0.64264,     0.64364,     0.64464,     0.64565,     0.64665,     0.64765,\n",
       "           0.64865,     0.64965,     0.65065,     0.65165,     0.65265,     0.65365,     0.65465,     0.65566,     0.65666,     0.65766,     0.65866,     0.65966,     0.66066,     0.66166,     0.66266,     0.66366,     0.66466,     0.66567,     0.66667,     0.66767,     0.66867,     0.66967,     0.67067,     0.67167,\n",
       "           0.67267,     0.67367,     0.67467,     0.67568,     0.67668,     0.67768,     0.67868,     0.67968,     0.68068,     0.68168,     0.68268,     0.68368,     0.68468,     0.68569,     0.68669,     0.68769,     0.68869,     0.68969,     0.69069,     0.69169,     0.69269,     0.69369,     0.69469,      0.6957,\n",
       "            0.6967,      0.6977,      0.6987,      0.6997,      0.7007,      0.7017,      0.7027,      0.7037,      0.7047,     0.70571,     0.70671,     0.70771,     0.70871,     0.70971,     0.71071,     0.71171,     0.71271,     0.71371,     0.71471,     0.71572,     0.71672,     0.71772,     0.71872,     0.71972,\n",
       "           0.72072,     0.72172,     0.72272,     0.72372,     0.72472,     0.72573,     0.72673,     0.72773,     0.72873,     0.72973,     0.73073,     0.73173,     0.73273,     0.73373,     0.73473,     0.73574,     0.73674,     0.73774,     0.73874,     0.73974,     0.74074,     0.74174,     0.74274,     0.74374,\n",
       "           0.74474,     0.74575,     0.74675,     0.74775,     0.74875,     0.74975,     0.75075,     0.75175,     0.75275,     0.75375,     0.75475,     0.75576,     0.75676,     0.75776,     0.75876,     0.75976,     0.76076,     0.76176,     0.76276,     0.76376,     0.76476,     0.76577,     0.76677,     0.76777,\n",
       "           0.76877,     0.76977,     0.77077,     0.77177,     0.77277,     0.77377,     0.77477,     0.77578,     0.77678,     0.77778,     0.77878,     0.77978,     0.78078,     0.78178,     0.78278,     0.78378,     0.78478,     0.78579,     0.78679,     0.78779,     0.78879,     0.78979,     0.79079,     0.79179,\n",
       "           0.79279,     0.79379,     0.79479,      0.7958,      0.7968,      0.7978,      0.7988,      0.7998,      0.8008,      0.8018,      0.8028,      0.8038,      0.8048,     0.80581,     0.80681,     0.80781,     0.80881,     0.80981,     0.81081,     0.81181,     0.81281,     0.81381,     0.81481,     0.81582,\n",
       "           0.81682,     0.81782,     0.81882,     0.81982,     0.82082,     0.82182,     0.82282,     0.82382,     0.82482,     0.82583,     0.82683,     0.82783,     0.82883,     0.82983,     0.83083,     0.83183,     0.83283,     0.83383,     0.83483,     0.83584,     0.83684,     0.83784,     0.83884,     0.83984,\n",
       "           0.84084,     0.84184,     0.84284,     0.84384,     0.84484,     0.84585,     0.84685,     0.84785,     0.84885,     0.84985,     0.85085,     0.85185,     0.85285,     0.85385,     0.85485,     0.85586,     0.85686,     0.85786,     0.85886,     0.85986,     0.86086,     0.86186,     0.86286,     0.86386,\n",
       "           0.86486,     0.86587,     0.86687,     0.86787,     0.86887,     0.86987,     0.87087,     0.87187,     0.87287,     0.87387,     0.87487,     0.87588,     0.87688,     0.87788,     0.87888,     0.87988,     0.88088,     0.88188,     0.88288,     0.88388,     0.88488,     0.88589,     0.88689,     0.88789,\n",
       "           0.88889,     0.88989,     0.89089,     0.89189,     0.89289,     0.89389,     0.89489,      0.8959,      0.8969,      0.8979,      0.8989,      0.8999,      0.9009,      0.9019,      0.9029,      0.9039,      0.9049,     0.90591,     0.90691,     0.90791,     0.90891,     0.90991,     0.91091,     0.91191,\n",
       "           0.91291,     0.91391,     0.91491,     0.91592,     0.91692,     0.91792,     0.91892,     0.91992,     0.92092,     0.92192,     0.92292,     0.92392,     0.92492,     0.92593,     0.92693,     0.92793,     0.92893,     0.92993,     0.93093,     0.93193,     0.93293,     0.93393,     0.93493,     0.93594,\n",
       "           0.93694,     0.93794,     0.93894,     0.93994,     0.94094,     0.94194,     0.94294,     0.94394,     0.94494,     0.94595,     0.94695,     0.94795,     0.94895,     0.94995,     0.95095,     0.95195,     0.95295,     0.95395,     0.95495,     0.95596,     0.95696,     0.95796,     0.95896,     0.95996,\n",
       "           0.96096,     0.96196,     0.96296,     0.96396,     0.96496,     0.96597,     0.96697,     0.96797,     0.96897,     0.96997,     0.97097,     0.97197,     0.97297,     0.97397,     0.97497,     0.97598,     0.97698,     0.97798,     0.97898,     0.97998,     0.98098,     0.98198,     0.98298,     0.98398,\n",
       "           0.98498,     0.98599,     0.98699,     0.98799,     0.98899,     0.98999,     0.99099,     0.99199,     0.99299,     0.99399,     0.99499,       0.996,       0.997,       0.998,       0.999,           1]), array([[   0.040201,    0.040201,    0.065609, ...,           1,           1,           1],\n",
       "       [   0.012342,    0.012342,    0.016881, ...,           1,           1,           1]]), 'Confidence', 'Precision'], [array([          0,    0.001001,    0.002002,    0.003003,    0.004004,    0.005005,    0.006006,    0.007007,    0.008008,    0.009009,     0.01001,    0.011011,    0.012012,    0.013013,    0.014014,    0.015015,    0.016016,    0.017017,    0.018018,    0.019019,     0.02002,    0.021021,    0.022022,    0.023023,\n",
       "          0.024024,    0.025025,    0.026026,    0.027027,    0.028028,    0.029029,     0.03003,    0.031031,    0.032032,    0.033033,    0.034034,    0.035035,    0.036036,    0.037037,    0.038038,    0.039039,     0.04004,    0.041041,    0.042042,    0.043043,    0.044044,    0.045045,    0.046046,    0.047047,\n",
       "          0.048048,    0.049049,     0.05005,    0.051051,    0.052052,    0.053053,    0.054054,    0.055055,    0.056056,    0.057057,    0.058058,    0.059059,     0.06006,    0.061061,    0.062062,    0.063063,    0.064064,    0.065065,    0.066066,    0.067067,    0.068068,    0.069069,     0.07007,    0.071071,\n",
       "          0.072072,    0.073073,    0.074074,    0.075075,    0.076076,    0.077077,    0.078078,    0.079079,     0.08008,    0.081081,    0.082082,    0.083083,    0.084084,    0.085085,    0.086086,    0.087087,    0.088088,    0.089089,     0.09009,    0.091091,    0.092092,    0.093093,    0.094094,    0.095095,\n",
       "          0.096096,    0.097097,    0.098098,    0.099099,      0.1001,      0.1011,      0.1021,      0.1031,      0.1041,     0.10511,     0.10611,     0.10711,     0.10811,     0.10911,     0.11011,     0.11111,     0.11211,     0.11311,     0.11411,     0.11512,     0.11612,     0.11712,     0.11812,     0.11912,\n",
       "           0.12012,     0.12112,     0.12212,     0.12312,     0.12412,     0.12513,     0.12613,     0.12713,     0.12813,     0.12913,     0.13013,     0.13113,     0.13213,     0.13313,     0.13413,     0.13514,     0.13614,     0.13714,     0.13814,     0.13914,     0.14014,     0.14114,     0.14214,     0.14314,\n",
       "           0.14414,     0.14515,     0.14615,     0.14715,     0.14815,     0.14915,     0.15015,     0.15115,     0.15215,     0.15315,     0.15415,     0.15516,     0.15616,     0.15716,     0.15816,     0.15916,     0.16016,     0.16116,     0.16216,     0.16316,     0.16416,     0.16517,     0.16617,     0.16717,\n",
       "           0.16817,     0.16917,     0.17017,     0.17117,     0.17217,     0.17317,     0.17417,     0.17518,     0.17618,     0.17718,     0.17818,     0.17918,     0.18018,     0.18118,     0.18218,     0.18318,     0.18418,     0.18519,     0.18619,     0.18719,     0.18819,     0.18919,     0.19019,     0.19119,\n",
       "           0.19219,     0.19319,     0.19419,      0.1952,      0.1962,      0.1972,      0.1982,      0.1992,      0.2002,      0.2012,      0.2022,      0.2032,      0.2042,     0.20521,     0.20621,     0.20721,     0.20821,     0.20921,     0.21021,     0.21121,     0.21221,     0.21321,     0.21421,     0.21522,\n",
       "           0.21622,     0.21722,     0.21822,     0.21922,     0.22022,     0.22122,     0.22222,     0.22322,     0.22422,     0.22523,     0.22623,     0.22723,     0.22823,     0.22923,     0.23023,     0.23123,     0.23223,     0.23323,     0.23423,     0.23524,     0.23624,     0.23724,     0.23824,     0.23924,\n",
       "           0.24024,     0.24124,     0.24224,     0.24324,     0.24424,     0.24525,     0.24625,     0.24725,     0.24825,     0.24925,     0.25025,     0.25125,     0.25225,     0.25325,     0.25425,     0.25526,     0.25626,     0.25726,     0.25826,     0.25926,     0.26026,     0.26126,     0.26226,     0.26326,\n",
       "           0.26426,     0.26527,     0.26627,     0.26727,     0.26827,     0.26927,     0.27027,     0.27127,     0.27227,     0.27327,     0.27427,     0.27528,     0.27628,     0.27728,     0.27828,     0.27928,     0.28028,     0.28128,     0.28228,     0.28328,     0.28428,     0.28529,     0.28629,     0.28729,\n",
       "           0.28829,     0.28929,     0.29029,     0.29129,     0.29229,     0.29329,     0.29429,      0.2953,      0.2963,      0.2973,      0.2983,      0.2993,      0.3003,      0.3013,      0.3023,      0.3033,      0.3043,     0.30531,     0.30631,     0.30731,     0.30831,     0.30931,     0.31031,     0.31131,\n",
       "           0.31231,     0.31331,     0.31431,     0.31532,     0.31632,     0.31732,     0.31832,     0.31932,     0.32032,     0.32132,     0.32232,     0.32332,     0.32432,     0.32533,     0.32633,     0.32733,     0.32833,     0.32933,     0.33033,     0.33133,     0.33233,     0.33333,     0.33433,     0.33534,\n",
       "           0.33634,     0.33734,     0.33834,     0.33934,     0.34034,     0.34134,     0.34234,     0.34334,     0.34434,     0.34535,     0.34635,     0.34735,     0.34835,     0.34935,     0.35035,     0.35135,     0.35235,     0.35335,     0.35435,     0.35536,     0.35636,     0.35736,     0.35836,     0.35936,\n",
       "           0.36036,     0.36136,     0.36236,     0.36336,     0.36436,     0.36537,     0.36637,     0.36737,     0.36837,     0.36937,     0.37037,     0.37137,     0.37237,     0.37337,     0.37437,     0.37538,     0.37638,     0.37738,     0.37838,     0.37938,     0.38038,     0.38138,     0.38238,     0.38338,\n",
       "           0.38438,     0.38539,     0.38639,     0.38739,     0.38839,     0.38939,     0.39039,     0.39139,     0.39239,     0.39339,     0.39439,      0.3954,      0.3964,      0.3974,      0.3984,      0.3994,      0.4004,      0.4014,      0.4024,      0.4034,      0.4044,     0.40541,     0.40641,     0.40741,\n",
       "           0.40841,     0.40941,     0.41041,     0.41141,     0.41241,     0.41341,     0.41441,     0.41542,     0.41642,     0.41742,     0.41842,     0.41942,     0.42042,     0.42142,     0.42242,     0.42342,     0.42442,     0.42543,     0.42643,     0.42743,     0.42843,     0.42943,     0.43043,     0.43143,\n",
       "           0.43243,     0.43343,     0.43443,     0.43544,     0.43644,     0.43744,     0.43844,     0.43944,     0.44044,     0.44144,     0.44244,     0.44344,     0.44444,     0.44545,     0.44645,     0.44745,     0.44845,     0.44945,     0.45045,     0.45145,     0.45245,     0.45345,     0.45445,     0.45546,\n",
       "           0.45646,     0.45746,     0.45846,     0.45946,     0.46046,     0.46146,     0.46246,     0.46346,     0.46446,     0.46547,     0.46647,     0.46747,     0.46847,     0.46947,     0.47047,     0.47147,     0.47247,     0.47347,     0.47447,     0.47548,     0.47648,     0.47748,     0.47848,     0.47948,\n",
       "           0.48048,     0.48148,     0.48248,     0.48348,     0.48448,     0.48549,     0.48649,     0.48749,     0.48849,     0.48949,     0.49049,     0.49149,     0.49249,     0.49349,     0.49449,      0.4955,      0.4965,      0.4975,      0.4985,      0.4995,      0.5005,      0.5015,      0.5025,      0.5035,\n",
       "            0.5045,     0.50551,     0.50651,     0.50751,     0.50851,     0.50951,     0.51051,     0.51151,     0.51251,     0.51351,     0.51451,     0.51552,     0.51652,     0.51752,     0.51852,     0.51952,     0.52052,     0.52152,     0.52252,     0.52352,     0.52452,     0.52553,     0.52653,     0.52753,\n",
       "           0.52853,     0.52953,     0.53053,     0.53153,     0.53253,     0.53353,     0.53453,     0.53554,     0.53654,     0.53754,     0.53854,     0.53954,     0.54054,     0.54154,     0.54254,     0.54354,     0.54454,     0.54555,     0.54655,     0.54755,     0.54855,     0.54955,     0.55055,     0.55155,\n",
       "           0.55255,     0.55355,     0.55455,     0.55556,     0.55656,     0.55756,     0.55856,     0.55956,     0.56056,     0.56156,     0.56256,     0.56356,     0.56456,     0.56557,     0.56657,     0.56757,     0.56857,     0.56957,     0.57057,     0.57157,     0.57257,     0.57357,     0.57457,     0.57558,\n",
       "           0.57658,     0.57758,     0.57858,     0.57958,     0.58058,     0.58158,     0.58258,     0.58358,     0.58458,     0.58559,     0.58659,     0.58759,     0.58859,     0.58959,     0.59059,     0.59159,     0.59259,     0.59359,     0.59459,      0.5956,      0.5966,      0.5976,      0.5986,      0.5996,\n",
       "            0.6006,      0.6016,      0.6026,      0.6036,      0.6046,     0.60561,     0.60661,     0.60761,     0.60861,     0.60961,     0.61061,     0.61161,     0.61261,     0.61361,     0.61461,     0.61562,     0.61662,     0.61762,     0.61862,     0.61962,     0.62062,     0.62162,     0.62262,     0.62362,\n",
       "           0.62462,     0.62563,     0.62663,     0.62763,     0.62863,     0.62963,     0.63063,     0.63163,     0.63263,     0.63363,     0.63463,     0.63564,     0.63664,     0.63764,     0.63864,     0.63964,     0.64064,     0.64164,     0.64264,     0.64364,     0.64464,     0.64565,     0.64665,     0.64765,\n",
       "           0.64865,     0.64965,     0.65065,     0.65165,     0.65265,     0.65365,     0.65465,     0.65566,     0.65666,     0.65766,     0.65866,     0.65966,     0.66066,     0.66166,     0.66266,     0.66366,     0.66466,     0.66567,     0.66667,     0.66767,     0.66867,     0.66967,     0.67067,     0.67167,\n",
       "           0.67267,     0.67367,     0.67467,     0.67568,     0.67668,     0.67768,     0.67868,     0.67968,     0.68068,     0.68168,     0.68268,     0.68368,     0.68468,     0.68569,     0.68669,     0.68769,     0.68869,     0.68969,     0.69069,     0.69169,     0.69269,     0.69369,     0.69469,      0.6957,\n",
       "            0.6967,      0.6977,      0.6987,      0.6997,      0.7007,      0.7017,      0.7027,      0.7037,      0.7047,     0.70571,     0.70671,     0.70771,     0.70871,     0.70971,     0.71071,     0.71171,     0.71271,     0.71371,     0.71471,     0.71572,     0.71672,     0.71772,     0.71872,     0.71972,\n",
       "           0.72072,     0.72172,     0.72272,     0.72372,     0.72472,     0.72573,     0.72673,     0.72773,     0.72873,     0.72973,     0.73073,     0.73173,     0.73273,     0.73373,     0.73473,     0.73574,     0.73674,     0.73774,     0.73874,     0.73974,     0.74074,     0.74174,     0.74274,     0.74374,\n",
       "           0.74474,     0.74575,     0.74675,     0.74775,     0.74875,     0.74975,     0.75075,     0.75175,     0.75275,     0.75375,     0.75475,     0.75576,     0.75676,     0.75776,     0.75876,     0.75976,     0.76076,     0.76176,     0.76276,     0.76376,     0.76476,     0.76577,     0.76677,     0.76777,\n",
       "           0.76877,     0.76977,     0.77077,     0.77177,     0.77277,     0.77377,     0.77477,     0.77578,     0.77678,     0.77778,     0.77878,     0.77978,     0.78078,     0.78178,     0.78278,     0.78378,     0.78478,     0.78579,     0.78679,     0.78779,     0.78879,     0.78979,     0.79079,     0.79179,\n",
       "           0.79279,     0.79379,     0.79479,      0.7958,      0.7968,      0.7978,      0.7988,      0.7998,      0.8008,      0.8018,      0.8028,      0.8038,      0.8048,     0.80581,     0.80681,     0.80781,     0.80881,     0.80981,     0.81081,     0.81181,     0.81281,     0.81381,     0.81481,     0.81582,\n",
       "           0.81682,     0.81782,     0.81882,     0.81982,     0.82082,     0.82182,     0.82282,     0.82382,     0.82482,     0.82583,     0.82683,     0.82783,     0.82883,     0.82983,     0.83083,     0.83183,     0.83283,     0.83383,     0.83483,     0.83584,     0.83684,     0.83784,     0.83884,     0.83984,\n",
       "           0.84084,     0.84184,     0.84284,     0.84384,     0.84484,     0.84585,     0.84685,     0.84785,     0.84885,     0.84985,     0.85085,     0.85185,     0.85285,     0.85385,     0.85485,     0.85586,     0.85686,     0.85786,     0.85886,     0.85986,     0.86086,     0.86186,     0.86286,     0.86386,\n",
       "           0.86486,     0.86587,     0.86687,     0.86787,     0.86887,     0.86987,     0.87087,     0.87187,     0.87287,     0.87387,     0.87487,     0.87588,     0.87688,     0.87788,     0.87888,     0.87988,     0.88088,     0.88188,     0.88288,     0.88388,     0.88488,     0.88589,     0.88689,     0.88789,\n",
       "           0.88889,     0.88989,     0.89089,     0.89189,     0.89289,     0.89389,     0.89489,      0.8959,      0.8969,      0.8979,      0.8989,      0.8999,      0.9009,      0.9019,      0.9029,      0.9039,      0.9049,     0.90591,     0.90691,     0.90791,     0.90891,     0.90991,     0.91091,     0.91191,\n",
       "           0.91291,     0.91391,     0.91491,     0.91592,     0.91692,     0.91792,     0.91892,     0.91992,     0.92092,     0.92192,     0.92292,     0.92392,     0.92492,     0.92593,     0.92693,     0.92793,     0.92893,     0.92993,     0.93093,     0.93193,     0.93293,     0.93393,     0.93493,     0.93594,\n",
       "           0.93694,     0.93794,     0.93894,     0.93994,     0.94094,     0.94194,     0.94294,     0.94394,     0.94494,     0.94595,     0.94695,     0.94795,     0.94895,     0.94995,     0.95095,     0.95195,     0.95295,     0.95395,     0.95495,     0.95596,     0.95696,     0.95796,     0.95896,     0.95996,\n",
       "           0.96096,     0.96196,     0.96296,     0.96396,     0.96496,     0.96597,     0.96697,     0.96797,     0.96897,     0.96997,     0.97097,     0.97197,     0.97297,     0.97397,     0.97497,     0.97598,     0.97698,     0.97798,     0.97898,     0.97998,     0.98098,     0.98198,     0.98298,     0.98398,\n",
       "           0.98498,     0.98599,     0.98699,     0.98799,     0.98899,     0.98999,     0.99099,     0.99199,     0.99299,     0.99399,     0.99499,       0.996,       0.997,       0.998,       0.999,           1]), array([[    0.98246,     0.98246,     0.98246, ...,           0,           0,           0],\n",
       "       [    0.95455,     0.95455,     0.86364, ...,           0,           0,           0]]), 'Confidence', 'Recall']]\n",
       "fitness: 0.22733643617762117\n",
       "keys: ['metrics/precision(B)', 'metrics/recall(B)', 'metrics/mAP50(B)', 'metrics/mAP50-95(B)']\n",
       "maps: array([    0.33162,    0.057839])\n",
       "names: {0: 'eddy', 1: 'non-eddy'}\n",
       "plot: True\n",
       "results_dict: {'metrics/precision(B)': 0.47126771648597043, 'metrics/recall(B)': 0.47787081339712917, 'metrics/mAP50(B)': 0.5207788128649488, 'metrics/mAP50-95(B)': 0.194731727656807, 'fitness': 0.22733643617762117}\n",
       "save_dir: PosixPath('runs/detect/train2')\n",
       "speed: {'preprocess': 0.15107610008933325, 'inference': 2.789323980158026, 'loss': 0.0011541626670143821, 'postprocess': 1.7278844659978692}\n",
       "task: 'detect'"
      ]
     },
     "execution_count": 8,
     "metadata": {},
     "output_type": "execute_result"
    }
   ],
   "source": [
    "# !touch custom.yaml\n",
    "model.train(data = \"custom.yaml\", epochs=300)"
   ]
  },
  {
   "cell_type": "code",
   "execution_count": 9,
   "id": "cb6a2877-8d05-4a73-953e-e757a192cb8b",
   "metadata": {
    "tags": []
   },
   "outputs": [],
   "source": [
    "res = YOLO(\"runs/detect/train2/weights/best.pt\")"
   ]
  },
  {
   "cell_type": "code",
   "execution_count": 10,
   "id": "bf3251a6-c78e-4497-bc33-43ec7480bda6",
   "metadata": {
    "tags": []
   },
   "outputs": [
    {
     "name": "stdout",
     "output_type": "stream",
     "text": [
      "\n",
      "image 1/55 /home/ec2-user/SageMaker/data/test/images/180_1_S1A_IW_GRDH_1SDV_20190326T142345_20190326T142410_026510_02F845_D262.png: 512x640 1 eddy, 134.9ms\n",
      "image 2/55 /home/ec2-user/SageMaker/data/test/images/180_1_S1A_IW_GRDH_1SDV_20190326T142410_20190326T142435_026510_02F845_B1FA_Cal_ML_Spk_TC.png: 544x640 1 eddy, 120.9ms\n",
      "image 3/55 /home/ec2-user/SageMaker/data/test/images/180_1_S1B_IW_GRDH_1SDV_20181223T015754_20181223T015819_014163_01A51C_117C.png: 544x640 1 eddy, 17.1ms\n",
      "image 4/55 /home/ec2-user/SageMaker/data/test/images/180_2_S1A_IW_GRDH_1SDV_20181208T142412_20181208T142437_024935_02BF4E_7891.png: 512x640 1 eddy, 18.0ms\n",
      "image 5/55 /home/ec2-user/SageMaker/data/test/images/180_2_S1A_IW_GRDH_1SDV_20181208T142437_20181208T142502_024935_02BF4E_5668.png: 544x640 (no detections), 17.6ms\n",
      "image 6/55 /home/ec2-user/SageMaker/data/test/images/180_2_S1A_IW_GRDH_1SDV_20181212T135246_20181212T135311_024993_02C174_133E.png: 544x640 (no detections), 16.9ms\n",
      "image 7/55 /home/ec2-user/SageMaker/data/test/images/180_2_S1A_IW_GRDH_1SDV_20181224T135221_20181224T135246_025168_02C7C7_88A4.png: 544x640 1 eddy, 16.7ms\n",
      "image 8/55 /home/ec2-user/SageMaker/data/test/images/180_2_S1A_IW_GRDH_1SDV_20190103T140837_20190103T140902_025314_02CD02_8A7D.png: 544x640 1 eddy, 17.0ms\n",
      "image 9/55 /home/ec2-user/SageMaker/data/test/images/180_2_S1A_IW_GRDH_1SDV_20190127T140926_20190127T141001_025664_02D9BE_3A0F_Cal_ML_Spk_TC.png: 576x640 1 eddy, 121.0ms\n",
      "image 10/55 /home/ec2-user/SageMaker/data/test/images/180_2_S1A_IW_GRDH_1SDV_20190129T135245_20190129T135310_025693_02DACF_C27C_Cal_ML_Spk_TC.png: 544x640 (no detections), 18.0ms\n",
      "image 11/55 /home/ec2-user/SageMaker/data/test/images/180_2_S1A_IW_GRDH_1SDV_20190326T142410_20190326T142435_026510_02F845_B1FA_Cal_ML_Spk_TC.png: 544x640 (no detections), 17.0ms\n",
      "image 12/55 /home/ec2-user/SageMaker/data/test/images/1_S1A_IW_GRDH_1SDV_20181208T142412_20181208T142437_024935_02BF4E_7891.png: 512x640 3 eddys, 17.9ms\n",
      "image 13/55 /home/ec2-user/SageMaker/data/test/images/1_S1A_IW_GRDH_1SDV_20181212T135246_20181212T135311_024993_02C174_133E.png: 544x640 1 eddy, 17.8ms\n",
      "image 14/55 /home/ec2-user/SageMaker/data/test/images/1_S1A_IW_GRDH_1SDV_20181215T141717_20181215T141736_025037_02C30F_BFD8.png: 544x640 1 eddy, 17.1ms\n",
      "image 15/55 /home/ec2-user/SageMaker/data/test/images/1_S1A_IW_GRDH_1SDV_20181229T140047_20181229T140112_025241_02CA6E_D38C.png: 544x640 1 eddy, 17.0ms\n",
      "image 16/55 /home/ec2-user/SageMaker/data/test/images/1_S1A_IW_GRDH_1SDV_20190127T140811_20190127T140836_025664_02D9BE_6473_Cal_ML_Spk_TC.png: 544x640 2 eddys, 17.1ms\n",
      "image 17/55 /home/ec2-user/SageMaker/data/test/images/1_S1A_IW_GRDH_1SDV_20190127T140836_20190127T140901_025664_02D9BE_F63E_Cal_ML_Spk_TC.png: 544x640 1 eddy, 17.1ms\n",
      "image 18/55 /home/ec2-user/SageMaker/data/test/images/1_S1A_IW_GRDH_1SDV_20190127T140901_20190127T140926_025664_02D9BE_0C0F_Cal_ML_Spk_TC.png: 544x640 1 eddy, 17.1ms\n",
      "image 19/55 /home/ec2-user/SageMaker/data/test/images/1_S1A_IW_GRDH_1SDV_20190127T140926_20190127T141001_025664_02D9BE_3A0F_Cal_ML_Spk_TC.png: 576x640 1 eddy, 17.8ms\n",
      "image 20/55 /home/ec2-user/SageMaker/data/test/images/1_S1A_IW_GRDH_1SDV_20190129T135245_20190129T135310_025693_02DACF_C27C_Cal_ML_Spk_TC.png: 544x640 1 eddy, 17.9ms\n",
      "image 21/55 /home/ec2-user/SageMaker/data/test/images/1_S1A_IW_GRDH_1SDV_20190227T140135_20190227T140200_026116_02E9E7_4341.png: 576x640 (no detections), 17.9ms\n",
      "image 22/55 /home/ec2-user/SageMaker/data/test/images/1_S1A_IW_GRDH_1SDV_20190305T131419_20190305T131444_026203_02ED0A_BDB2.png: 608x640 1 eddy, 124.9ms\n",
      "image 23/55 /home/ec2-user/SageMaker/data/test/images/270_4_S1A_IW_GRDH_1SDV_20190326T142435_20190326T142500_026510_02F845_6C7C.png: 640x544 1 eddy, 120.8ms\n",
      "image 24/55 /home/ec2-user/SageMaker/data/test/images/270_4_S1B_IW_GRDH_1SDV_20190104T015724_20190104T015753_014338_01AADC_E94F.png: 640x544 1 eddy, 17.6ms\n",
      "image 25/55 /home/ec2-user/SageMaker/data/test/images/270_5_S1A_IW_GRDH_1SDV_20181208T142437_20181208T142502_024935_02BF4E_5668.png: 640x544 1 eddy, 17.7ms\n",
      "image 26/55 /home/ec2-user/SageMaker/data/test/images/270_5_S1A_IW_GRDH_1SDV_20190127T140836_20190127T140901_025664_02D9BE_F63E_Cal_ML_Spk_TC.png: 640x544 1 eddy, 17.7ms\n",
      "image 27/55 /home/ec2-user/SageMaker/data/test/images/270_5_S1A_IW_GRDH_1SDV_20190127T140926_20190127T141001_025664_02D9BE_3A0F_Cal_ML_Spk_TC.png: 640x576 1 eddy, 122.4ms\n",
      "image 28/55 /home/ec2-user/SageMaker/data/test/images/270_5_S1A_IW_GRDH_1SDV_20190129T135245_20190129T135310_025693_02DACF_C27C_Cal_ML_Spk_TC.png: 640x576 4 eddys, 18.0ms\n",
      "image 29/55 /home/ec2-user/SageMaker/data/test/images/270_5_S1A_IW_GRDH_1SDV_20190318T135244_20190318T135309_026393_02F407_55EC.png: 640x544 1 eddy, 18.8ms\n",
      "image 30/55 /home/ec2-user/SageMaker/data/test/images/270_5_S1A_IW_GRDH_1SDV_20190326T142435_20190326T142500_026510_02F845_6C7C.png: 640x544 1 eddy, 18.1ms\n",
      "image 31/55 /home/ec2-user/SageMaker/data/test/images/270_5_S1B_IW_GRDH_1SDV_20190104T015724_20190104T015753_014338_01AADC_E94F.png: 640x544 (no detections), 18.0ms\n",
      "image 32/55 /home/ec2-user/SageMaker/data/test/images/270_5_S1B_IW_GRDH_1SDV_20190128T015724_20190128T015753_014688_01B61C_21F1_Cal_ML_Spk_TC.png: 640x544 1 eddy, 18.0ms\n",
      "image 33/55 /home/ec2-user/SageMaker/data/test/images/270_6_S1A_IW_GRDH_1SDV_20181208T142437_20181208T142502_024935_02BF4E_5668.png: 640x544 1 eddy, 18.1ms\n",
      "image 34/55 /home/ec2-user/SageMaker/data/test/images/6_S1A_IW_GRDH_1SDV_20190318T135244_20190318T135309_026393_02F407_55EC.png: 544x640 3 eddys, 19.0ms\n",
      "image 35/55 /home/ec2-user/SageMaker/data/test/images/6_S1B_IW_GRDH_1SDV_20190104T015724_20190104T015753_014338_01AADC_E94F.png: 544x640 1 eddy, 18.2ms\n",
      "image 36/55 /home/ec2-user/SageMaker/data/test/images/7_S1A_IW_GRDH_1SDV_20181208T142437_20181208T142502_024935_02BF4E_5668.png: 544x640 1 eddy, 17.9ms\n",
      "image 37/55 /home/ec2-user/SageMaker/data/test/images/7_S1A_IW_GRDH_1SDV_20190127T140836_20190127T140901_025664_02D9BE_F63E_Cal_ML_Spk_TC.png: 544x640 (no detections), 17.9ms\n",
      "image 38/55 /home/ec2-user/SageMaker/data/test/images/7_S1A_IW_GRDH_1SDV_20190129T135245_20190129T135310_025693_02DACF_C27C_Cal_ML_Spk_TC.png: 576x640 4 eddys, 18.7ms\n",
      "image 39/55 /home/ec2-user/SageMaker/data/test/images/7_S1A_IW_GRDH_1SDV_20190326T142435_20190326T142500_026510_02F845_6C7C.png: 544x640 1 eddy, 18.7ms\n",
      "image 40/55 /home/ec2-user/SageMaker/data/test/images/8_S1A_IW_GRDH_1SDV_20181208T142437_20181208T142502_024935_02BF4E_5668.png: 544x640 2 eddys, 18.1ms\n",
      "image 41/55 /home/ec2-user/SageMaker/data/test/images/8_S1A_IW_GRDH_1SDV_20190127T140836_20190127T140901_025664_02D9BE_F63E_Cal_ML_Spk_TC.png: 544x640 1 eddy, 18.0ms\n",
      "image 42/55 /home/ec2-user/SageMaker/data/test/images/8_S1A_IW_GRDH_1SDV_20190326T142435_20190326T142500_026510_02F845_6C7C.png: 544x640 2 eddys, 18.9ms\n",
      "image 43/55 /home/ec2-user/SageMaker/data/test/images/90_5_S1A_IW_GRDH_1SDV_20181208T142437_20181208T142502_024935_02BF4E_5668.png: 640x544 2 eddys, 19.1ms\n",
      "image 44/55 /home/ec2-user/SageMaker/data/test/images/90_5_S1A_IW_GRDH_1SDV_20190127T140836_20190127T140901_025664_02D9BE_F63E_Cal_ML_Spk_TC.png: 640x544 1 eddy, 17.9ms\n",
      "image 45/55 /home/ec2-user/SageMaker/data/test/images/90_5_S1A_IW_GRDH_1SDV_20190127T140926_20190127T141001_025664_02D9BE_3A0F_Cal_ML_Spk_TC.png: 640x576 1 eddy, 18.9ms\n",
      "image 46/55 /home/ec2-user/SageMaker/data/test/images/90_5_S1A_IW_GRDH_1SDV_20190129T135245_20190129T135310_025693_02DACF_C27C_Cal_ML_Spk_TC.png: 640x576 3 eddys, 17.9ms\n",
      "image 47/55 /home/ec2-user/SageMaker/data/test/images/90_5_S1A_IW_GRDH_1SDV_20190318T135244_20190318T135309_026393_02F407_55EC.png: 640x544 1 eddy, 18.7ms\n",
      "image 48/55 /home/ec2-user/SageMaker/data/test/images/90_5_S1A_IW_GRDH_1SDV_20190326T142435_20190326T142500_026510_02F845_6C7C.png: 640x544 1 eddy, 18.1ms\n",
      "image 49/55 /home/ec2-user/SageMaker/data/test/images/90_5_S1B_IW_GRDH_1SDV_20190104T015724_20190104T015753_014338_01AADC_E94F.png: 640x544 (no detections), 18.1ms\n",
      "image 50/55 /home/ec2-user/SageMaker/data/test/images/90_5_S1B_IW_GRDH_1SDV_20190128T015724_20190128T015753_014688_01B61C_21F1_Cal_ML_Spk_TC.png: 640x544 1 eddy, 18.1ms\n",
      "image 51/55 /home/ec2-user/SageMaker/data/test/images/90_6_S1A_IW_GRDH_1SDV_20181208T142437_20181208T142502_024935_02BF4E_5668.png: 640x544 (no detections), 18.0ms\n",
      "image 52/55 /home/ec2-user/SageMaker/data/test/images/90_6_S1A_IW_GRDH_1SDV_20190127T140926_20190127T141001_025664_02D9BE_3A0F_Cal_ML_Spk_TC.png: 640x576 1 eddy, 18.7ms\n",
      "image 53/55 /home/ec2-user/SageMaker/data/test/images/90_6_S1A_IW_GRDH_1SDV_20190129T135245_20190129T135310_025693_02DACF_C27C_Cal_ML_Spk_TC.png: 640x544 4 eddys, 18.8ms\n",
      "image 54/55 /home/ec2-user/SageMaker/data/test/images/9_S1A_IW_GRDH_1SDV_20190127T140836_20190127T140901_025664_02D9BE_F63E_Cal_ML_Spk_TC.png: 544x640 1 eddy, 18.8ms\n",
      "image 55/55 /home/ec2-user/SageMaker/data/test/images/9_S1A_IW_GRDH_1SDV_20190326T142435_20190326T142500_026510_02F845_6C7C.png: 544x640 (no detections), 17.9ms\n",
      "Speed: 2.5ms preprocess, 29.5ms inference, 1.4ms postprocess per image at shape (1, 3, 544, 640)\n",
      "Results saved to \u001b[1mruns/detect/predict2\u001b[0m\n",
      "45 labels saved to runs/detect/predict2/labels\n"
     ]
    },
    {
     "data": {
      "text/plain": [
       "[ultralytics.engine.results.Results object with attributes:\n",
       " \n",
       " boxes: ultralytics.engine.results.Boxes object\n",
       " keypoints: None\n",
       " masks: None\n",
       " names: {0: 'eddy', 1: 'non-eddy'}\n",
       " obb: None\n",
       " orig_img: array([[[ 48,  48,  48],\n",
       "         [ 52,  52,  52],\n",
       "         [ 51,  51,  51],\n",
       "         ...,\n",
       "         [ 66,  66,  66],\n",
       "         [ 83,  83,  83],\n",
       "         [ 91,  91,  91]],\n",
       " \n",
       "        [[ 50,  50,  50],\n",
       "         [ 52,  52,  52],\n",
       "         [ 52,  52,  52],\n",
       "         ...,\n",
       "         [ 95,  95,  95],\n",
       "         [100, 100, 100],\n",
       "         [ 98,  98,  98]],\n",
       " \n",
       "        [[ 53,  53,  53],\n",
       "         [ 50,  50,  50],\n",
       "         [ 55,  55,  55],\n",
       "         ...,\n",
       "         [ 69,  69,  69],\n",
       "         [ 93,  93,  93],\n",
       "         [ 90,  90,  90]],\n",
       " \n",
       "        ...,\n",
       " \n",
       "        [[ 95,  95,  95],\n",
       "         [ 89,  89,  89],\n",
       "         [ 89,  89,  89],\n",
       "         ...,\n",
       "         [ 43,  43,  43],\n",
       "         [ 30,  30,  30],\n",
       "         [ 30,  30,  30]],\n",
       " \n",
       "        [[108, 108, 108],\n",
       "         [114, 114, 114],\n",
       "         [100, 100, 100],\n",
       "         ...,\n",
       "         [ 34,  34,  34],\n",
       "         [ 36,  36,  36],\n",
       "         [ 33,  33,  33]],\n",
       " \n",
       "        [[102, 102, 102],\n",
       "         [103, 103, 103],\n",
       "         [ 97,  97,  97],\n",
       "         ...,\n",
       "         [ 33,  33,  33],\n",
       "         [ 32,  32,  32],\n",
       "         [ 31,  31,  31]]], dtype=uint8)\n",
       " orig_shape: (684, 876)\n",
       " path: '/home/ec2-user/SageMaker/data/test/images/180_1_S1A_IW_GRDH_1SDV_20190326T142345_20190326T142410_026510_02F845_D262.png'\n",
       " probs: None\n",
       " save_dir: 'runs/detect/predict2'\n",
       " speed: {'preprocess': 2.992868423461914, 'inference': 134.86671447753906, 'postprocess': 1.7046928405761719},\n",
       " ultralytics.engine.results.Results object with attributes:\n",
       " \n",
       " boxes: ultralytics.engine.results.Boxes object\n",
       " keypoints: None\n",
       " masks: None\n",
       " names: {0: 'eddy', 1: 'non-eddy'}\n",
       " obb: None\n",
       " orig_img: array([[[ 0,  0,  0],\n",
       "         [ 0,  0,  0],\n",
       "         [ 0,  0,  0],\n",
       "         ...,\n",
       "         [ 0,  0,  0],\n",
       "         [ 0,  0,  0],\n",
       "         [ 0,  0,  0]],\n",
       " \n",
       "        [[ 0,  0,  0],\n",
       "         [ 0,  0,  0],\n",
       "         [ 0,  0,  0],\n",
       "         ...,\n",
       "         [ 0,  0,  0],\n",
       "         [ 0,  0,  0],\n",
       "         [ 0,  0,  0]],\n",
       " \n",
       "        [[ 0,  0,  0],\n",
       "         [ 0,  0,  0],\n",
       "         [ 0,  0,  0],\n",
       "         ...,\n",
       "         [ 0,  0,  0],\n",
       "         [ 0,  0,  0],\n",
       "         [ 0,  0,  0]],\n",
       " \n",
       "        ...,\n",
       " \n",
       "        [[69, 69, 69],\n",
       "         [71, 71, 71],\n",
       "         [75, 75, 75],\n",
       "         ...,\n",
       "         [85, 85, 85],\n",
       "         [86, 86, 86],\n",
       "         [82, 82, 82]],\n",
       " \n",
       "        [[69, 69, 69],\n",
       "         [64, 64, 64],\n",
       "         [68, 68, 68],\n",
       "         ...,\n",
       "         [81, 81, 81],\n",
       "         [85, 85, 85],\n",
       "         [85, 85, 85]],\n",
       " \n",
       "        [[78, 78, 78],\n",
       "         [78, 78, 78],\n",
       "         [80, 80, 80],\n",
       "         ...,\n",
       "         [85, 85, 85],\n",
       "         [92, 92, 92],\n",
       "         [91, 91, 91]]], dtype=uint8)\n",
       " orig_shape: (684, 853)\n",
       " path: '/home/ec2-user/SageMaker/data/test/images/180_1_S1A_IW_GRDH_1SDV_20190326T142410_20190326T142435_026510_02F845_B1FA_Cal_ML_Spk_TC.png'\n",
       " probs: None\n",
       " save_dir: 'runs/detect/predict2'\n",
       " speed: {'preprocess': 2.6521682739257812, 'inference': 120.86868286132812, 'postprocess': 1.5878677368164062},\n",
       " ultralytics.engine.results.Results object with attributes:\n",
       " \n",
       " boxes: ultralytics.engine.results.Boxes object\n",
       " keypoints: None\n",
       " masks: None\n",
       " names: {0: 'eddy', 1: 'non-eddy'}\n",
       " obb: None\n",
       " orig_img: array([[[ 52,  52,  52],\n",
       "         [ 43,  43,  43],\n",
       "         [ 34,  34,  34],\n",
       "         ...,\n",
       "         [ 98,  98,  98],\n",
       "         [114, 114, 114],\n",
       "         [ 98,  98,  98]],\n",
       " \n",
       "        [[ 58,  58,  58],\n",
       "         [ 45,  45,  45],\n",
       "         [ 36,  36,  36],\n",
       "         ...,\n",
       "         [ 91,  91,  91],\n",
       "         [ 94,  94,  94],\n",
       "         [ 85,  85,  85]],\n",
       " \n",
       "        [[ 36,  36,  36],\n",
       "         [ 39,  39,  39],\n",
       "         [ 36,  36,  36],\n",
       "         ...,\n",
       "         [101, 101, 101],\n",
       "         [ 86,  86,  86],\n",
       "         [ 72,  72,  72]],\n",
       " \n",
       "        ...,\n",
       " \n",
       "        [[ 58,  58,  58],\n",
       "         [ 49,  49,  49],\n",
       "         [ 50,  50,  50],\n",
       "         ...,\n",
       "         [ 97,  97,  97],\n",
       "         [110, 110, 110],\n",
       "         [116, 116, 116]],\n",
       " \n",
       "        [[ 47,  47,  47],\n",
       "         [ 46,  46,  46],\n",
       "         [ 48,  48,  48],\n",
       "         ...,\n",
       "         [ 91,  91,  91],\n",
       "         [ 94,  94,  94],\n",
       "         [105, 105, 105]],\n",
       " \n",
       "        [[ 38,  38,  38],\n",
       "         [ 42,  42,  42],\n",
       "         [ 48,  48,  48],\n",
       "         ...,\n",
       "         [ 87,  87,  87],\n",
       "         [ 80,  80,  80],\n",
       "         [ 90,  90,  90]]], dtype=uint8)\n",
       " orig_shape: (690, 830)\n",
       " path: '/home/ec2-user/SageMaker/data/test/images/180_1_S1B_IW_GRDH_1SDV_20181223T015754_20181223T015819_014163_01A51C_117C.png'\n",
       " probs: None\n",
       " save_dir: 'runs/detect/predict2'\n",
       " speed: {'preprocess': 2.4743080139160156, 'inference': 17.102718353271484, 'postprocess': 1.5103816986083984},\n",
       " ultralytics.engine.results.Results object with attributes:\n",
       " \n",
       " boxes: ultralytics.engine.results.Boxes object\n",
       " keypoints: None\n",
       " masks: None\n",
       " names: {0: 'eddy', 1: 'non-eddy'}\n",
       " obb: None\n",
       " orig_img: array([[[14, 14, 14],\n",
       "         [ 9,  9,  9],\n",
       "         [ 7,  7,  7],\n",
       "         ...,\n",
       "         [62, 62, 62],\n",
       "         [58, 58, 58],\n",
       "         [51, 51, 51]],\n",
       " \n",
       "        [[19, 19, 19],\n",
       "         [14, 14, 14],\n",
       "         [13, 13, 13],\n",
       "         ...,\n",
       "         [65, 65, 65],\n",
       "         [60, 60, 60],\n",
       "         [51, 51, 51]],\n",
       " \n",
       "        [[91, 91, 91],\n",
       "         [57, 57, 57],\n",
       "         [58, 58, 58],\n",
       "         ...,\n",
       "         [60, 60, 60],\n",
       "         [52, 52, 52],\n",
       "         [47, 47, 47]],\n",
       " \n",
       "        ...,\n",
       " \n",
       "        [[98, 98, 98],\n",
       "         [94, 94, 94],\n",
       "         [70, 70, 70],\n",
       "         ...,\n",
       "         [68, 68, 68],\n",
       "         [59, 59, 59],\n",
       "         [55, 55, 55]],\n",
       " \n",
       "        [[90, 90, 90],\n",
       "         [97, 97, 97],\n",
       "         [73, 73, 73],\n",
       "         ...,\n",
       "         [72, 72, 72],\n",
       "         [60, 60, 60],\n",
       "         [57, 57, 57]],\n",
       " \n",
       "        [[83, 83, 83],\n",
       "         [92, 92, 92],\n",
       "         [98, 98, 98],\n",
       "         ...,\n",
       "         [72, 72, 72],\n",
       "         [72, 72, 72],\n",
       "         [74, 74, 74]]], dtype=uint8)\n",
       " orig_shape: (680, 850)\n",
       " path: '/home/ec2-user/SageMaker/data/test/images/180_2_S1A_IW_GRDH_1SDV_20181208T142412_20181208T142437_024935_02BF4E_7891.png'\n",
       " probs: None\n",
       " save_dir: 'runs/detect/predict2'\n",
       " speed: {'preprocess': 2.440214157104492, 'inference': 17.96412467956543, 'postprocess': 1.5382766723632812},\n",
       " ultralytics.engine.results.Results object with attributes:\n",
       " \n",
       " boxes: ultralytics.engine.results.Boxes object\n",
       " keypoints: None\n",
       " masks: None\n",
       " names: {0: 'eddy', 1: 'non-eddy'}\n",
       " obb: None\n",
       " orig_img: array([[[ 8,  8,  8],\n",
       "         [ 9,  9,  9],\n",
       "         [ 8,  8,  8],\n",
       "         ...,\n",
       "         [12, 12, 12],\n",
       "         [14, 14, 14],\n",
       "         [12, 12, 12]],\n",
       " \n",
       "        [[11, 11, 11],\n",
       "         [ 9,  9,  9],\n",
       "         [ 8,  8,  8],\n",
       "         ...,\n",
       "         [12, 12, 12],\n",
       "         [12, 12, 12],\n",
       "         [11, 11, 11]],\n",
       " \n",
       "        [[ 9,  9,  9],\n",
       "         [ 8,  8,  8],\n",
       "         [ 8,  8,  8],\n",
       "         ...,\n",
       "         [11, 11, 11],\n",
       "         [11, 11, 11],\n",
       "         [13, 13, 13]],\n",
       " \n",
       "        ...,\n",
       " \n",
       "        [[10, 10, 10],\n",
       "         [ 7,  7,  7],\n",
       "         [ 8,  8,  8],\n",
       "         ...,\n",
       "         [14, 14, 14],\n",
       "         [14, 14, 14],\n",
       "         [15, 15, 15]],\n",
       " \n",
       "        [[ 9,  9,  9],\n",
       "         [ 8,  8,  8],\n",
       "         [ 9,  9,  9],\n",
       "         ...,\n",
       "         [14, 14, 14],\n",
       "         [14, 14, 14],\n",
       "         [15, 15, 15]],\n",
       " \n",
       "        [[10, 10, 10],\n",
       "         [13, 13, 13],\n",
       "         [18, 18, 18],\n",
       "         ...,\n",
       "         [12, 12, 12],\n",
       "         [13, 13, 13],\n",
       "         [15, 15, 15]]], dtype=uint8)\n",
       " orig_shape: (679, 844)\n",
       " path: '/home/ec2-user/SageMaker/data/test/images/180_2_S1A_IW_GRDH_1SDV_20181208T142437_20181208T142502_024935_02BF4E_5668.png'\n",
       " probs: None\n",
       " save_dir: 'runs/detect/predict2'\n",
       " speed: {'preprocess': 2.4368762969970703, 'inference': 17.62104034423828, 'postprocess': 0.6747245788574219},\n",
       " ultralytics.engine.results.Results object with attributes:\n",
       " \n",
       " boxes: ultralytics.engine.results.Boxes object\n",
       " keypoints: None\n",
       " masks: None\n",
       " names: {0: 'eddy', 1: 'non-eddy'}\n",
       " obb: None\n",
       " orig_img: array([[[15, 15, 15],\n",
       "         [17, 17, 17],\n",
       "         [19, 19, 19],\n",
       "         ...,\n",
       "         [42, 42, 42],\n",
       "         [36, 36, 36],\n",
       "         [35, 35, 35]],\n",
       " \n",
       "        [[16, 16, 16],\n",
       "         [15, 15, 15],\n",
       "         [15, 15, 15],\n",
       "         ...,\n",
       "         [42, 42, 42],\n",
       "         [38, 38, 38],\n",
       "         [36, 36, 36]],\n",
       " \n",
       "        [[16, 16, 16],\n",
       "         [15, 15, 15],\n",
       "         [19, 19, 19],\n",
       "         ...,\n",
       "         [67, 67, 67],\n",
       "         [43, 43, 43],\n",
       "         [30, 30, 30]],\n",
       " \n",
       "        ...,\n",
       " \n",
       "        [[33, 33, 33],\n",
       "         [31, 31, 31],\n",
       "         [35, 35, 35],\n",
       "         ...,\n",
       "         [79, 79, 79],\n",
       "         [77, 77, 77],\n",
       "         [81, 81, 81]],\n",
       " \n",
       "        [[29, 29, 29],\n",
       "         [32, 32, 32],\n",
       "         [39, 39, 39],\n",
       "         ...,\n",
       "         [68, 68, 68],\n",
       "         [71, 71, 71],\n",
       "         [74, 74, 74]],\n",
       " \n",
       "        [[34, 34, 34],\n",
       "         [31, 31, 31],\n",
       "         [43, 43, 43],\n",
       "         ...,\n",
       "         [68, 68, 68],\n",
       "         [76, 76, 76],\n",
       "         [82, 82, 82]]], dtype=uint8)\n",
       " orig_shape: (678, 800)\n",
       " path: '/home/ec2-user/SageMaker/data/test/images/180_2_S1A_IW_GRDH_1SDV_20181212T135246_20181212T135311_024993_02C174_133E.png'\n",
       " probs: None\n",
       " save_dir: 'runs/detect/predict2'\n",
       " speed: {'preprocess': 2.4733543395996094, 'inference': 16.857385635375977, 'postprocess': 0.675201416015625},\n",
       " ultralytics.engine.results.Results object with attributes:\n",
       " \n",
       " boxes: ultralytics.engine.results.Boxes object\n",
       " keypoints: None\n",
       " masks: None\n",
       " names: {0: 'eddy', 1: 'non-eddy'}\n",
       " obb: None\n",
       " orig_img: array([[[ 9,  9,  9],\n",
       "         [ 8,  8,  8],\n",
       "         [ 7,  7,  7],\n",
       "         ...,\n",
       "         [54, 54, 54],\n",
       "         [56, 56, 56],\n",
       "         [49, 49, 49]],\n",
       " \n",
       "        [[ 8,  8,  8],\n",
       "         [ 8,  8,  8],\n",
       "         [ 7,  7,  7],\n",
       "         ...,\n",
       "         [52, 52, 52],\n",
       "         [60, 60, 60],\n",
       "         [46, 46, 46]],\n",
       " \n",
       "        [[ 9,  9,  9],\n",
       "         [10, 10, 10],\n",
       "         [ 8,  8,  8],\n",
       "         ...,\n",
       "         [54, 54, 54],\n",
       "         [62, 62, 62],\n",
       "         [68, 68, 68]],\n",
       " \n",
       "        ...,\n",
       " \n",
       "        [[75, 75, 75],\n",
       "         [80, 80, 80],\n",
       "         [81, 81, 81],\n",
       "         ...,\n",
       "         [62, 62, 62],\n",
       "         [69, 69, 69],\n",
       "         [85, 85, 85]],\n",
       " \n",
       "        [[88, 88, 88],\n",
       "         [94, 94, 94],\n",
       "         [82, 82, 82],\n",
       "         ...,\n",
       "         [66, 66, 66],\n",
       "         [60, 60, 60],\n",
       "         [65, 65, 65]],\n",
       " \n",
       "        [[71, 71, 71],\n",
       "         [88, 88, 88],\n",
       "         [77, 77, 77],\n",
       "         ...,\n",
       "         [67, 67, 67],\n",
       "         [56, 56, 56],\n",
       "         [63, 63, 63]]], dtype=uint8)\n",
       " orig_shape: (684, 819)\n",
       " path: '/home/ec2-user/SageMaker/data/test/images/180_2_S1A_IW_GRDH_1SDV_20181224T135221_20181224T135246_025168_02C7C7_88A4.png'\n",
       " probs: None\n",
       " save_dir: 'runs/detect/predict2'\n",
       " speed: {'preprocess': 2.443552017211914, 'inference': 16.71433448791504, 'postprocess': 1.5273094177246094},\n",
       " ultralytics.engine.results.Results object with attributes:\n",
       " \n",
       " boxes: ultralytics.engine.results.Boxes object\n",
       " keypoints: None\n",
       " masks: None\n",
       " names: {0: 'eddy', 1: 'non-eddy'}\n",
       " obb: None\n",
       " orig_img: array([[[ 87,  87,  87],\n",
       "         [ 86,  86,  86],\n",
       "         [ 82,  82,  82],\n",
       "         ...,\n",
       "         [ 59,  59,  59],\n",
       "         [ 50,  50,  50],\n",
       "         [ 38,  38,  38]],\n",
       " \n",
       "        [[ 84,  84,  84],\n",
       "         [ 84,  84,  84],\n",
       "         [ 87,  87,  87],\n",
       "         ...,\n",
       "         [ 52,  52,  52],\n",
       "         [ 49,  49,  49],\n",
       "         [ 40,  40,  40]],\n",
       " \n",
       "        [[ 86,  86,  86],\n",
       "         [ 92,  92,  92],\n",
       "         [106, 106, 106],\n",
       "         ...,\n",
       "         [ 39,  39,  39],\n",
       "         [ 42,  42,  42],\n",
       "         [ 48,  48,  48]],\n",
       " \n",
       "        ...,\n",
       " \n",
       "        [[  0,   0,   0],\n",
       "         [  0,   0,   0],\n",
       "         [  0,   0,   0],\n",
       "         ...,\n",
       "         [ 19,  19,  19],\n",
       "         [ 17,  17,  17],\n",
       "         [ 15,  15,  15]],\n",
       " \n",
       "        [[  0,   0,   0],\n",
       "         [  0,   0,   0],\n",
       "         [  0,   0,   0],\n",
       "         ...,\n",
       "         [ 17,  17,  17],\n",
       "         [ 16,  16,  16],\n",
       "         [ 18,  18,  18]],\n",
       " \n",
       "        [[  0,   0,   0],\n",
       "         [  0,   0,   0],\n",
       "         [  0,   0,   0],\n",
       "         ...,\n",
       "         [ 18,  18,  18],\n",
       "         [ 18,  18,  18],\n",
       "         [ 18,  18,  18]]], dtype=uint8)\n",
       " orig_shape: (681, 831)\n",
       " path: '/home/ec2-user/SageMaker/data/test/images/180_2_S1A_IW_GRDH_1SDV_20190103T140837_20190103T140902_025314_02CD02_8A7D.png'\n",
       " probs: None\n",
       " save_dir: 'runs/detect/predict2'\n",
       " speed: {'preprocess': 2.401113510131836, 'inference': 17.00592041015625, 'postprocess': 1.7194747924804688},\n",
       " ultralytics.engine.results.Results object with attributes:\n",
       " \n",
       " boxes: ultralytics.engine.results.Boxes object\n",
       " keypoints: None\n",
       " masks: None\n",
       " names: {0: 'eddy', 1: 'non-eddy'}\n",
       " obb: None\n",
       " orig_img: array([[[109, 109, 109],\n",
       "         [101, 101, 101],\n",
       "         [ 96,  96,  96],\n",
       "         ...,\n",
       "         [105, 105, 105],\n",
       "         [105, 105, 105],\n",
       "         [100, 100, 100]],\n",
       " \n",
       "        [[111, 111, 111],\n",
       "         [123, 123, 123],\n",
       "         [114, 114, 114],\n",
       "         ...,\n",
       "         [ 66,  66,  66],\n",
       "         [ 84,  84,  84],\n",
       "         [107, 107, 107]],\n",
       " \n",
       "        [[146, 146, 146],\n",
       "         [121, 121, 121],\n",
       "         [111, 111, 111],\n",
       "         ...,\n",
       "         [ 75,  75,  75],\n",
       "         [ 81,  81,  81],\n",
       "         [ 82,  82,  82]],\n",
       " \n",
       "        ...,\n",
       " \n",
       "        [[  0,   0,   0],\n",
       "         [  0,   0,   0],\n",
       "         [  0,   0,   0],\n",
       "         ...,\n",
       "         [116, 116, 116],\n",
       "         [ 98,  98,  98],\n",
       "         [ 87,  87,  87]],\n",
       " \n",
       "        [[  0,   0,   0],\n",
       "         [  0,   0,   0],\n",
       "         [  0,   0,   0],\n",
       "         ...,\n",
       "         [124, 124, 124],\n",
       "         [ 97,  97,  97],\n",
       "         [ 87,  87,  87]],\n",
       " \n",
       "        [[  0,   0,   0],\n",
       "         [  0,   0,   0],\n",
       "         [  0,   0,   0],\n",
       "         ...,\n",
       "         [106, 106, 106],\n",
       "         [ 95,  95,  95],\n",
       "         [ 87,  87,  87]]], dtype=uint8)\n",
       " orig_shape: (679, 798)\n",
       " path: '/home/ec2-user/SageMaker/data/test/images/180_2_S1A_IW_GRDH_1SDV_20190127T140926_20190127T141001_025664_02D9BE_3A0F_Cal_ML_Spk_TC.png'\n",
       " probs: None\n",
       " save_dir: 'runs/detect/predict2'\n",
       " speed: {'preprocess': 2.6400089263916016, 'inference': 121.04487419128418, 'postprocess': 1.5773773193359375},\n",
       " ultralytics.engine.results.Results object with attributes:\n",
       " \n",
       " boxes: ultralytics.engine.results.Boxes object\n",
       " keypoints: None\n",
       " masks: None\n",
       " names: {0: 'eddy', 1: 'non-eddy'}\n",
       " obb: None\n",
       " orig_img: array([[[ 88,  88,  88],\n",
       "         [107, 107, 107],\n",
       "         [100, 100, 100],\n",
       "         ...,\n",
       "         [140, 140, 140],\n",
       "         [139, 139, 139],\n",
       "         [128, 128, 128]],\n",
       " \n",
       "        [[112, 112, 112],\n",
       "         [ 86,  86,  86],\n",
       "         [ 64,  64,  64],\n",
       "         ...,\n",
       "         [ 89,  89,  89],\n",
       "         [ 98,  98,  98],\n",
       "         [104, 104, 104]],\n",
       " \n",
       "        [[111, 111, 111],\n",
       "         [107, 107, 107],\n",
       "         [ 69,  69,  69],\n",
       "         ...,\n",
       "         [ 85,  85,  85],\n",
       "         [ 86,  86,  86],\n",
       "         [ 89,  89,  89]],\n",
       " \n",
       "        ...,\n",
       " \n",
       "        [[168, 168, 168],\n",
       "         [151, 151, 151],\n",
       "         [178, 178, 178],\n",
       "         ...,\n",
       "         [ 80,  80,  80],\n",
       "         [ 80,  80,  80],\n",
       "         [ 80,  80,  80]],\n",
       " \n",
       "        [[167, 167, 167],\n",
       "         [161, 161, 161],\n",
       "         [183, 183, 183],\n",
       "         ...,\n",
       "         [ 73,  73,  73],\n",
       "         [ 81,  81,  81],\n",
       "         [ 91,  91,  91]],\n",
       " \n",
       "        [[161, 161, 161],\n",
       "         [169, 169, 169],\n",
       "         [161, 161, 161],\n",
       "         ...,\n",
       "         [ 83,  83,  83],\n",
       "         [ 84,  84,  84],\n",
       "         [ 91,  91,  91]]], dtype=uint8)\n",
       " orig_shape: (675, 798)\n",
       " path: '/home/ec2-user/SageMaker/data/test/images/180_2_S1A_IW_GRDH_1SDV_20190129T135245_20190129T135310_025693_02DACF_C27C_Cal_ML_Spk_TC.png'\n",
       " probs: None\n",
       " save_dir: 'runs/detect/predict2'\n",
       " speed: {'preprocess': 2.462625503540039, 'inference': 18.012285232543945, 'postprocess': 0.6871223449707031},\n",
       " ultralytics.engine.results.Results object with attributes:\n",
       " \n",
       " boxes: ultralytics.engine.results.Boxes object\n",
       " keypoints: None\n",
       " masks: None\n",
       " names: {0: 'eddy', 1: 'non-eddy'}\n",
       " obb: None\n",
       " orig_img: array([[[108, 108, 108],\n",
       "         [ 91,  91,  91],\n",
       "         [ 79,  79,  79],\n",
       "         ...,\n",
       "         [ 56,  56,  56],\n",
       "         [ 52,  52,  52],\n",
       "         [ 48,  48,  48]],\n",
       " \n",
       "        [[ 98,  98,  98],\n",
       "         [ 93,  93,  93],\n",
       "         [ 88,  88,  88],\n",
       "         ...,\n",
       "         [ 52,  52,  52],\n",
       "         [ 43,  43,  43],\n",
       "         [ 54,  54,  54]],\n",
       " \n",
       "        [[ 90,  90,  90],\n",
       "         [ 92,  92,  92],\n",
       "         [104, 104, 104],\n",
       "         ...,\n",
       "         [ 79,  79,  79],\n",
       "         [ 97,  97,  97],\n",
       "         [ 66,  66,  66]],\n",
       " \n",
       "        ...,\n",
       " \n",
       "        [[ 33,  33,  33],\n",
       "         [ 40,  40,  40],\n",
       "         [ 31,  31,  31],\n",
       "         ...,\n",
       "         [ 42,  42,  42],\n",
       "         [ 57,  57,  57],\n",
       "         [ 92,  92,  92]],\n",
       " \n",
       "        [[ 23,  23,  23],\n",
       "         [ 28,  28,  28],\n",
       "         [ 28,  28,  28],\n",
       "         ...,\n",
       "         [ 56,  56,  56],\n",
       "         [ 64,  64,  64],\n",
       "         [ 61,  61,  61]],\n",
       " \n",
       "        [[ 18,  18,  18],\n",
       "         [ 17,  17,  17],\n",
       "         [ 19,  19,  19],\n",
       "         ...,\n",
       "         [ 68,  68,  68],\n",
       "         [ 68,  68,  68],\n",
       "         [ 60,  60,  60]]], dtype=uint8)\n",
       " orig_shape: (681, 850)\n",
       " path: '/home/ec2-user/SageMaker/data/test/images/180_2_S1A_IW_GRDH_1SDV_20190326T142410_20190326T142435_026510_02F845_B1FA_Cal_ML_Spk_TC.png'\n",
       " probs: None\n",
       " save_dir: 'runs/detect/predict2'\n",
       " speed: {'preprocess': 2.3717880249023438, 'inference': 16.99519157409668, 'postprocess': 0.6861686706542969},\n",
       " ultralytics.engine.results.Results object with attributes:\n",
       " \n",
       " boxes: ultralytics.engine.results.Boxes object\n",
       " keypoints: None\n",
       " masks: None\n",
       " names: {0: 'eddy', 1: 'non-eddy'}\n",
       " obb: None\n",
       " orig_img: array([[[122, 122, 122],\n",
       "         [130, 130, 130],\n",
       "         [ 84,  84,  84],\n",
       "         ...,\n",
       "         [  0,   0,   0],\n",
       "         [  0,   0,   0],\n",
       "         [  0,   0,   0]],\n",
       " \n",
       "        [[129, 129, 129],\n",
       "         [153, 153, 153],\n",
       "         [ 70,  70,  70],\n",
       "         ...,\n",
       "         [  0,   0,   0],\n",
       "         [  0,   0,   0],\n",
       "         [  0,   0,   0]],\n",
       " \n",
       "        [[106, 106, 106],\n",
       "         [ 82,  82,  82],\n",
       "         [ 34,  34,  34],\n",
       "         ...,\n",
       "         [  0,   0,   0],\n",
       "         [  0,   0,   0],\n",
       "         [  0,   0,   0]],\n",
       " \n",
       "        ...,\n",
       " \n",
       "        [[ 93,  93,  93],\n",
       "         [ 94,  94,  94],\n",
       "         [ 86,  86,  86],\n",
       "         ...,\n",
       "         [  0,   0,   0],\n",
       "         [  0,   0,   0],\n",
       "         [  0,   0,   0]],\n",
       " \n",
       "        [[ 91,  91,  91],\n",
       "         [ 93,  93,  93],\n",
       "         [ 82,  82,  82],\n",
       "         ...,\n",
       "         [  0,   0,   0],\n",
       "         [  0,   0,   0],\n",
       "         [  0,   0,   0]],\n",
       " \n",
       "        [[ 81,  81,  81],\n",
       "         [ 77,  77,  77],\n",
       "         [ 71,  71,  71],\n",
       "         ...,\n",
       "         [  0,   0,   0],\n",
       "         [  0,   0,   0],\n",
       "         [  0,   0,   0]]], dtype=uint8)\n",
       " orig_shape: (678, 848)\n",
       " path: '/home/ec2-user/SageMaker/data/test/images/1_S1A_IW_GRDH_1SDV_20181208T142412_20181208T142437_024935_02BF4E_7891.png'\n",
       " probs: None\n",
       " save_dir: 'runs/detect/predict2'\n",
       " speed: {'preprocess': 2.417325973510742, 'inference': 17.875194549560547, 'postprocess': 1.6238689422607422},\n",
       " ultralytics.engine.results.Results object with attributes:\n",
       " \n",
       " boxes: ultralytics.engine.results.Boxes object\n",
       " keypoints: None\n",
       " masks: None\n",
       " names: {0: 'eddy', 1: 'non-eddy'}\n",
       " obb: None\n",
       " orig_img: array([[[13, 13, 13],\n",
       "         [13, 13, 13],\n",
       "         [13, 13, 13],\n",
       "         ...,\n",
       "         [59, 59, 59],\n",
       "         [59, 59, 59],\n",
       "         [59, 59, 59]],\n",
       " \n",
       "        [[16, 16, 16],\n",
       "         [15, 15, 15],\n",
       "         [12, 12, 12],\n",
       "         ...,\n",
       "         [59, 59, 59],\n",
       "         [58, 58, 58],\n",
       "         [59, 59, 59]],\n",
       " \n",
       "        [[13, 13, 13],\n",
       "         [11, 11, 11],\n",
       "         [10, 10, 10],\n",
       "         ...,\n",
       "         [53, 53, 53],\n",
       "         [55, 55, 55],\n",
       "         [60, 60, 60]],\n",
       " \n",
       "        ...,\n",
       " \n",
       "        [[ 6,  6,  6],\n",
       "         [ 6,  6,  6],\n",
       "         [ 6,  6,  6],\n",
       "         ...,\n",
       "         [68, 68, 68],\n",
       "         [71, 71, 71],\n",
       "         [66, 66, 66]],\n",
       " \n",
       "        [[ 5,  5,  5],\n",
       "         [ 7,  7,  7],\n",
       "         [ 6,  6,  6],\n",
       "         ...,\n",
       "         [73, 73, 73],\n",
       "         [70, 70, 70],\n",
       "         [67, 67, 67]],\n",
       " \n",
       "        [[ 4,  4,  4],\n",
       "         [ 6,  6,  6],\n",
       "         [ 7,  7,  7],\n",
       "         ...,\n",
       "         [99, 99, 99],\n",
       "         [83, 83, 83],\n",
       "         [70, 70, 70]]], dtype=uint8)\n",
       " orig_shape: (675, 799)\n",
       " path: '/home/ec2-user/SageMaker/data/test/images/1_S1A_IW_GRDH_1SDV_20181212T135246_20181212T135311_024993_02C174_133E.png'\n",
       " probs: None\n",
       " save_dir: 'runs/detect/predict2'\n",
       " speed: {'preprocess': 2.4013519287109375, 'inference': 17.83013343811035, 'postprocess': 1.5244483947753906},\n",
       " ultralytics.engine.results.Results object with attributes:\n",
       " \n",
       " boxes: ultralytics.engine.results.Boxes object\n",
       " keypoints: None\n",
       " masks: None\n",
       " names: {0: 'eddy', 1: 'non-eddy'}\n",
       " obb: None\n",
       " orig_img: array([[[50, 50, 50],\n",
       "         [55, 55, 55],\n",
       "         [58, 58, 58],\n",
       "         ...,\n",
       "         [53, 53, 53],\n",
       "         [63, 63, 63],\n",
       "         [63, 63, 63]],\n",
       " \n",
       "        [[49, 49, 49],\n",
       "         [51, 51, 51],\n",
       "         [55, 55, 55],\n",
       "         ...,\n",
       "         [66, 66, 66],\n",
       "         [80, 80, 80],\n",
       "         [76, 76, 76]],\n",
       " \n",
       "        [[33, 33, 33],\n",
       "         [38, 38, 38],\n",
       "         [38, 38, 38],\n",
       "         ...,\n",
       "         [64, 64, 64],\n",
       "         [70, 70, 70],\n",
       "         [72, 72, 72]],\n",
       " \n",
       "        ...,\n",
       " \n",
       "        [[64, 64, 64],\n",
       "         [58, 58, 58],\n",
       "         [61, 61, 61],\n",
       "         ...,\n",
       "         [47, 47, 47],\n",
       "         [43, 43, 43],\n",
       "         [39, 39, 39]],\n",
       " \n",
       "        [[64, 64, 64],\n",
       "         [56, 56, 56],\n",
       "         [55, 55, 55],\n",
       "         ...,\n",
       "         [45, 45, 45],\n",
       "         [46, 46, 46],\n",
       "         [47, 47, 47]],\n",
       " \n",
       "        [[64, 64, 64],\n",
       "         [61, 61, 61],\n",
       "         [55, 55, 55],\n",
       "         ...,\n",
       "         [42, 42, 42],\n",
       "         [50, 50, 50],\n",
       "         [58, 58, 58]]], dtype=uint8)\n",
       " orig_shape: (674, 803)\n",
       " path: '/home/ec2-user/SageMaker/data/test/images/1_S1A_IW_GRDH_1SDV_20181215T141717_20181215T141736_025037_02C30F_BFD8.png'\n",
       " probs: None\n",
       " save_dir: 'runs/detect/predict2'\n",
       " speed: {'preprocess': 2.3784637451171875, 'inference': 17.074108123779297, 'postprocess': 1.5003681182861328},\n",
       " ultralytics.engine.results.Results object with attributes:\n",
       " \n",
       " boxes: ultralytics.engine.results.Boxes object\n",
       " keypoints: None\n",
       " masks: None\n",
       " names: {0: 'eddy', 1: 'non-eddy'}\n",
       " obb: None\n",
       " orig_img: array([[[ 15,  15,  15],\n",
       "         [ 18,  18,  18],\n",
       "         [ 25,  25,  25],\n",
       "         ...,\n",
       "         [ 36,  36,  36],\n",
       "         [ 40,  40,  40],\n",
       "         [ 40,  40,  40]],\n",
       " \n",
       "        [[ 16,  16,  16],\n",
       "         [ 22,  22,  22],\n",
       "         [ 28,  28,  28],\n",
       "         ...,\n",
       "         [ 38,  38,  38],\n",
       "         [ 42,  42,  42],\n",
       "         [ 41,  41,  41]],\n",
       " \n",
       "        [[ 26,  26,  26],\n",
       "         [ 26,  26,  26],\n",
       "         [ 32,  32,  32],\n",
       "         ...,\n",
       "         [ 43,  43,  43],\n",
       "         [ 40,  40,  40],\n",
       "         [ 38,  38,  38]],\n",
       " \n",
       "        ...,\n",
       " \n",
       "        [[ 36,  36,  36],\n",
       "         [ 33,  33,  33],\n",
       "         [ 33,  33,  33],\n",
       "         ...,\n",
       "         [102, 102, 102],\n",
       "         [123, 123, 123],\n",
       "         [133, 133, 133]],\n",
       " \n",
       "        [[ 49,  49,  49],\n",
       "         [ 39,  39,  39],\n",
       "         [ 29,  29,  29],\n",
       "         ...,\n",
       "         [110, 110, 110],\n",
       "         [108, 108, 108],\n",
       "         [ 99,  99,  99]],\n",
       " \n",
       "        [[ 45,  45,  45],\n",
       "         [ 38,  38,  38],\n",
       "         [ 28,  28,  28],\n",
       "         ...,\n",
       "         [114, 114, 114],\n",
       "         [103, 103, 103],\n",
       "         [ 89,  89,  89]]], dtype=uint8)\n",
       " orig_shape: (687, 823)\n",
       " path: '/home/ec2-user/SageMaker/data/test/images/1_S1A_IW_GRDH_1SDV_20181229T140047_20181229T140112_025241_02CA6E_D38C.png'\n",
       " probs: None\n",
       " save_dir: 'runs/detect/predict2'\n",
       " speed: {'preprocess': 2.361774444580078, 'inference': 17.012834548950195, 'postprocess': 1.5246868133544922},\n",
       " ultralytics.engine.results.Results object with attributes:\n",
       " \n",
       " boxes: ultralytics.engine.results.Boxes object\n",
       " keypoints: None\n",
       " masks: None\n",
       " names: {0: 'eddy', 1: 'non-eddy'}\n",
       " obb: None\n",
       " orig_img: array([[[ 17,  17,  17],\n",
       "         [  6,   6,   6],\n",
       "         [  1,   1,   1],\n",
       "         ...,\n",
       "         [ 59,  59,  59],\n",
       "         [ 57,  57,  57],\n",
       "         [ 71,  71,  71]],\n",
       " \n",
       "        [[  2,   2,   2],\n",
       "         [  1,   1,   1],\n",
       "         [  1,   1,   1],\n",
       "         ...,\n",
       "         [ 45,  45,  45],\n",
       "         [ 52,  52,  52],\n",
       "         [ 81,  81,  81]],\n",
       " \n",
       "        [[  2,   2,   2],\n",
       "         [  1,   1,   1],\n",
       "         [  0,   0,   0],\n",
       "         ...,\n",
       "         [ 45,  45,  45],\n",
       "         [ 66,  66,  66],\n",
       "         [ 99,  99,  99]],\n",
       " \n",
       "        ...,\n",
       " \n",
       "        [[ 47,  47,  47],\n",
       "         [ 48,  48,  48],\n",
       "         [ 54,  54,  54],\n",
       "         ...,\n",
       "         [111, 111, 111],\n",
       "         [ 88,  88,  88],\n",
       "         [ 87,  87,  87]],\n",
       " \n",
       "        [[ 35,  35,  35],\n",
       "         [ 39,  39,  39],\n",
       "         [ 42,  42,  42],\n",
       "         ...,\n",
       "         [ 93,  93,  93],\n",
       "         [ 83,  83,  83],\n",
       "         [ 84,  84,  84]],\n",
       " \n",
       "        [[ 44,  44,  44],\n",
       "         [ 45,  45,  45],\n",
       "         [ 41,  41,  41],\n",
       "         ...,\n",
       "         [104, 104, 104],\n",
       "         [ 89,  89,  89],\n",
       "         [ 67,  67,  67]]], dtype=uint8)\n",
       " orig_shape: (677, 828)\n",
       " path: '/home/ec2-user/SageMaker/data/test/images/1_S1A_IW_GRDH_1SDV_20190127T140811_20190127T140836_025664_02D9BE_6473_Cal_ML_Spk_TC.png'\n",
       " probs: None\n",
       " save_dir: 'runs/detect/predict2'\n",
       " speed: {'preprocess': 2.3462772369384766, 'inference': 17.11249351501465, 'postprocess': 1.5616416931152344},\n",
       " ultralytics.engine.results.Results object with attributes:\n",
       " \n",
       " boxes: ultralytics.engine.results.Boxes object\n",
       " keypoints: None\n",
       " masks: None\n",
       " names: {0: 'eddy', 1: 'non-eddy'}\n",
       " obb: None\n",
       " orig_img: array([[[100, 100, 100],\n",
       "         [ 95,  95,  95],\n",
       "         [ 94,  94,  94],\n",
       "         ...,\n",
       "         [  0,   0,   0],\n",
       "         [  0,   0,   0],\n",
       "         [  0,   0,   0]],\n",
       " \n",
       "        [[ 97,  97,  97],\n",
       "         [ 94,  94,  94],\n",
       "         [ 94,  94,  94],\n",
       "         ...,\n",
       "         [  0,   0,   0],\n",
       "         [  0,   0,   0],\n",
       "         [  0,   0,   0]],\n",
       " \n",
       "        [[100, 100, 100],\n",
       "         [105, 105, 105],\n",
       "         [107, 107, 107],\n",
       "         ...,\n",
       "         [  0,   0,   0],\n",
       "         [  0,   0,   0],\n",
       "         [  0,   0,   0]],\n",
       " \n",
       "        ...,\n",
       " \n",
       "        [[ 76,  76,  76],\n",
       "         [ 66,  66,  66],\n",
       "         [ 65,  65,  65],\n",
       "         ...,\n",
       "         [ 57,  57,  57],\n",
       "         [ 62,  62,  62],\n",
       "         [ 66,  66,  66]],\n",
       " \n",
       "        [[ 77,  77,  77],\n",
       "         [ 75,  75,  75],\n",
       "         [ 73,  73,  73],\n",
       "         ...,\n",
       "         [ 54,  54,  54],\n",
       "         [ 56,  56,  56],\n",
       "         [ 56,  56,  56]],\n",
       " \n",
       "        [[ 79,  79,  79],\n",
       "         [ 73,  73,  73],\n",
       "         [ 77,  77,  77],\n",
       "         ...,\n",
       "         [ 55,  55,  55],\n",
       "         [ 48,  48,  48],\n",
       "         [ 54,  54,  54]]], dtype=uint8)\n",
       " orig_shape: (674, 823)\n",
       " path: '/home/ec2-user/SageMaker/data/test/images/1_S1A_IW_GRDH_1SDV_20190127T140836_20190127T140901_025664_02D9BE_F63E_Cal_ML_Spk_TC.png'\n",
       " probs: None\n",
       " save_dir: 'runs/detect/predict2'\n",
       " speed: {'preprocess': 2.4318695068359375, 'inference': 17.127037048339844, 'postprocess': 1.5437602996826172},\n",
       " ultralytics.engine.results.Results object with attributes:\n",
       " \n",
       " boxes: ultralytics.engine.results.Boxes object\n",
       " keypoints: None\n",
       " masks: None\n",
       " names: {0: 'eddy', 1: 'non-eddy'}\n",
       " obb: None\n",
       " orig_img: array([[[ 0,  0,  0],\n",
       "         [ 0,  0,  0],\n",
       "         [ 0,  0,  0],\n",
       "         ...,\n",
       "         [ 0,  0,  0],\n",
       "         [ 0,  0,  0],\n",
       "         [ 0,  0,  0]],\n",
       " \n",
       "        [[ 0,  0,  0],\n",
       "         [ 0,  0,  0],\n",
       "         [ 0,  0,  0],\n",
       "         ...,\n",
       "         [ 0,  0,  0],\n",
       "         [ 0,  0,  0],\n",
       "         [ 0,  0,  0]],\n",
       " \n",
       "        [[ 0,  0,  0],\n",
       "         [ 0,  0,  0],\n",
       "         [ 0,  0,  0],\n",
       "         ...,\n",
       "         [ 0,  0,  0],\n",
       "         [ 0,  0,  0],\n",
       "         [ 0,  0,  0]],\n",
       " \n",
       "        ...,\n",
       " \n",
       "        [[63, 63, 63],\n",
       "         [60, 60, 60],\n",
       "         [65, 65, 65],\n",
       "         ...,\n",
       "         [73, 73, 73],\n",
       "         [64, 64, 64],\n",
       "         [64, 64, 64]],\n",
       " \n",
       "        [[49, 49, 49],\n",
       "         [49, 49, 49],\n",
       "         [60, 60, 60],\n",
       "         ...,\n",
       "         [68, 68, 68],\n",
       "         [64, 64, 64],\n",
       "         [60, 60, 60]],\n",
       " \n",
       "        [[52, 52, 52],\n",
       "         [63, 63, 63],\n",
       "         [63, 63, 63],\n",
       "         ...,\n",
       "         [78, 78, 78],\n",
       "         [78, 78, 78],\n",
       "         [79, 79, 79]]], dtype=uint8)\n",
       " orig_shape: (684, 817)\n",
       " path: '/home/ec2-user/SageMaker/data/test/images/1_S1A_IW_GRDH_1SDV_20190127T140901_20190127T140926_025664_02D9BE_0C0F_Cal_ML_Spk_TC.png'\n",
       " probs: None\n",
       " save_dir: 'runs/detect/predict2'\n",
       " speed: {'preprocess': 2.3572444915771484, 'inference': 17.1053409576416, 'postprocess': 1.4986991882324219},\n",
       " ultralytics.engine.results.Results object with attributes:\n",
       " \n",
       " boxes: ultralytics.engine.results.Boxes object\n",
       " keypoints: None\n",
       " masks: None\n",
       " names: {0: 'eddy', 1: 'non-eddy'}\n",
       " obb: None\n",
       " orig_img: array([[[ 70,  70,  70],\n",
       "         [ 63,  63,  63],\n",
       "         [ 59,  59,  59],\n",
       "         ...,\n",
       "         [ 63,  63,  63],\n",
       "         [ 67,  67,  67],\n",
       "         [ 67,  67,  67]],\n",
       " \n",
       "        [[ 69,  69,  69],\n",
       "         [ 55,  55,  55],\n",
       "         [ 55,  55,  55],\n",
       "         ...,\n",
       "         [ 58,  58,  58],\n",
       "         [ 71,  71,  71],\n",
       "         [ 73,  73,  73]],\n",
       " \n",
       "        [[ 61,  61,  61],\n",
       "         [ 54,  54,  54],\n",
       "         [ 61,  61,  61],\n",
       "         ...,\n",
       "         [ 66,  66,  66],\n",
       "         [ 76,  76,  76],\n",
       "         [ 73,  73,  73]],\n",
       " \n",
       "        ...,\n",
       " \n",
       "        [[ 15,  15,  15],\n",
       "         [ 15,  15,  15],\n",
       "         [ 13,  13,  13],\n",
       "         ...,\n",
       "         [ 97,  97,  97],\n",
       "         [106, 106, 106],\n",
       "         [123, 123, 123]],\n",
       " \n",
       "        [[ 14,  14,  14],\n",
       "         [ 16,  16,  16],\n",
       "         [ 11,  11,  11],\n",
       "         ...,\n",
       "         [115, 115, 115],\n",
       "         [128, 128, 128],\n",
       "         [122, 122, 122]],\n",
       " \n",
       "        [[ 16,  16,  16],\n",
       "         [ 15,  15,  15],\n",
       "         [ 10,  10,  10],\n",
       "         ...,\n",
       "         [123, 123, 123],\n",
       "         [154, 154, 154],\n",
       "         [164, 164, 164]]], dtype=uint8)\n",
       " orig_shape: (682, 800)\n",
       " path: '/home/ec2-user/SageMaker/data/test/images/1_S1A_IW_GRDH_1SDV_20190127T140926_20190127T141001_025664_02D9BE_3A0F_Cal_ML_Spk_TC.png'\n",
       " probs: None\n",
       " save_dir: 'runs/detect/predict2'\n",
       " speed: {'preprocess': 2.4390220642089844, 'inference': 17.81749725341797, 'postprocess': 1.4884471893310547},\n",
       " ultralytics.engine.results.Results object with attributes:\n",
       " \n",
       " boxes: ultralytics.engine.results.Boxes object\n",
       " keypoints: None\n",
       " masks: None\n",
       " names: {0: 'eddy', 1: 'non-eddy'}\n",
       " obb: None\n",
       " orig_img: array([[[ 63,  63,  63],\n",
       "         [ 67,  67,  67],\n",
       "         [ 54,  54,  54],\n",
       "         ...,\n",
       "         [162, 162, 162],\n",
       "         [161, 161, 161],\n",
       "         [134, 134, 134]],\n",
       " \n",
       "        [[ 62,  62,  62],\n",
       "         [ 60,  60,  60],\n",
       "         [ 58,  58,  58],\n",
       "         ...,\n",
       "         [134, 134, 134],\n",
       "         [136, 136, 136],\n",
       "         [136, 136, 136]],\n",
       " \n",
       "        [[ 69,  69,  69],\n",
       "         [ 67,  67,  67],\n",
       "         [ 61,  61,  61],\n",
       "         ...,\n",
       "         [130, 130, 130],\n",
       "         [120, 120, 120],\n",
       "         [125, 125, 125]],\n",
       " \n",
       "        ...,\n",
       " \n",
       "        [[ 58,  58,  58],\n",
       "         [ 56,  56,  56],\n",
       "         [ 70,  70,  70],\n",
       "         ...,\n",
       "         [ 77,  77,  77],\n",
       "         [ 64,  64,  64],\n",
       "         [ 62,  62,  62]],\n",
       " \n",
       "        [[ 44,  44,  44],\n",
       "         [ 41,  41,  41],\n",
       "         [ 61,  61,  61],\n",
       "         ...,\n",
       "         [ 80,  80,  80],\n",
       "         [ 50,  50,  50],\n",
       "         [ 62,  62,  62]],\n",
       " \n",
       "        [[ 43,  43,  43],\n",
       "         [ 43,  43,  43],\n",
       "         [ 45,  45,  45],\n",
       "         ...,\n",
       "         [ 65,  65,  65],\n",
       "         [ 55,  55,  55],\n",
       "         [ 60,  60,  60]]], dtype=uint8)\n",
       " orig_shape: (675, 802)\n",
       " path: '/home/ec2-user/SageMaker/data/test/images/1_S1A_IW_GRDH_1SDV_20190129T135245_20190129T135310_025693_02DACF_C27C_Cal_ML_Spk_TC.png'\n",
       " probs: None\n",
       " save_dir: 'runs/detect/predict2'\n",
       " speed: {'preprocess': 2.360105514526367, 'inference': 17.947673797607422, 'postprocess': 1.4805793762207031},\n",
       " ultralytics.engine.results.Results object with attributes:\n",
       " \n",
       " boxes: ultralytics.engine.results.Boxes object\n",
       " keypoints: None\n",
       " masks: None\n",
       " names: {0: 'eddy', 1: 'non-eddy'}\n",
       " obb: None\n",
       " orig_img: array([[[ 84,  84,  84],\n",
       "         [103, 103, 103],\n",
       "         [110, 110, 110],\n",
       "         ...,\n",
       "         [ 76,  76,  76],\n",
       "         [ 87,  87,  87],\n",
       "         [ 88,  88,  88]],\n",
       " \n",
       "        [[ 89,  89,  89],\n",
       "         [ 91,  91,  91],\n",
       "         [ 83,  83,  83],\n",
       "         ...,\n",
       "         [ 64,  64,  64],\n",
       "         [ 78,  78,  78],\n",
       "         [ 67,  67,  67]],\n",
       " \n",
       "        [[ 85,  85,  85],\n",
       "         [ 89,  89,  89],\n",
       "         [ 82,  82,  82],\n",
       "         ...,\n",
       "         [ 53,  53,  53],\n",
       "         [ 60,  60,  60],\n",
       "         [ 62,  62,  62]],\n",
       " \n",
       "        ...,\n",
       " \n",
       "        [[152, 152, 152],\n",
       "         [158, 158, 158],\n",
       "         [165, 165, 165],\n",
       "         ...,\n",
       "         [ 48,  48,  48],\n",
       "         [ 50,  50,  50],\n",
       "         [ 53,  53,  53]],\n",
       " \n",
       "        [[150, 150, 150],\n",
       "         [143, 143, 143],\n",
       "         [154, 154, 154],\n",
       "         ...,\n",
       "         [ 41,  41,  41],\n",
       "         [ 41,  41,  41],\n",
       "         [ 52,  52,  52]],\n",
       " \n",
       "        [[148, 148, 148],\n",
       "         [146, 146, 146],\n",
       "         [165, 165, 165],\n",
       "         ...,\n",
       "         [ 34,  34,  34],\n",
       "         [ 36,  36,  36],\n",
       "         [ 50,  50,  50]]], dtype=uint8)\n",
       " orig_shape: (686, 795)\n",
       " path: '/home/ec2-user/SageMaker/data/test/images/1_S1A_IW_GRDH_1SDV_20190227T140135_20190227T140200_026116_02E9E7_4341.png'\n",
       " probs: None\n",
       " save_dir: 'runs/detect/predict2'\n",
       " speed: {'preprocess': 2.4580955505371094, 'inference': 17.92287826538086, 'postprocess': 0.6785392761230469},\n",
       " ultralytics.engine.results.Results object with attributes:\n",
       " \n",
       " boxes: ultralytics.engine.results.Boxes object\n",
       " keypoints: None\n",
       " masks: None\n",
       " names: {0: 'eddy', 1: 'non-eddy'}\n",
       " obb: None\n",
       " orig_img: array([[[ 35,  35,  35],\n",
       "         [ 45,  45,  45],\n",
       "         [ 52,  52,  52],\n",
       "         ...,\n",
       "         [155, 155, 155],\n",
       "         [150, 150, 150],\n",
       "         [142, 142, 142]],\n",
       " \n",
       "        [[ 37,  37,  37],\n",
       "         [ 51,  51,  51],\n",
       "         [ 50,  50,  50],\n",
       "         ...,\n",
       "         [133, 133, 133],\n",
       "         [131, 131, 131],\n",
       "         [147, 147, 147]],\n",
       " \n",
       "        [[ 41,  41,  41],\n",
       "         [ 47,  47,  47],\n",
       "         [ 43,  43,  43],\n",
       "         ...,\n",
       "         [161, 161, 161],\n",
       "         [142, 142, 142],\n",
       "         [125, 125, 125]],\n",
       " \n",
       "        ...,\n",
       " \n",
       "        [[ 64,  64,  64],\n",
       "         [ 67,  67,  67],\n",
       "         [ 58,  58,  58],\n",
       "         ...,\n",
       "         [170, 170, 170],\n",
       "         [158, 158, 158],\n",
       "         [194, 194, 194]],\n",
       " \n",
       "        [[ 62,  62,  62],\n",
       "         [ 59,  59,  59],\n",
       "         [ 53,  53,  53],\n",
       "         ...,\n",
       "         [167, 167, 167],\n",
       "         [155, 155, 155],\n",
       "         [175, 175, 175]],\n",
       " \n",
       "        [[ 54,  54,  54],\n",
       "         [ 64,  64,  64],\n",
       "         [ 53,  53,  53],\n",
       "         ...,\n",
       "         [130, 130, 130],\n",
       "         [141, 141, 141],\n",
       "         [147, 147, 147]]], dtype=uint8)\n",
       " orig_shape: (677, 727)\n",
       " path: '/home/ec2-user/SageMaker/data/test/images/1_S1A_IW_GRDH_1SDV_20190305T131419_20190305T131444_026203_02ED0A_BDB2.png'\n",
       " probs: None\n",
       " save_dir: 'runs/detect/predict2'\n",
       " speed: {'preprocess': 2.672433853149414, 'inference': 124.8936653137207, 'postprocess': 1.5516281127929688},\n",
       " ultralytics.engine.results.Results object with attributes:\n",
       " \n",
       " boxes: ultralytics.engine.results.Boxes object\n",
       " keypoints: None\n",
       " masks: None\n",
       " names: {0: 'eddy', 1: 'non-eddy'}\n",
       " obb: None\n",
       " orig_img: array([[[ 69,  69,  69],\n",
       "         [ 71,  71,  71],\n",
       "         [ 75,  75,  75],\n",
       "         ...,\n",
       "         [ 61,  61,  61],\n",
       "         [ 56,  56,  56],\n",
       "         [ 55,  55,  55]],\n",
       " \n",
       "        [[ 51,  51,  51],\n",
       "         [ 55,  55,  55],\n",
       "         [ 59,  59,  59],\n",
       "         ...,\n",
       "         [ 62,  62,  62],\n",
       "         [ 58,  58,  58],\n",
       "         [ 66,  66,  66]],\n",
       " \n",
       "        [[ 37,  37,  37],\n",
       "         [ 45,  45,  45],\n",
       "         [ 43,  43,  43],\n",
       "         ...,\n",
       "         [ 72,  72,  72],\n",
       "         [ 64,  64,  64],\n",
       "         [ 73,  73,  73]],\n",
       " \n",
       "        ...,\n",
       " \n",
       "        [[ 77,  77,  77],\n",
       "         [ 79,  79,  79],\n",
       "         [ 75,  75,  75],\n",
       "         ...,\n",
       "         [ 54,  54,  54],\n",
       "         [ 56,  56,  56],\n",
       "         [ 52,  52,  52]],\n",
       " \n",
       "        [[ 91,  91,  91],\n",
       "         [ 77,  77,  77],\n",
       "         [ 71,  71,  71],\n",
       "         ...,\n",
       "         [ 52,  52,  52],\n",
       "         [ 52,  52,  52],\n",
       "         [ 61,  61,  61]],\n",
       " \n",
       "        [[107, 107, 107],\n",
       "         [ 66,  66,  66],\n",
       "         [ 62,  62,  62],\n",
       "         ...,\n",
       "         [ 45,  45,  45],\n",
       "         [ 50,  50,  50],\n",
       "         [ 64,  64,  64]]], dtype=uint8)\n",
       " orig_shape: (848, 684)\n",
       " path: '/home/ec2-user/SageMaker/data/test/images/270_4_S1A_IW_GRDH_1SDV_20190326T142435_20190326T142500_026510_02F845_6C7C.png'\n",
       " probs: None\n",
       " save_dir: 'runs/detect/predict2'\n",
       " speed: {'preprocess': 2.6450157165527344, 'inference': 120.84603309631348, 'postprocess': 1.5254020690917969},\n",
       " ultralytics.engine.results.Results object with attributes:\n",
       " \n",
       " boxes: ultralytics.engine.results.Boxes object\n",
       " keypoints: None\n",
       " masks: None\n",
       " names: {0: 'eddy', 1: 'non-eddy'}\n",
       " obb: None\n",
       " orig_img: array([[[19, 19, 19],\n",
       "         [20, 20, 20],\n",
       "         [20, 20, 20],\n",
       "         ...,\n",
       "         [ 9,  9,  9],\n",
       "         [10, 10, 10],\n",
       "         [ 9,  9,  9]],\n",
       " \n",
       "        [[20, 20, 20],\n",
       "         [21, 21, 21],\n",
       "         [22, 22, 22],\n",
       "         ...,\n",
       "         [ 9,  9,  9],\n",
       "         [ 9,  9,  9],\n",
       "         [10, 10, 10]],\n",
       " \n",
       "        [[21, 21, 21],\n",
       "         [21, 21, 21],\n",
       "         [23, 23, 23],\n",
       "         ...,\n",
       "         [ 9,  9,  9],\n",
       "         [ 9,  9,  9],\n",
       "         [ 9,  9,  9]],\n",
       " \n",
       "        ...,\n",
       " \n",
       "        [[ 5,  5,  5],\n",
       "         [ 7,  7,  7],\n",
       "         [10, 10, 10],\n",
       "         ...,\n",
       "         [16, 16, 16],\n",
       "         [15, 15, 15],\n",
       "         [14, 14, 14]],\n",
       " \n",
       "        [[ 5,  5,  5],\n",
       "         [ 7,  7,  7],\n",
       "         [ 8,  8,  8],\n",
       "         ...,\n",
       "         [15, 15, 15],\n",
       "         [15, 15, 15],\n",
       "         [15, 15, 15]],\n",
       " \n",
       "        [[ 6,  6,  6],\n",
       "         [ 8,  8,  8],\n",
       "         [ 7,  7,  7],\n",
       "         ...,\n",
       "         [15, 15, 15],\n",
       "         [15, 15, 15],\n",
       "         [15, 15, 15]]], dtype=uint8)\n",
       " orig_shape: (824, 689)\n",
       " path: '/home/ec2-user/SageMaker/data/test/images/270_4_S1B_IW_GRDH_1SDV_20190104T015724_20190104T015753_014338_01AADC_E94F.png'\n",
       " probs: None\n",
       " save_dir: 'runs/detect/predict2'\n",
       " speed: {'preprocess': 2.5229454040527344, 'inference': 17.611265182495117, 'postprocess': 1.5385150909423828},\n",
       " ultralytics.engine.results.Results object with attributes:\n",
       " \n",
       " boxes: ultralytics.engine.results.Boxes object\n",
       " keypoints: None\n",
       " masks: None\n",
       " names: {0: 'eddy', 1: 'non-eddy'}\n",
       " obb: None\n",
       " orig_img: array([[[ 46,  46,  46],\n",
       "         [ 49,  49,  49],\n",
       "         [ 51,  51,  51],\n",
       "         ...,\n",
       "         [ 66,  66,  66],\n",
       "         [ 53,  53,  53],\n",
       "         [ 45,  45,  45]],\n",
       " \n",
       "        [[ 44,  44,  44],\n",
       "         [ 50,  50,  50],\n",
       "         [ 56,  56,  56],\n",
       "         ...,\n",
       "         [ 98,  98,  98],\n",
       "         [ 65,  65,  65],\n",
       "         [ 48,  48,  48]],\n",
       " \n",
       "        [[ 43,  43,  43],\n",
       "         [ 58,  58,  58],\n",
       "         [ 66,  66,  66],\n",
       "         ...,\n",
       "         [117, 117, 117],\n",
       "         [ 60,  60,  60],\n",
       "         [ 39,  39,  39]],\n",
       " \n",
       "        ...,\n",
       " \n",
       "        [[ 17,  17,  17],\n",
       "         [ 14,  14,  14],\n",
       "         [ 16,  16,  16],\n",
       "         ...,\n",
       "         [ 79,  79,  79],\n",
       "         [ 82,  82,  82],\n",
       "         [ 86,  86,  86]],\n",
       " \n",
       "        [[ 17,  17,  17],\n",
       "         [ 13,  13,  13],\n",
       "         [ 19,  19,  19],\n",
       "         ...,\n",
       "         [ 76,  76,  76],\n",
       "         [ 69,  69,  69],\n",
       "         [ 79,  79,  79]],\n",
       " \n",
       "        [[ 21,  21,  21],\n",
       "         [ 15,  15,  15],\n",
       "         [ 22,  22,  22],\n",
       "         ...,\n",
       "         [ 63,  63,  63],\n",
       "         [ 62,  62,  62],\n",
       "         [108, 108, 108]]], dtype=uint8)\n",
       " orig_shape: (839, 681)\n",
       " path: '/home/ec2-user/SageMaker/data/test/images/270_5_S1A_IW_GRDH_1SDV_20181208T142437_20181208T142502_024935_02BF4E_5668.png'\n",
       " probs: None\n",
       " save_dir: 'runs/detect/predict2'\n",
       " speed: {'preprocess': 2.41851806640625, 'inference': 17.663002014160156, 'postprocess': 1.5137195587158203},\n",
       " ultralytics.engine.results.Results object with attributes:\n",
       " \n",
       " boxes: ultralytics.engine.results.Boxes object\n",
       " keypoints: None\n",
       " masks: None\n",
       " names: {0: 'eddy', 1: 'non-eddy'}\n",
       " obb: None\n",
       " orig_img: array([[[ 77,  77,  77],\n",
       "         [ 91,  91,  91],\n",
       "         [ 96,  96,  96],\n",
       "         ...,\n",
       "         [ 23,  23,  23],\n",
       "         [ 34,  34,  34],\n",
       "         [ 42,  42,  42]],\n",
       " \n",
       "        [[ 67,  67,  67],\n",
       "         [ 83,  83,  83],\n",
       "         [ 90,  90,  90],\n",
       "         ...,\n",
       "         [ 15,  15,  15],\n",
       "         [ 19,  19,  19],\n",
       "         [ 36,  36,  36]],\n",
       " \n",
       "        [[ 60,  60,  60],\n",
       "         [ 69,  69,  69],\n",
       "         [ 74,  74,  74],\n",
       "         ...,\n",
       "         [ 12,  12,  12],\n",
       "         [ 13,  13,  13],\n",
       "         [ 33,  33,  33]],\n",
       " \n",
       "        ...,\n",
       " \n",
       "        [[117, 117, 117],\n",
       "         [138, 138, 138],\n",
       "         [167, 167, 167],\n",
       "         ...,\n",
       "         [104, 104, 104],\n",
       "         [109, 109, 109],\n",
       "         [117, 117, 117]],\n",
       " \n",
       "        [[108, 108, 108],\n",
       "         [117, 117, 117],\n",
       "         [134, 134, 134],\n",
       "         ...,\n",
       "         [120, 120, 120],\n",
       "         [119, 119, 119],\n",
       "         [121, 121, 121]],\n",
       " \n",
       "        [[116, 116, 116],\n",
       "         [ 97,  97,  97],\n",
       "         [105, 105, 105],\n",
       "         ...,\n",
       "         [140, 140, 140],\n",
       "         [138, 138, 138],\n",
       "         [125, 125, 125]]], dtype=uint8)\n",
       " orig_shape: (818, 679)\n",
       " path: '/home/ec2-user/SageMaker/data/test/images/270_5_S1A_IW_GRDH_1SDV_20190127T140836_20190127T140901_025664_02D9BE_F63E_Cal_ML_Spk_TC.png'\n",
       " probs: None\n",
       " save_dir: 'runs/detect/predict2'\n",
       " speed: {'preprocess': 2.4213790893554688, 'inference': 17.66371726989746, 'postprocess': 1.5494823455810547},\n",
       " ultralytics.engine.results.Results object with attributes:\n",
       " \n",
       " boxes: ultralytics.engine.results.Boxes object\n",
       " keypoints: None\n",
       " masks: None\n",
       " names: {0: 'eddy', 1: 'non-eddy'}\n",
       " obb: None\n",
       " orig_img: array([[[10, 10, 10],\n",
       "         [ 8,  8,  8],\n",
       "         [10, 10, 10],\n",
       "         ...,\n",
       "         [44, 44, 44],\n",
       "         [42, 42, 42],\n",
       "         [55, 55, 55]],\n",
       " \n",
       "        [[ 9,  9,  9],\n",
       "         [ 6,  6,  6],\n",
       "         [ 9,  9,  9],\n",
       "         ...,\n",
       "         [51, 51, 51],\n",
       "         [54, 54, 54],\n",
       "         [59, 59, 59]],\n",
       " \n",
       "        [[10, 10, 10],\n",
       "         [10, 10, 10],\n",
       "         [11, 11, 11],\n",
       "         ...,\n",
       "         [73, 73, 73],\n",
       "         [68, 68, 68],\n",
       "         [57, 57, 57]],\n",
       " \n",
       "        ...,\n",
       " \n",
       "        [[20, 20, 20],\n",
       "         [36, 36, 36],\n",
       "         [37, 37, 37],\n",
       "         ...,\n",
       "         [78, 78, 78],\n",
       "         [73, 73, 73],\n",
       "         [77, 77, 77]],\n",
       " \n",
       "        [[33, 33, 33],\n",
       "         [34, 34, 34],\n",
       "         [42, 42, 42],\n",
       "         ...,\n",
       "         [81, 81, 81],\n",
       "         [84, 84, 84],\n",
       "         [78, 78, 78]],\n",
       " \n",
       "        [[36, 36, 36],\n",
       "         [30, 30, 30],\n",
       "         [42, 42, 42],\n",
       "         ...,\n",
       "         [73, 73, 73],\n",
       "         [85, 85, 85],\n",
       "         [84, 84, 84]]], dtype=uint8)\n",
       " orig_shape: (792, 677)\n",
       " path: '/home/ec2-user/SageMaker/data/test/images/270_5_S1A_IW_GRDH_1SDV_20190127T140926_20190127T141001_025664_02D9BE_3A0F_Cal_ML_Spk_TC.png'\n",
       " probs: None\n",
       " save_dir: 'runs/detect/predict2'\n",
       " speed: {'preprocess': 2.4907588958740234, 'inference': 122.3592758178711, 'postprocess': 1.5223026275634766},\n",
       " ultralytics.engine.results.Results object with attributes:\n",
       " \n",
       " boxes: ultralytics.engine.results.Boxes object\n",
       " keypoints: None\n",
       " masks: None\n",
       " names: {0: 'eddy', 1: 'non-eddy'}\n",
       " obb: None\n",
       " orig_img: array([[[137, 137, 137],\n",
       "         [123, 123, 123],\n",
       "         [129, 129, 129],\n",
       "         ...,\n",
       "         [ 25,  25,  25],\n",
       "         [ 25,  25,  25],\n",
       "         [ 16,  16,  16]],\n",
       " \n",
       "        [[150, 150, 150],\n",
       "         [116, 116, 116],\n",
       "         [ 98,  98,  98],\n",
       "         ...,\n",
       "         [ 54,  54,  54],\n",
       "         [ 54,  54,  54],\n",
       "         [ 37,  37,  37]],\n",
       " \n",
       "        [[145, 145, 145],\n",
       "         [117, 117, 117],\n",
       "         [103, 103, 103],\n",
       "         ...,\n",
       "         [ 51,  51,  51],\n",
       "         [ 84,  84,  84],\n",
       "         [ 42,  42,  42]],\n",
       " \n",
       "        ...,\n",
       " \n",
       "        [[ 59,  59,  59],\n",
       "         [ 56,  56,  56],\n",
       "         [ 65,  65,  65],\n",
       "         ...,\n",
       "         [120, 120, 120],\n",
       "         [156, 156, 156],\n",
       "         [102, 102, 102]],\n",
       " \n",
       "        [[ 60,  60,  60],\n",
       "         [ 62,  62,  62],\n",
       "         [ 62,  62,  62],\n",
       "         ...,\n",
       "         [109, 109, 109],\n",
       "         [135, 135, 135],\n",
       "         [108, 108, 108]],\n",
       " \n",
       "        [[ 64,  64,  64],\n",
       "         [ 61,  61,  61],\n",
       "         [ 62,  62,  62],\n",
       "         ...,\n",
       "         [ 95,  95,  95],\n",
       "         [104, 104, 104],\n",
       "         [101, 101, 101]]], dtype=uint8)\n",
       " orig_shape: (791, 673)\n",
       " path: '/home/ec2-user/SageMaker/data/test/images/270_5_S1A_IW_GRDH_1SDV_20190129T135245_20190129T135310_025693_02DACF_C27C_Cal_ML_Spk_TC.png'\n",
       " probs: None\n",
       " save_dir: 'runs/detect/predict2'\n",
       " speed: {'preprocess': 2.5773048400878906, 'inference': 17.995595932006836, 'postprocess': 1.6217231750488281},\n",
       " ultralytics.engine.results.Results object with attributes:\n",
       " \n",
       " boxes: ultralytics.engine.results.Boxes object\n",
       " keypoints: None\n",
       " masks: None\n",
       " names: {0: 'eddy', 1: 'non-eddy'}\n",
       " obb: None\n",
       " orig_img: array([[[ 48,  48,  48],\n",
       "         [ 54,  54,  54],\n",
       "         [ 62,  62,  62],\n",
       "         ...,\n",
       "         [ 74,  74,  74],\n",
       "         [ 89,  89,  89],\n",
       "         [ 87,  87,  87]],\n",
       " \n",
       "        [[ 47,  47,  47],\n",
       "         [ 52,  52,  52],\n",
       "         [ 63,  63,  63],\n",
       "         ...,\n",
       "         [ 76,  76,  76],\n",
       "         [ 91,  91,  91],\n",
       "         [ 87,  87,  87]],\n",
       " \n",
       "        [[ 50,  50,  50],\n",
       "         [ 57,  57,  57],\n",
       "         [ 60,  60,  60],\n",
       "         ...,\n",
       "         [ 79,  79,  79],\n",
       "         [ 88,  88,  88],\n",
       "         [ 79,  79,  79]],\n",
       " \n",
       "        ...,\n",
       " \n",
       "        [[ 78,  78,  78],\n",
       "         [ 90,  90,  90],\n",
       "         [ 80,  80,  80],\n",
       "         ...,\n",
       "         [ 63,  63,  63],\n",
       "         [ 54,  54,  54],\n",
       "         [100, 100, 100]],\n",
       " \n",
       "        [[ 87,  87,  87],\n",
       "         [104, 104, 104],\n",
       "         [ 80,  80,  80],\n",
       "         ...,\n",
       "         [ 25,  25,  25],\n",
       "         [ 49,  49,  49],\n",
       "         [ 93,  93,  93]],\n",
       " \n",
       "        [[ 88,  88,  88],\n",
       "         [ 90,  90,  90],\n",
       "         [ 72,  72,  72],\n",
       "         ...,\n",
       "         [ 12,  12,  12],\n",
       "         [ 32,  32,  32],\n",
       "         [ 68,  68,  68]]], dtype=uint8)\n",
       " orig_shape: (804, 678)\n",
       " path: '/home/ec2-user/SageMaker/data/test/images/270_5_S1A_IW_GRDH_1SDV_20190318T135244_20190318T135309_026393_02F407_55EC.png'\n",
       " probs: None\n",
       " save_dir: 'runs/detect/predict2'\n",
       " speed: {'preprocess': 2.4061203002929688, 'inference': 18.798828125, 'postprocess': 1.4986991882324219},\n",
       " ultralytics.engine.results.Results object with attributes:\n",
       " \n",
       " boxes: ultralytics.engine.results.Boxes object\n",
       " keypoints: None\n",
       " masks: None\n",
       " names: {0: 'eddy', 1: 'non-eddy'}\n",
       " obb: None\n",
       " orig_img: array([[[79, 79, 79],\n",
       "         [83, 83, 83],\n",
       "         [84, 84, 84],\n",
       "         ...,\n",
       "         [59, 59, 59],\n",
       "         [78, 78, 78],\n",
       "         [50, 50, 50]],\n",
       " \n",
       "        [[76, 76, 76],\n",
       "         [82, 82, 82],\n",
       "         [87, 87, 87],\n",
       "         ...,\n",
       "         [60, 60, 60],\n",
       "         [61, 61, 61],\n",
       "         [46, 46, 46]],\n",
       " \n",
       "        [[73, 73, 73],\n",
       "         [68, 68, 68],\n",
       "         [70, 70, 70],\n",
       "         ...,\n",
       "         [57, 57, 57],\n",
       "         [54, 54, 54],\n",
       "         [51, 51, 51]],\n",
       " \n",
       "        ...,\n",
       " \n",
       "        [[16, 16, 16],\n",
       "         [22, 22, 22],\n",
       "         [33, 33, 33],\n",
       "         ...,\n",
       "         [83, 83, 83],\n",
       "         [59, 59, 59],\n",
       "         [62, 62, 62]],\n",
       " \n",
       "        [[26, 26, 26],\n",
       "         [26, 26, 26],\n",
       "         [31, 31, 31],\n",
       "         ...,\n",
       "         [89, 89, 89],\n",
       "         [66, 66, 66],\n",
       "         [63, 63, 63]],\n",
       " \n",
       "        [[23, 23, 23],\n",
       "         [22, 22, 22],\n",
       "         [23, 23, 23],\n",
       "         ...,\n",
       "         [79, 79, 79],\n",
       "         [70, 70, 70],\n",
       "         [69, 69, 69]]], dtype=uint8)\n",
       " orig_shape: (846, 684)\n",
       " path: '/home/ec2-user/SageMaker/data/test/images/270_5_S1A_IW_GRDH_1SDV_20190326T142435_20190326T142500_026510_02F845_6C7C.png'\n",
       " probs: None\n",
       " save_dir: 'runs/detect/predict2'\n",
       " speed: {'preprocess': 2.400636672973633, 'inference': 18.068552017211914, 'postprocess': 1.5022754669189453},\n",
       " ultralytics.engine.results.Results object with attributes:\n",
       " \n",
       " boxes: ultralytics.engine.results.Boxes object\n",
       " keypoints: None\n",
       " masks: None\n",
       " names: {0: 'eddy', 1: 'non-eddy'}\n",
       " obb: None\n",
       " orig_img: array([[[49, 49, 49],\n",
       "         [57, 57, 57],\n",
       "         [61, 61, 61],\n",
       "         ...,\n",
       "         [71, 71, 71],\n",
       "         [58, 58, 58],\n",
       "         [44, 44, 44]],\n",
       " \n",
       "        [[49, 49, 49],\n",
       "         [44, 44, 44],\n",
       "         [41, 41, 41],\n",
       "         ...,\n",
       "         [40, 40, 40],\n",
       "         [52, 52, 52],\n",
       "         [33, 33, 33]],\n",
       " \n",
       "        [[37, 37, 37],\n",
       "         [35, 35, 35],\n",
       "         [29, 29, 29],\n",
       "         ...,\n",
       "         [32, 32, 32],\n",
       "         [33, 33, 33],\n",
       "         [30, 30, 30]],\n",
       " \n",
       "        ...,\n",
       " \n",
       "        [[73, 73, 73],\n",
       "         [72, 72, 72],\n",
       "         [76, 76, 76],\n",
       "         ...,\n",
       "         [78, 78, 78],\n",
       "         [65, 65, 65],\n",
       "         [64, 64, 64]],\n",
       " \n",
       "        [[72, 72, 72],\n",
       "         [66, 66, 66],\n",
       "         [61, 61, 61],\n",
       "         ...,\n",
       "         [66, 66, 66],\n",
       "         [58, 58, 58],\n",
       "         [59, 59, 59]],\n",
       " \n",
       "        [[76, 76, 76],\n",
       "         [70, 70, 70],\n",
       "         [64, 64, 64],\n",
       "         ...,\n",
       "         [62, 62, 62],\n",
       "         [58, 58, 58],\n",
       "         [63, 63, 63]]], dtype=uint8)\n",
       " orig_shape: (822, 687)\n",
       " path: '/home/ec2-user/SageMaker/data/test/images/270_5_S1B_IW_GRDH_1SDV_20190104T015724_20190104T015753_014338_01AADC_E94F.png'\n",
       " probs: None\n",
       " save_dir: 'runs/detect/predict2'\n",
       " speed: {'preprocess': 2.462625503540039, 'inference': 18.038034439086914, 'postprocess': 0.6759166717529297},\n",
       " ultralytics.engine.results.Results object with attributes:\n",
       " \n",
       " boxes: ultralytics.engine.results.Boxes object\n",
       " keypoints: None\n",
       " masks: None\n",
       " names: {0: 'eddy', 1: 'non-eddy'}\n",
       " obb: None\n",
       " orig_img: array([[[ 67,  67,  67],\n",
       "         [ 66,  66,  66],\n",
       "         [ 65,  65,  65],\n",
       "         ...,\n",
       "         [100, 100, 100],\n",
       "         [ 97,  97,  97],\n",
       "         [ 96,  96,  96]],\n",
       " \n",
       "        [[ 71,  71,  71],\n",
       "         [ 66,  66,  66],\n",
       "         [ 64,  64,  64],\n",
       "         ...,\n",
       "         [101, 101, 101],\n",
       "         [ 94,  94,  94],\n",
       "         [ 98,  98,  98]],\n",
       " \n",
       "        [[ 67,  67,  67],\n",
       "         [ 66,  66,  66],\n",
       "         [ 65,  65,  65],\n",
       "         ...,\n",
       "         [ 99,  99,  99],\n",
       "         [ 93,  93,  93],\n",
       "         [ 99,  99,  99]],\n",
       " \n",
       "        ...,\n",
       " \n",
       "        [[  0,   0,   0],\n",
       "         [  0,   0,   0],\n",
       "         [  0,   0,   0],\n",
       "         ...,\n",
       "         [ 71,  71,  71],\n",
       "         [ 69,  69,  69],\n",
       "         [ 66,  66,  66]],\n",
       " \n",
       "        [[  0,   0,   0],\n",
       "         [  0,   0,   0],\n",
       "         [  0,   0,   0],\n",
       "         ...,\n",
       "         [ 70,  70,  70],\n",
       "         [ 72,  72,  72],\n",
       "         [ 62,  62,  62]],\n",
       " \n",
       "        [[  0,   0,   0],\n",
       "         [  0,   0,   0],\n",
       "         [  0,   0,   0],\n",
       "         ...,\n",
       "         [ 68,  68,  68],\n",
       "         [ 77,  77,  77],\n",
       "         [ 68,  68,  68]]], dtype=uint8)\n",
       " orig_shape: (806, 682)\n",
       " path: '/home/ec2-user/SageMaker/data/test/images/270_5_S1B_IW_GRDH_1SDV_20190128T015724_20190128T015753_014688_01B61C_21F1_Cal_ML_Spk_TC.png'\n",
       " probs: None\n",
       " save_dir: 'runs/detect/predict2'\n",
       " speed: {'preprocess': 2.4034976959228516, 'inference': 18.025875091552734, 'postprocess': 1.5132427215576172},\n",
       " ultralytics.engine.results.Results object with attributes:\n",
       " \n",
       " boxes: ultralytics.engine.results.Boxes object\n",
       " keypoints: None\n",
       " masks: None\n",
       " names: {0: 'eddy', 1: 'non-eddy'}\n",
       " obb: None\n",
       " orig_img: array([[[ 96,  96,  96],\n",
       "         [ 84,  84,  84],\n",
       "         [ 89,  89,  89],\n",
       "         ...,\n",
       "         [ 92,  92,  92],\n",
       "         [ 74,  74,  74],\n",
       "         [ 86,  86,  86]],\n",
       " \n",
       "        [[ 88,  88,  88],\n",
       "         [ 91,  91,  91],\n",
       "         [ 91,  91,  91],\n",
       "         ...,\n",
       "         [116, 116, 116],\n",
       "         [ 83,  83,  83],\n",
       "         [ 89,  89,  89]],\n",
       " \n",
       "        [[ 92,  92,  92],\n",
       "         [111, 111, 111],\n",
       "         [ 88,  88,  88],\n",
       "         ...,\n",
       "         [106, 106, 106],\n",
       "         [ 96,  96,  96],\n",
       "         [ 98,  98,  98]],\n",
       " \n",
       "        ...,\n",
       " \n",
       "        [[ 69,  69,  69],\n",
       "         [ 83,  83,  83],\n",
       "         [ 83,  83,  83],\n",
       "         ...,\n",
       "         [ 87,  87,  87],\n",
       "         [ 89,  89,  89],\n",
       "         [101, 101, 101]],\n",
       " \n",
       "        [[ 69,  69,  69],\n",
       "         [ 61,  61,  61],\n",
       "         [ 69,  69,  69],\n",
       "         ...,\n",
       "         [ 80,  80,  80],\n",
       "         [ 77,  77,  77],\n",
       "         [ 90,  90,  90]],\n",
       " \n",
       "        [[ 70,  70,  70],\n",
       "         [ 67,  67,  67],\n",
       "         [ 64,  64,  64],\n",
       "         ...,\n",
       "         [ 82,  82,  82],\n",
       "         [ 77,  77,  77],\n",
       "         [ 85,  85,  85]]], dtype=uint8)\n",
       " orig_shape: (844, 685)\n",
       " path: '/home/ec2-user/SageMaker/data/test/images/270_6_S1A_IW_GRDH_1SDV_20181208T142437_20181208T142502_024935_02BF4E_5668.png'\n",
       " probs: None\n",
       " save_dir: 'runs/detect/predict2'\n",
       " speed: {'preprocess': 2.450704574584961, 'inference': 18.0666446685791, 'postprocess': 1.5430450439453125},\n",
       " ultralytics.engine.results.Results object with attributes:\n",
       " \n",
       " boxes: ultralytics.engine.results.Boxes object\n",
       " keypoints: None\n",
       " masks: None\n",
       " names: {0: 'eddy', 1: 'non-eddy'}\n",
       " obb: None\n",
       " orig_img: array([[[102, 102, 102],\n",
       "         [119, 119, 119],\n",
       "         [106, 106, 106],\n",
       "         ...,\n",
       "         [108, 108, 108],\n",
       "         [108, 108, 108],\n",
       "         [109, 109, 109]],\n",
       " \n",
       "        [[117, 117, 117],\n",
       "         [ 97,  97,  97],\n",
       "         [ 87,  87,  87],\n",
       "         ...,\n",
       "         [114, 114, 114],\n",
       "         [121, 121, 121],\n",
       "         [108, 108, 108]],\n",
       " \n",
       "        [[114, 114, 114],\n",
       "         [ 79,  79,  79],\n",
       "         [ 74,  74,  74],\n",
       "         ...,\n",
       "         [113, 113, 113],\n",
       "         [114, 114, 114],\n",
       "         [ 93,  93,  93]],\n",
       " \n",
       "        ...,\n",
       " \n",
       "        [[ 76,  76,  76],\n",
       "         [ 80,  80,  80],\n",
       "         [ 81,  81,  81],\n",
       "         ...,\n",
       "         [151, 151, 151],\n",
       "         [151, 151, 151],\n",
       "         [154, 154, 154]],\n",
       " \n",
       "        [[ 68,  68,  68],\n",
       "         [ 76,  76,  76],\n",
       "         [ 77,  77,  77],\n",
       "         ...,\n",
       "         [157, 157, 157],\n",
       "         [149, 149, 149],\n",
       "         [157, 157, 157]],\n",
       " \n",
       "        [[ 79,  79,  79],\n",
       "         [ 84,  84,  84],\n",
       "         [ 72,  72,  72],\n",
       "         ...,\n",
       "         [155, 155, 155],\n",
       "         [153, 153, 153],\n",
       "         [158, 158, 158]]], dtype=uint8)\n",
       " orig_shape: (678, 805)\n",
       " path: '/home/ec2-user/SageMaker/data/test/images/6_S1A_IW_GRDH_1SDV_20190318T135244_20190318T135309_026393_02F407_55EC.png'\n",
       " probs: None\n",
       " save_dir: 'runs/detect/predict2'\n",
       " speed: {'preprocess': 2.415895462036133, 'inference': 19.039392471313477, 'postprocess': 1.5206336975097656},\n",
       " ultralytics.engine.results.Results object with attributes:\n",
       " \n",
       " boxes: ultralytics.engine.results.Boxes object\n",
       " keypoints: None\n",
       " masks: None\n",
       " names: {0: 'eddy', 1: 'non-eddy'}\n",
       " obb: None\n",
       " orig_img: array([[[ 9,  9,  9],\n",
       "         [12, 12, 12],\n",
       "         [15, 15, 15],\n",
       "         ...,\n",
       "         [10, 10, 10],\n",
       "         [ 8,  8,  8],\n",
       "         [10, 10, 10]],\n",
       " \n",
       "        [[11, 11, 11],\n",
       "         [10, 10, 10],\n",
       "         [14, 14, 14],\n",
       "         ...,\n",
       "         [10, 10, 10],\n",
       "         [ 9,  9,  9],\n",
       "         [11, 11, 11]],\n",
       " \n",
       "        [[15, 15, 15],\n",
       "         [ 9,  9,  9],\n",
       "         [11, 11, 11],\n",
       "         ...,\n",
       "         [16, 16, 16],\n",
       "         [16, 16, 16],\n",
       "         [14, 14, 14]],\n",
       " \n",
       "        ...,\n",
       " \n",
       "        [[49, 49, 49],\n",
       "         [38, 38, 38],\n",
       "         [45, 45, 45],\n",
       "         ...,\n",
       "         [65, 65, 65],\n",
       "         [64, 64, 64],\n",
       "         [75, 75, 75]],\n",
       " \n",
       "        [[54, 54, 54],\n",
       "         [54, 54, 54],\n",
       "         [55, 55, 55],\n",
       "         ...,\n",
       "         [56, 56, 56],\n",
       "         [55, 55, 55],\n",
       "         [58, 58, 58]],\n",
       " \n",
       "        [[52, 52, 52],\n",
       "         [66, 66, 66],\n",
       "         [75, 75, 75],\n",
       "         ...,\n",
       "         [55, 55, 55],\n",
       "         [47, 47, 47],\n",
       "         [48, 48, 48]]], dtype=uint8)\n",
       " orig_shape: (687, 818)\n",
       " path: '/home/ec2-user/SageMaker/data/test/images/6_S1B_IW_GRDH_1SDV_20190104T015724_20190104T015753_014338_01AADC_E94F.png'\n",
       " probs: None\n",
       " save_dir: 'runs/detect/predict2'\n",
       " speed: {'preprocess': 2.4590492248535156, 'inference': 18.230915069580078, 'postprocess': 1.527547836303711},\n",
       " ultralytics.engine.results.Results object with attributes:\n",
       " \n",
       " boxes: ultralytics.engine.results.Boxes object\n",
       " keypoints: None\n",
       " masks: None\n",
       " names: {0: 'eddy', 1: 'non-eddy'}\n",
       " obb: None\n",
       " orig_img: array([[[ 68,  68,  68],\n",
       "         [ 72,  72,  72],\n",
       "         [ 89,  89,  89],\n",
       "         ...,\n",
       "         [ 79,  79,  79],\n",
       "         [ 87,  87,  87],\n",
       "         [ 89,  89,  89]],\n",
       " \n",
       "        [[ 69,  69,  69],\n",
       "         [ 71,  71,  71],\n",
       "         [ 85,  85,  85],\n",
       "         ...,\n",
       "         [122, 122, 122],\n",
       "         [ 99,  99,  99],\n",
       "         [ 80,  80,  80]],\n",
       " \n",
       "        [[ 67,  67,  67],\n",
       "         [ 70,  70,  70],\n",
       "         [ 97,  97,  97],\n",
       "         ...,\n",
       "         [ 95,  95,  95],\n",
       "         [ 84,  84,  84],\n",
       "         [ 73,  73,  73]],\n",
       " \n",
       "        ...,\n",
       " \n",
       "        [[ 87,  87,  87],\n",
       "         [ 84,  84,  84],\n",
       "         [ 92,  92,  92],\n",
       "         ...,\n",
       "         [ 96,  96,  96],\n",
       "         [ 80,  80,  80],\n",
       "         [ 84,  84,  84]],\n",
       " \n",
       "        [[ 90,  90,  90],\n",
       "         [ 80,  80,  80],\n",
       "         [ 80,  80,  80],\n",
       "         ...,\n",
       "         [112, 112, 112],\n",
       "         [ 87,  87,  87],\n",
       "         [ 76,  76,  76]],\n",
       " \n",
       "        [[106, 106, 106],\n",
       "         [105, 105, 105],\n",
       "         [ 77,  77,  77],\n",
       "         ...,\n",
       "         [ 99,  99,  99],\n",
       "         [ 91,  91,  91],\n",
       "         [ 83,  83,  83]]], dtype=uint8)\n",
       " orig_shape: (685, 844)\n",
       " path: '/home/ec2-user/SageMaker/data/test/images/7_S1A_IW_GRDH_1SDV_20181208T142437_20181208T142502_024935_02BF4E_5668.png'\n",
       " probs: None\n",
       " save_dir: 'runs/detect/predict2'\n",
       " speed: {'preprocess': 2.424478530883789, 'inference': 17.90761947631836, 'postprocess': 1.5337467193603516},\n",
       " ultralytics.engine.results.Results object with attributes:\n",
       " \n",
       " boxes: ultralytics.engine.results.Boxes object\n",
       " keypoints: None\n",
       " masks: None\n",
       " names: {0: 'eddy', 1: 'non-eddy'}\n",
       " obb: None\n",
       " orig_img: array([[[56, 56, 56],\n",
       "         [55, 55, 55],\n",
       "         [52, 52, 52],\n",
       "         ...,\n",
       "         [66, 66, 66],\n",
       "         [48, 48, 48],\n",
       "         [49, 49, 49]],\n",
       " \n",
       "        [[72, 72, 72],\n",
       "         [61, 61, 61],\n",
       "         [46, 46, 46],\n",
       "         ...,\n",
       "         [62, 62, 62],\n",
       "         [58, 58, 58],\n",
       "         [53, 53, 53]],\n",
       " \n",
       "        [[70, 70, 70],\n",
       "         [57, 57, 57],\n",
       "         [51, 51, 51],\n",
       "         ...,\n",
       "         [47, 47, 47],\n",
       "         [52, 52, 52],\n",
       "         [60, 60, 60]],\n",
       " \n",
       "        ...,\n",
       " \n",
       "        [[86, 86, 86],\n",
       "         [81, 81, 81],\n",
       "         [79, 79, 79],\n",
       "         ...,\n",
       "         [46, 46, 46],\n",
       "         [50, 50, 50],\n",
       "         [49, 49, 49]],\n",
       " \n",
       "        [[83, 83, 83],\n",
       "         [69, 69, 69],\n",
       "         [68, 68, 68],\n",
       "         ...,\n",
       "         [48, 48, 48],\n",
       "         [47, 47, 47],\n",
       "         [48, 48, 48]],\n",
       " \n",
       "        [[85, 85, 85],\n",
       "         [83, 83, 83],\n",
       "         [84, 84, 84],\n",
       "         ...,\n",
       "         [60, 60, 60],\n",
       "         [59, 59, 59],\n",
       "         [70, 70, 70]]], dtype=uint8)\n",
       " orig_shape: (684, 822)\n",
       " path: '/home/ec2-user/SageMaker/data/test/images/7_S1A_IW_GRDH_1SDV_20190127T140836_20190127T140901_025664_02D9BE_F63E_Cal_ML_Spk_TC.png'\n",
       " probs: None\n",
       " save_dir: 'runs/detect/predict2'\n",
       " speed: {'preprocess': 2.450704574584961, 'inference': 17.913818359375, 'postprocess': 0.7061958312988281},\n",
       " ultralytics.engine.results.Results object with attributes:\n",
       " \n",
       " boxes: ultralytics.engine.results.Boxes object\n",
       " keypoints: None\n",
       " masks: None\n",
       " names: {0: 'eddy', 1: 'non-eddy'}\n",
       " obb: None\n",
       " orig_img: array([[[90, 90, 90],\n",
       "         [92, 92, 92],\n",
       "         [77, 77, 77],\n",
       "         ...,\n",
       "         [51, 51, 51],\n",
       "         [50, 50, 50],\n",
       "         [52, 52, 52]],\n",
       " \n",
       "        [[66, 66, 66],\n",
       "         [78, 78, 78],\n",
       "         [71, 71, 71],\n",
       "         ...,\n",
       "         [57, 57, 57],\n",
       "         [61, 61, 61],\n",
       "         [50, 50, 50]],\n",
       " \n",
       "        [[88, 88, 88],\n",
       "         [89, 89, 89],\n",
       "         [75, 75, 75],\n",
       "         ...,\n",
       "         [47, 47, 47],\n",
       "         [50, 50, 50],\n",
       "         [50, 50, 50]],\n",
       " \n",
       "        ...,\n",
       " \n",
       "        [[53, 53, 53],\n",
       "         [46, 46, 46],\n",
       "         [47, 47, 47],\n",
       "         ...,\n",
       "         [66, 66, 66],\n",
       "         [55, 55, 55],\n",
       "         [52, 52, 52]],\n",
       " \n",
       "        [[43, 43, 43],\n",
       "         [49, 49, 49],\n",
       "         [49, 49, 49],\n",
       "         ...,\n",
       "         [56, 56, 56],\n",
       "         [53, 53, 53],\n",
       "         [47, 47, 47]],\n",
       " \n",
       "        [[29, 29, 29],\n",
       "         [37, 37, 37],\n",
       "         [46, 46, 46],\n",
       "         ...,\n",
       "         [55, 55, 55],\n",
       "         [56, 56, 56],\n",
       "         [55, 55, 55]]], dtype=uint8)\n",
       " orig_shape: (673, 791)\n",
       " path: '/home/ec2-user/SageMaker/data/test/images/7_S1A_IW_GRDH_1SDV_20190129T135245_20190129T135310_025693_02DACF_C27C_Cal_ML_Spk_TC.png'\n",
       " probs: None\n",
       " save_dir: 'runs/detect/predict2'\n",
       " speed: {'preprocess': 2.5153160095214844, 'inference': 18.69654655456543, 'postprocess': 1.5473365783691406},\n",
       " ultralytics.engine.results.Results object with attributes:\n",
       " \n",
       " boxes: ultralytics.engine.results.Boxes object\n",
       " keypoints: None\n",
       " masks: None\n",
       " names: {0: 'eddy', 1: 'non-eddy'}\n",
       " obb: None\n",
       " orig_img: array([[[66, 66, 66],\n",
       "         [67, 67, 67],\n",
       "         [77, 77, 77],\n",
       "         ...,\n",
       "         [80, 80, 80],\n",
       "         [97, 97, 97],\n",
       "         [82, 82, 82]],\n",
       " \n",
       "        [[62, 62, 62],\n",
       "         [67, 67, 67],\n",
       "         [76, 76, 76],\n",
       "         ...,\n",
       "         [77, 77, 77],\n",
       "         [87, 87, 87],\n",
       "         [78, 78, 78]],\n",
       " \n",
       "        [[71, 71, 71],\n",
       "         [80, 80, 80],\n",
       "         [75, 75, 75],\n",
       "         ...,\n",
       "         [68, 68, 68],\n",
       "         [68, 68, 68],\n",
       "         [64, 64, 64]],\n",
       " \n",
       "        ...,\n",
       " \n",
       "        [[66, 66, 66],\n",
       "         [69, 69, 69],\n",
       "         [92, 92, 92],\n",
       "         ...,\n",
       "         [64, 64, 64],\n",
       "         [81, 81, 81],\n",
       "         [85, 85, 85]],\n",
       " \n",
       "        [[76, 76, 76],\n",
       "         [73, 73, 73],\n",
       "         [78, 78, 78],\n",
       "         ...,\n",
       "         [65, 65, 65],\n",
       "         [77, 77, 77],\n",
       "         [91, 91, 91]],\n",
       " \n",
       "        [[76, 76, 76],\n",
       "         [77, 77, 77],\n",
       "         [68, 68, 68],\n",
       "         ...,\n",
       "         [87, 87, 87],\n",
       "         [97, 97, 97],\n",
       "         [94, 94, 94]]], dtype=uint8)\n",
       " orig_shape: (682, 847)\n",
       " path: '/home/ec2-user/SageMaker/data/test/images/7_S1A_IW_GRDH_1SDV_20190326T142435_20190326T142500_026510_02F845_6C7C.png'\n",
       " probs: None\n",
       " save_dir: 'runs/detect/predict2'\n",
       " speed: {'preprocess': 2.4111270904541016, 'inference': 18.683910369873047, 'postprocess': 1.5299320220947266},\n",
       " ultralytics.engine.results.Results object with attributes:\n",
       " \n",
       " boxes: ultralytics.engine.results.Boxes object\n",
       " keypoints: None\n",
       " masks: None\n",
       " names: {0: 'eddy', 1: 'non-eddy'}\n",
       " obb: None\n",
       " orig_img: array([[[ 67,  67,  67],\n",
       "         [ 75,  75,  75],\n",
       "         [ 76,  76,  76],\n",
       "         ...,\n",
       "         [107, 107, 107],\n",
       "         [ 92,  92,  92],\n",
       "         [ 65,  65,  65]],\n",
       " \n",
       "        [[ 56,  56,  56],\n",
       "         [ 70,  70,  70],\n",
       "         [ 76,  76,  76],\n",
       "         ...,\n",
       "         [ 85,  85,  85],\n",
       "         [ 78,  78,  78],\n",
       "         [ 52,  52,  52]],\n",
       " \n",
       "        [[ 54,  54,  54],\n",
       "         [ 60,  60,  60],\n",
       "         [ 78,  78,  78],\n",
       "         ...,\n",
       "         [ 87,  87,  87],\n",
       "         [ 75,  75,  75],\n",
       "         [ 67,  67,  67]],\n",
       " \n",
       "        ...,\n",
       " \n",
       "        [[ 62,  62,  62],\n",
       "         [ 64,  64,  64],\n",
       "         [ 45,  45,  45],\n",
       "         ...,\n",
       "         [ 86,  86,  86],\n",
       "         [ 75,  75,  75],\n",
       "         [ 75,  75,  75]],\n",
       " \n",
       "        [[ 56,  56,  56],\n",
       "         [ 57,  57,  57],\n",
       "         [ 59,  59,  59],\n",
       "         ...,\n",
       "         [ 65,  65,  65],\n",
       "         [ 53,  53,  53],\n",
       "         [ 56,  56,  56]],\n",
       " \n",
       "        [[ 54,  54,  54],\n",
       "         [ 54,  54,  54],\n",
       "         [ 55,  55,  55],\n",
       "         ...,\n",
       "         [ 64,  64,  64],\n",
       "         [ 49,  49,  49],\n",
       "         [ 49,  49,  49]]], dtype=uint8)\n",
       " orig_shape: (682, 836)\n",
       " path: '/home/ec2-user/SageMaker/data/test/images/8_S1A_IW_GRDH_1SDV_20181208T142437_20181208T142502_024935_02BF4E_5668.png'\n",
       " probs: None\n",
       " save_dir: 'runs/detect/predict2'\n",
       " speed: {'preprocess': 2.420663833618164, 'inference': 18.11385154724121, 'postprocess': 1.5392303466796875},\n",
       " ultralytics.engine.results.Results object with attributes:\n",
       " \n",
       " boxes: ultralytics.engine.results.Boxes object\n",
       " keypoints: None\n",
       " masks: None\n",
       " names: {0: 'eddy', 1: 'non-eddy'}\n",
       " obb: None\n",
       " orig_img: array([[[ 25,  25,  25],\n",
       "         [ 28,  28,  28],\n",
       "         [ 32,  32,  32],\n",
       "         ...,\n",
       "         [ 36,  36,  36],\n",
       "         [ 25,  25,  25],\n",
       "         [ 22,  22,  22]],\n",
       " \n",
       "        [[ 40,  40,  40],\n",
       "         [ 37,  37,  37],\n",
       "         [ 32,  32,  32],\n",
       "         ...,\n",
       "         [ 44,  44,  44],\n",
       "         [ 26,  26,  26],\n",
       "         [ 27,  27,  27]],\n",
       " \n",
       "        [[ 45,  45,  45],\n",
       "         [ 39,  39,  39],\n",
       "         [ 27,  27,  27],\n",
       "         ...,\n",
       "         [ 29,  29,  29],\n",
       "         [ 26,  26,  26],\n",
       "         [ 29,  29,  29]],\n",
       " \n",
       "        ...,\n",
       " \n",
       "        [[119, 119, 119],\n",
       "         [112, 112, 112],\n",
       "         [103, 103, 103],\n",
       "         ...,\n",
       "         [140, 140, 140],\n",
       "         [122, 122, 122],\n",
       "         [101, 101, 101]],\n",
       " \n",
       "        [[113, 113, 113],\n",
       "         [119, 119, 119],\n",
       "         [107, 107, 107],\n",
       "         ...,\n",
       "         [144, 144, 144],\n",
       "         [138, 138, 138],\n",
       "         [119, 119, 119]],\n",
       " \n",
       "        [[110, 110, 110],\n",
       "         [109, 109, 109],\n",
       "         [104, 104, 104],\n",
       "         ...,\n",
       "         [196, 196, 196],\n",
       "         [143, 143, 143],\n",
       "         [125, 125, 125]]], dtype=uint8)\n",
       " orig_shape: (681, 819)\n",
       " path: '/home/ec2-user/SageMaker/data/test/images/8_S1A_IW_GRDH_1SDV_20190127T140836_20190127T140901_025664_02D9BE_F63E_Cal_ML_Spk_TC.png'\n",
       " probs: None\n",
       " save_dir: 'runs/detect/predict2'\n",
       " speed: {'preprocess': 2.3937225341796875, 'inference': 18.017053604125977, 'postprocess': 1.4846324920654297},\n",
       " ultralytics.engine.results.Results object with attributes:\n",
       " \n",
       " boxes: ultralytics.engine.results.Boxes object\n",
       " keypoints: None\n",
       " masks: None\n",
       " names: {0: 'eddy', 1: 'non-eddy'}\n",
       " obb: None\n",
       " orig_img: array([[[52, 52, 52],\n",
       "         [59, 59, 59],\n",
       "         [66, 66, 66],\n",
       "         ...,\n",
       "         [16, 16, 16],\n",
       "         [20, 20, 20],\n",
       "         [17, 17, 17]],\n",
       " \n",
       "        [[47, 47, 47],\n",
       "         [65, 65, 65],\n",
       "         [66, 66, 66],\n",
       "         ...,\n",
       "         [18, 18, 18],\n",
       "         [18, 18, 18],\n",
       "         [18, 18, 18]],\n",
       " \n",
       "        [[53, 53, 53],\n",
       "         [70, 70, 70],\n",
       "         [65, 65, 65],\n",
       "         ...,\n",
       "         [18, 18, 18],\n",
       "         [19, 19, 19],\n",
       "         [19, 19, 19]],\n",
       " \n",
       "        ...,\n",
       " \n",
       "        [[42, 42, 42],\n",
       "         [41, 41, 41],\n",
       "         [36, 36, 36],\n",
       "         ...,\n",
       "         [54, 54, 54],\n",
       "         [59, 59, 59],\n",
       "         [78, 78, 78]],\n",
       " \n",
       "        [[44, 44, 44],\n",
       "         [43, 43, 43],\n",
       "         [43, 43, 43],\n",
       "         ...,\n",
       "         [59, 59, 59],\n",
       "         [59, 59, 59],\n",
       "         [61, 61, 61]],\n",
       " \n",
       "        [[55, 55, 55],\n",
       "         [55, 55, 55],\n",
       "         [58, 58, 58],\n",
       "         ...,\n",
       "         [62, 62, 62],\n",
       "         [54, 54, 54],\n",
       "         [53, 53, 53]]], dtype=uint8)\n",
       " orig_shape: (681, 844)\n",
       " path: '/home/ec2-user/SageMaker/data/test/images/8_S1A_IW_GRDH_1SDV_20190326T142435_20190326T142500_026510_02F845_6C7C.png'\n",
       " probs: None\n",
       " save_dir: 'runs/detect/predict2'\n",
       " speed: {'preprocess': 2.5701522827148438, 'inference': 18.854856491088867, 'postprocess': 1.6341209411621094},\n",
       " ultralytics.engine.results.Results object with attributes:\n",
       " \n",
       " boxes: ultralytics.engine.results.Boxes object\n",
       " keypoints: None\n",
       " masks: None\n",
       " names: {0: 'eddy', 1: 'non-eddy'}\n",
       " obb: None\n",
       " orig_img: array([[[108, 108, 108],\n",
       "         [ 62,  62,  62],\n",
       "         [ 63,  63,  63],\n",
       "         ...,\n",
       "         [ 22,  22,  22],\n",
       "         [ 15,  15,  15],\n",
       "         [ 21,  21,  21]],\n",
       " \n",
       "        [[ 79,  79,  79],\n",
       "         [ 69,  69,  69],\n",
       "         [ 76,  76,  76],\n",
       "         ...,\n",
       "         [ 19,  19,  19],\n",
       "         [ 13,  13,  13],\n",
       "         [ 17,  17,  17]],\n",
       " \n",
       "        [[ 86,  86,  86],\n",
       "         [ 82,  82,  82],\n",
       "         [ 79,  79,  79],\n",
       "         ...,\n",
       "         [ 16,  16,  16],\n",
       "         [ 14,  14,  14],\n",
       "         [ 17,  17,  17]],\n",
       " \n",
       "        ...,\n",
       " \n",
       "        [[ 39,  39,  39],\n",
       "         [ 60,  60,  60],\n",
       "         [117, 117, 117],\n",
       "         ...,\n",
       "         [ 66,  66,  66],\n",
       "         [ 58,  58,  58],\n",
       "         [ 43,  43,  43]],\n",
       " \n",
       "        [[ 48,  48,  48],\n",
       "         [ 65,  65,  65],\n",
       "         [ 98,  98,  98],\n",
       "         ...,\n",
       "         [ 56,  56,  56],\n",
       "         [ 50,  50,  50],\n",
       "         [ 44,  44,  44]],\n",
       " \n",
       "        [[ 45,  45,  45],\n",
       "         [ 53,  53,  53],\n",
       "         [ 66,  66,  66],\n",
       "         ...,\n",
       "         [ 51,  51,  51],\n",
       "         [ 49,  49,  49],\n",
       "         [ 46,  46,  46]]], dtype=uint8)\n",
       " orig_shape: (839, 681)\n",
       " path: '/home/ec2-user/SageMaker/data/test/images/90_5_S1A_IW_GRDH_1SDV_20181208T142437_20181208T142502_024935_02BF4E_5668.png'\n",
       " probs: None\n",
       " save_dir: 'runs/detect/predict2'\n",
       " speed: {'preprocess': 2.419710159301758, 'inference': 19.12546157836914, 'postprocess': 1.5017986297607422},\n",
       " ultralytics.engine.results.Results object with attributes:\n",
       " \n",
       " boxes: ultralytics.engine.results.Boxes object\n",
       " keypoints: None\n",
       " masks: None\n",
       " names: {0: 'eddy', 1: 'non-eddy'}\n",
       " obb: None\n",
       " orig_img: array([[[125, 125, 125],\n",
       "         [138, 138, 138],\n",
       "         [140, 140, 140],\n",
       "         ...,\n",
       "         [105, 105, 105],\n",
       "         [ 97,  97,  97],\n",
       "         [116, 116, 116]],\n",
       " \n",
       "        [[121, 121, 121],\n",
       "         [119, 119, 119],\n",
       "         [120, 120, 120],\n",
       "         ...,\n",
       "         [134, 134, 134],\n",
       "         [117, 117, 117],\n",
       "         [108, 108, 108]],\n",
       " \n",
       "        [[117, 117, 117],\n",
       "         [109, 109, 109],\n",
       "         [104, 104, 104],\n",
       "         ...,\n",
       "         [167, 167, 167],\n",
       "         [138, 138, 138],\n",
       "         [117, 117, 117]],\n",
       " \n",
       "        ...,\n",
       " \n",
       "        [[ 33,  33,  33],\n",
       "         [ 13,  13,  13],\n",
       "         [ 12,  12,  12],\n",
       "         ...,\n",
       "         [ 74,  74,  74],\n",
       "         [ 69,  69,  69],\n",
       "         [ 60,  60,  60]],\n",
       " \n",
       "        [[ 36,  36,  36],\n",
       "         [ 19,  19,  19],\n",
       "         [ 15,  15,  15],\n",
       "         ...,\n",
       "         [ 90,  90,  90],\n",
       "         [ 83,  83,  83],\n",
       "         [ 67,  67,  67]],\n",
       " \n",
       "        [[ 42,  42,  42],\n",
       "         [ 34,  34,  34],\n",
       "         [ 23,  23,  23],\n",
       "         ...,\n",
       "         [ 96,  96,  96],\n",
       "         [ 91,  91,  91],\n",
       "         [ 77,  77,  77]]], dtype=uint8)\n",
       " orig_shape: (818, 679)\n",
       " path: '/home/ec2-user/SageMaker/data/test/images/90_5_S1A_IW_GRDH_1SDV_20190127T140836_20190127T140901_025664_02D9BE_F63E_Cal_ML_Spk_TC.png'\n",
       " probs: None\n",
       " save_dir: 'runs/detect/predict2'\n",
       " speed: {'preprocess': 2.419710159301758, 'inference': 17.94719696044922, 'postprocess': 1.535654067993164},\n",
       " ultralytics.engine.results.Results object with attributes:\n",
       " \n",
       " boxes: ultralytics.engine.results.Boxes object\n",
       " keypoints: None\n",
       " masks: None\n",
       " names: {0: 'eddy', 1: 'non-eddy'}\n",
       " obb: None\n",
       " orig_img: array([[[84, 84, 84],\n",
       "         [85, 85, 85],\n",
       "         [73, 73, 73],\n",
       "         ...,\n",
       "         [42, 42, 42],\n",
       "         [30, 30, 30],\n",
       "         [36, 36, 36]],\n",
       " \n",
       "        [[78, 78, 78],\n",
       "         [84, 84, 84],\n",
       "         [81, 81, 81],\n",
       "         ...,\n",
       "         [42, 42, 42],\n",
       "         [34, 34, 34],\n",
       "         [33, 33, 33]],\n",
       " \n",
       "        [[77, 77, 77],\n",
       "         [73, 73, 73],\n",
       "         [78, 78, 78],\n",
       "         ...,\n",
       "         [37, 37, 37],\n",
       "         [36, 36, 36],\n",
       "         [20, 20, 20]],\n",
       " \n",
       "        ...,\n",
       " \n",
       "        [[57, 57, 57],\n",
       "         [68, 68, 68],\n",
       "         [73, 73, 73],\n",
       "         ...,\n",
       "         [11, 11, 11],\n",
       "         [10, 10, 10],\n",
       "         [10, 10, 10]],\n",
       " \n",
       "        [[59, 59, 59],\n",
       "         [54, 54, 54],\n",
       "         [51, 51, 51],\n",
       "         ...,\n",
       "         [ 9,  9,  9],\n",
       "         [ 6,  6,  6],\n",
       "         [ 9,  9,  9]],\n",
       " \n",
       "        [[55, 55, 55],\n",
       "         [42, 42, 42],\n",
       "         [44, 44, 44],\n",
       "         ...,\n",
       "         [10, 10, 10],\n",
       "         [ 8,  8,  8],\n",
       "         [10, 10, 10]]], dtype=uint8)\n",
       " orig_shape: (792, 677)\n",
       " path: '/home/ec2-user/SageMaker/data/test/images/90_5_S1A_IW_GRDH_1SDV_20190127T140926_20190127T141001_025664_02D9BE_3A0F_Cal_ML_Spk_TC.png'\n",
       " probs: None\n",
       " save_dir: 'runs/detect/predict2'\n",
       " speed: {'preprocess': 2.4645328521728516, 'inference': 18.93925666809082, 'postprocess': 1.48773193359375},\n",
       " ultralytics.engine.results.Results object with attributes:\n",
       " \n",
       " boxes: ultralytics.engine.results.Boxes object\n",
       " keypoints: None\n",
       " masks: None\n",
       " names: {0: 'eddy', 1: 'non-eddy'}\n",
       " obb: None\n",
       " orig_img: array([[[101, 101, 101],\n",
       "         [104, 104, 104],\n",
       "         [ 95,  95,  95],\n",
       "         ...,\n",
       "         [ 62,  62,  62],\n",
       "         [ 61,  61,  61],\n",
       "         [ 64,  64,  64]],\n",
       " \n",
       "        [[108, 108, 108],\n",
       "         [135, 135, 135],\n",
       "         [109, 109, 109],\n",
       "         ...,\n",
       "         [ 62,  62,  62],\n",
       "         [ 62,  62,  62],\n",
       "         [ 60,  60,  60]],\n",
       " \n",
       "        [[102, 102, 102],\n",
       "         [156, 156, 156],\n",
       "         [120, 120, 120],\n",
       "         ...,\n",
       "         [ 65,  65,  65],\n",
       "         [ 56,  56,  56],\n",
       "         [ 59,  59,  59]],\n",
       " \n",
       "        ...,\n",
       " \n",
       "        [[ 42,  42,  42],\n",
       "         [ 84,  84,  84],\n",
       "         [ 51,  51,  51],\n",
       "         ...,\n",
       "         [103, 103, 103],\n",
       "         [117, 117, 117],\n",
       "         [145, 145, 145]],\n",
       " \n",
       "        [[ 37,  37,  37],\n",
       "         [ 54,  54,  54],\n",
       "         [ 54,  54,  54],\n",
       "         ...,\n",
       "         [ 98,  98,  98],\n",
       "         [116, 116, 116],\n",
       "         [150, 150, 150]],\n",
       " \n",
       "        [[ 16,  16,  16],\n",
       "         [ 25,  25,  25],\n",
       "         [ 25,  25,  25],\n",
       "         ...,\n",
       "         [129, 129, 129],\n",
       "         [123, 123, 123],\n",
       "         [137, 137, 137]]], dtype=uint8)\n",
       " orig_shape: (791, 673)\n",
       " path: '/home/ec2-user/SageMaker/data/test/images/90_5_S1A_IW_GRDH_1SDV_20190129T135245_20190129T135310_025693_02DACF_C27C_Cal_ML_Spk_TC.png'\n",
       " probs: None\n",
       " save_dir: 'runs/detect/predict2'\n",
       " speed: {'preprocess': 2.489805221557617, 'inference': 17.89236068725586, 'postprocess': 1.5480518341064453},\n",
       " ultralytics.engine.results.Results object with attributes:\n",
       " \n",
       " boxes: ultralytics.engine.results.Boxes object\n",
       " keypoints: None\n",
       " masks: None\n",
       " names: {0: 'eddy', 1: 'non-eddy'}\n",
       " obb: None\n",
       " orig_img: array([[[ 68,  68,  68],\n",
       "         [ 32,  32,  32],\n",
       "         [ 12,  12,  12],\n",
       "         ...,\n",
       "         [ 72,  72,  72],\n",
       "         [ 90,  90,  90],\n",
       "         [ 88,  88,  88]],\n",
       " \n",
       "        [[ 93,  93,  93],\n",
       "         [ 49,  49,  49],\n",
       "         [ 25,  25,  25],\n",
       "         ...,\n",
       "         [ 80,  80,  80],\n",
       "         [104, 104, 104],\n",
       "         [ 87,  87,  87]],\n",
       " \n",
       "        [[100, 100, 100],\n",
       "         [ 54,  54,  54],\n",
       "         [ 63,  63,  63],\n",
       "         ...,\n",
       "         [ 80,  80,  80],\n",
       "         [ 90,  90,  90],\n",
       "         [ 78,  78,  78]],\n",
       " \n",
       "        ...,\n",
       " \n",
       "        [[ 79,  79,  79],\n",
       "         [ 88,  88,  88],\n",
       "         [ 79,  79,  79],\n",
       "         ...,\n",
       "         [ 60,  60,  60],\n",
       "         [ 57,  57,  57],\n",
       "         [ 50,  50,  50]],\n",
       " \n",
       "        [[ 87,  87,  87],\n",
       "         [ 91,  91,  91],\n",
       "         [ 76,  76,  76],\n",
       "         ...,\n",
       "         [ 63,  63,  63],\n",
       "         [ 52,  52,  52],\n",
       "         [ 47,  47,  47]],\n",
       " \n",
       "        [[ 87,  87,  87],\n",
       "         [ 89,  89,  89],\n",
       "         [ 74,  74,  74],\n",
       "         ...,\n",
       "         [ 62,  62,  62],\n",
       "         [ 54,  54,  54],\n",
       "         [ 48,  48,  48]]], dtype=uint8)\n",
       " orig_shape: (804, 678)\n",
       " path: '/home/ec2-user/SageMaker/data/test/images/90_5_S1A_IW_GRDH_1SDV_20190318T135244_20190318T135309_026393_02F407_55EC.png'\n",
       " probs: None\n",
       " save_dir: 'runs/detect/predict2'\n",
       " speed: {'preprocess': 2.434253692626953, 'inference': 18.71943473815918, 'postprocess': 1.5244483947753906},\n",
       " ultralytics.engine.results.Results object with attributes:\n",
       " \n",
       " boxes: ultralytics.engine.results.Boxes object\n",
       " keypoints: None\n",
       " masks: None\n",
       " names: {0: 'eddy', 1: 'non-eddy'}\n",
       " obb: None\n",
       " orig_img: array([[[69, 69, 69],\n",
       "         [70, 70, 70],\n",
       "         [79, 79, 79],\n",
       "         ...,\n",
       "         [23, 23, 23],\n",
       "         [22, 22, 22],\n",
       "         [23, 23, 23]],\n",
       " \n",
       "        [[63, 63, 63],\n",
       "         [66, 66, 66],\n",
       "         [89, 89, 89],\n",
       "         ...,\n",
       "         [31, 31, 31],\n",
       "         [26, 26, 26],\n",
       "         [26, 26, 26]],\n",
       " \n",
       "        [[62, 62, 62],\n",
       "         [59, 59, 59],\n",
       "         [83, 83, 83],\n",
       "         ...,\n",
       "         [33, 33, 33],\n",
       "         [22, 22, 22],\n",
       "         [16, 16, 16]],\n",
       " \n",
       "        ...,\n",
       " \n",
       "        [[51, 51, 51],\n",
       "         [54, 54, 54],\n",
       "         [57, 57, 57],\n",
       "         ...,\n",
       "         [70, 70, 70],\n",
       "         [68, 68, 68],\n",
       "         [73, 73, 73]],\n",
       " \n",
       "        [[46, 46, 46],\n",
       "         [61, 61, 61],\n",
       "         [60, 60, 60],\n",
       "         ...,\n",
       "         [87, 87, 87],\n",
       "         [82, 82, 82],\n",
       "         [76, 76, 76]],\n",
       " \n",
       "        [[50, 50, 50],\n",
       "         [78, 78, 78],\n",
       "         [59, 59, 59],\n",
       "         ...,\n",
       "         [84, 84, 84],\n",
       "         [83, 83, 83],\n",
       "         [79, 79, 79]]], dtype=uint8)\n",
       " orig_shape: (846, 684)\n",
       " path: '/home/ec2-user/SageMaker/data/test/images/90_5_S1A_IW_GRDH_1SDV_20190326T142435_20190326T142500_026510_02F845_6C7C.png'\n",
       " probs: None\n",
       " save_dir: 'runs/detect/predict2'\n",
       " speed: {'preprocess': 2.4657249450683594, 'inference': 18.128395080566406, 'postprocess': 1.5821456909179688},\n",
       " ultralytics.engine.results.Results object with attributes:\n",
       " \n",
       " boxes: ultralytics.engine.results.Boxes object\n",
       " keypoints: None\n",
       " masks: None\n",
       " names: {0: 'eddy', 1: 'non-eddy'}\n",
       " obb: None\n",
       " orig_img: array([[[63, 63, 63],\n",
       "         [58, 58, 58],\n",
       "         [62, 62, 62],\n",
       "         ...,\n",
       "         [64, 64, 64],\n",
       "         [70, 70, 70],\n",
       "         [76, 76, 76]],\n",
       " \n",
       "        [[59, 59, 59],\n",
       "         [58, 58, 58],\n",
       "         [66, 66, 66],\n",
       "         ...,\n",
       "         [61, 61, 61],\n",
       "         [66, 66, 66],\n",
       "         [72, 72, 72]],\n",
       " \n",
       "        [[64, 64, 64],\n",
       "         [65, 65, 65],\n",
       "         [78, 78, 78],\n",
       "         ...,\n",
       "         [76, 76, 76],\n",
       "         [72, 72, 72],\n",
       "         [73, 73, 73]],\n",
       " \n",
       "        ...,\n",
       " \n",
       "        [[30, 30, 30],\n",
       "         [33, 33, 33],\n",
       "         [32, 32, 32],\n",
       "         ...,\n",
       "         [29, 29, 29],\n",
       "         [35, 35, 35],\n",
       "         [37, 37, 37]],\n",
       " \n",
       "        [[33, 33, 33],\n",
       "         [52, 52, 52],\n",
       "         [40, 40, 40],\n",
       "         ...,\n",
       "         [41, 41, 41],\n",
       "         [44, 44, 44],\n",
       "         [49, 49, 49]],\n",
       " \n",
       "        [[44, 44, 44],\n",
       "         [58, 58, 58],\n",
       "         [71, 71, 71],\n",
       "         ...,\n",
       "         [61, 61, 61],\n",
       "         [57, 57, 57],\n",
       "         [49, 49, 49]]], dtype=uint8)\n",
       " orig_shape: (822, 687)\n",
       " path: '/home/ec2-user/SageMaker/data/test/images/90_5_S1B_IW_GRDH_1SDV_20190104T015724_20190104T015753_014338_01AADC_E94F.png'\n",
       " probs: None\n",
       " save_dir: 'runs/detect/predict2'\n",
       " speed: {'preprocess': 2.418994903564453, 'inference': 18.10932159423828, 'postprocess': 0.6740093231201172},\n",
       " ultralytics.engine.results.Results object with attributes:\n",
       " \n",
       " boxes: ultralytics.engine.results.Boxes object\n",
       " keypoints: None\n",
       " masks: None\n",
       " names: {0: 'eddy', 1: 'non-eddy'}\n",
       " obb: None\n",
       " orig_img: array([[[ 68,  68,  68],\n",
       "         [ 77,  77,  77],\n",
       "         [ 68,  68,  68],\n",
       "         ...,\n",
       "         [  0,   0,   0],\n",
       "         [  0,   0,   0],\n",
       "         [  0,   0,   0]],\n",
       " \n",
       "        [[ 62,  62,  62],\n",
       "         [ 72,  72,  72],\n",
       "         [ 70,  70,  70],\n",
       "         ...,\n",
       "         [  0,   0,   0],\n",
       "         [  0,   0,   0],\n",
       "         [  0,   0,   0]],\n",
       " \n",
       "        [[ 66,  66,  66],\n",
       "         [ 69,  69,  69],\n",
       "         [ 71,  71,  71],\n",
       "         ...,\n",
       "         [  0,   0,   0],\n",
       "         [  0,   0,   0],\n",
       "         [  0,   0,   0]],\n",
       " \n",
       "        ...,\n",
       " \n",
       "        [[ 99,  99,  99],\n",
       "         [ 93,  93,  93],\n",
       "         [ 99,  99,  99],\n",
       "         ...,\n",
       "         [ 65,  65,  65],\n",
       "         [ 66,  66,  66],\n",
       "         [ 67,  67,  67]],\n",
       " \n",
       "        [[ 98,  98,  98],\n",
       "         [ 94,  94,  94],\n",
       "         [101, 101, 101],\n",
       "         ...,\n",
       "         [ 64,  64,  64],\n",
       "         [ 66,  66,  66],\n",
       "         [ 71,  71,  71]],\n",
       " \n",
       "        [[ 96,  96,  96],\n",
       "         [ 97,  97,  97],\n",
       "         [100, 100, 100],\n",
       "         ...,\n",
       "         [ 65,  65,  65],\n",
       "         [ 66,  66,  66],\n",
       "         [ 67,  67,  67]]], dtype=uint8)\n",
       " orig_shape: (806, 682)\n",
       " path: '/home/ec2-user/SageMaker/data/test/images/90_5_S1B_IW_GRDH_1SDV_20190128T015724_20190128T015753_014688_01B61C_21F1_Cal_ML_Spk_TC.png'\n",
       " probs: None\n",
       " save_dir: 'runs/detect/predict2'\n",
       " speed: {'preprocess': 2.5148391723632812, 'inference': 18.098831176757812, 'postprocess': 1.5323162078857422},\n",
       " ultralytics.engine.results.Results object with attributes:\n",
       " \n",
       " boxes: ultralytics.engine.results.Boxes object\n",
       " keypoints: None\n",
       " masks: None\n",
       " names: {0: 'eddy', 1: 'non-eddy'}\n",
       " obb: None\n",
       " orig_img: array([[[ 85,  85,  85],\n",
       "         [ 77,  77,  77],\n",
       "         [ 82,  82,  82],\n",
       "         ...,\n",
       "         [ 64,  64,  64],\n",
       "         [ 67,  67,  67],\n",
       "         [ 70,  70,  70]],\n",
       " \n",
       "        [[ 90,  90,  90],\n",
       "         [ 77,  77,  77],\n",
       "         [ 80,  80,  80],\n",
       "         ...,\n",
       "         [ 69,  69,  69],\n",
       "         [ 61,  61,  61],\n",
       "         [ 69,  69,  69]],\n",
       " \n",
       "        [[101, 101, 101],\n",
       "         [ 89,  89,  89],\n",
       "         [ 87,  87,  87],\n",
       "         ...,\n",
       "         [ 83,  83,  83],\n",
       "         [ 83,  83,  83],\n",
       "         [ 69,  69,  69]],\n",
       " \n",
       "        ...,\n",
       " \n",
       "        [[ 98,  98,  98],\n",
       "         [ 96,  96,  96],\n",
       "         [106, 106, 106],\n",
       "         ...,\n",
       "         [ 88,  88,  88],\n",
       "         [111, 111, 111],\n",
       "         [ 92,  92,  92]],\n",
       " \n",
       "        [[ 89,  89,  89],\n",
       "         [ 83,  83,  83],\n",
       "         [116, 116, 116],\n",
       "         ...,\n",
       "         [ 91,  91,  91],\n",
       "         [ 91,  91,  91],\n",
       "         [ 88,  88,  88]],\n",
       " \n",
       "        [[ 86,  86,  86],\n",
       "         [ 74,  74,  74],\n",
       "         [ 92,  92,  92],\n",
       "         ...,\n",
       "         [ 89,  89,  89],\n",
       "         [ 84,  84,  84],\n",
       "         [ 96,  96,  96]]], dtype=uint8)\n",
       " orig_shape: (844, 685)\n",
       " path: '/home/ec2-user/SageMaker/data/test/images/90_6_S1A_IW_GRDH_1SDV_20181208T142437_20181208T142502_024935_02BF4E_5668.png'\n",
       " probs: None\n",
       " save_dir: 'runs/detect/predict2'\n",
       " speed: {'preprocess': 2.4683475494384766, 'inference': 17.970800399780273, 'postprocess': 0.6763935089111328},\n",
       " ultralytics.engine.results.Results object with attributes:\n",
       " \n",
       " boxes: ultralytics.engine.results.Boxes object\n",
       " keypoints: None\n",
       " masks: None\n",
       " names: {0: 'eddy', 1: 'non-eddy'}\n",
       " obb: None\n",
       " orig_img: array([[[ 70,  70,  70],\n",
       "         [ 69,  69,  69],\n",
       "         [ 75,  75,  75],\n",
       "         ...,\n",
       "         [ 76,  76,  76],\n",
       "         [ 70,  70,  70],\n",
       "         [ 89,  89,  89]],\n",
       " \n",
       "        [[ 92,  92,  92],\n",
       "         [ 76,  76,  76],\n",
       "         [ 82,  82,  82],\n",
       "         ...,\n",
       "         [ 89,  89,  89],\n",
       "         [ 70,  70,  70],\n",
       "         [ 88,  88,  88]],\n",
       " \n",
       "        [[ 96,  96,  96],\n",
       "         [ 77,  77,  77],\n",
       "         [118, 118, 118],\n",
       "         ...,\n",
       "         [ 89,  89,  89],\n",
       "         [ 74,  74,  74],\n",
       "         [ 50,  50,  50]],\n",
       " \n",
       "        ...,\n",
       " \n",
       "        [[ 15,  15,  15],\n",
       "         [ 16,  16,  16],\n",
       "         [ 18,  18,  18],\n",
       "         ...,\n",
       "         [ 70,  70,  70],\n",
       "         [ 90,  90,  90],\n",
       "         [ 81,  81,  81]],\n",
       " \n",
       "        [[ 17,  17,  17],\n",
       "         [ 16,  16,  16],\n",
       "         [ 17,  17,  17],\n",
       "         ...,\n",
       "         [ 69,  69,  69],\n",
       "         [ 78,  78,  78],\n",
       "         [ 67,  67,  67]],\n",
       " \n",
       "        [[ 14,  14,  14],\n",
       "         [ 12,  12,  12],\n",
       "         [ 16,  16,  16],\n",
       "         ...,\n",
       "         [ 66,  66,  66],\n",
       "         [ 61,  61,  61],\n",
       "         [ 58,  58,  58]]], dtype=uint8)\n",
       " orig_shape: (793, 679)\n",
       " path: '/home/ec2-user/SageMaker/data/test/images/90_6_S1A_IW_GRDH_1SDV_20190127T140926_20190127T141001_025664_02D9BE_3A0F_Cal_ML_Spk_TC.png'\n",
       " probs: None\n",
       " save_dir: 'runs/detect/predict2'\n",
       " speed: {'preprocess': 2.499103546142578, 'inference': 18.72396469116211, 'postprocess': 1.5437602996826172},\n",
       " ultralytics.engine.results.Results object with attributes:\n",
       " \n",
       " boxes: ultralytics.engine.results.Boxes object\n",
       " keypoints: None\n",
       " masks: None\n",
       " names: {0: 'eddy', 1: 'non-eddy'}\n",
       " obb: None\n",
       " orig_img: array([[[ 54,  54,  54],\n",
       "         [ 81,  81,  81],\n",
       "         [ 91,  91,  91],\n",
       "         ...,\n",
       "         [ 65,  65,  65],\n",
       "         [ 52,  52,  52],\n",
       "         [ 43,  43,  43]],\n",
       " \n",
       "        [[ 74,  74,  74],\n",
       "         [102, 102, 102],\n",
       "         [ 98,  98,  98],\n",
       "         ...,\n",
       "         [ 81,  81,  81],\n",
       "         [ 57,  57,  57],\n",
       "         [ 44,  44,  44]],\n",
       " \n",
       "        [[ 78,  78,  78],\n",
       "         [111, 111, 111],\n",
       "         [120, 120, 120],\n",
       "         ...,\n",
       "         [ 85,  85,  85],\n",
       "         [ 67,  67,  67],\n",
       "         [ 63,  63,  63]],\n",
       " \n",
       "        ...,\n",
       " \n",
       "        [[ 48,  48,  48],\n",
       "         [ 55,  55,  55],\n",
       "         [ 75,  75,  75],\n",
       "         ...,\n",
       "         [143, 143, 143],\n",
       "         [132, 132, 132],\n",
       "         [128, 128, 128]],\n",
       " \n",
       "        [[ 48,  48,  48],\n",
       "         [ 41,  41,  41],\n",
       "         [ 36,  36,  36],\n",
       "         ...,\n",
       "         [134, 134, 134],\n",
       "         [143, 143, 143],\n",
       "         [143, 143, 143]],\n",
       " \n",
       "        [[ 43,  43,  43],\n",
       "         [ 42,  42,  42],\n",
       "         [ 40,  40,  40],\n",
       "         ...,\n",
       "         [135, 135, 135],\n",
       "         [131, 131, 131],\n",
       "         [148, 148, 148]]], dtype=uint8)\n",
       " orig_shape: (790, 672)\n",
       " path: '/home/ec2-user/SageMaker/data/test/images/90_6_S1A_IW_GRDH_1SDV_20190129T135245_20190129T135310_025693_02DACF_C27C_Cal_ML_Spk_TC.png'\n",
       " probs: None\n",
       " save_dir: 'runs/detect/predict2'\n",
       " speed: {'preprocess': 2.453327178955078, 'inference': 18.761634826660156, 'postprocess': 1.4951229095458984},\n",
       " ultralytics.engine.results.Results object with attributes:\n",
       " \n",
       " boxes: ultralytics.engine.results.Boxes object\n",
       " keypoints: None\n",
       " masks: None\n",
       " names: {0: 'eddy', 1: 'non-eddy'}\n",
       " obb: None\n",
       " orig_img: array([[[ 57,  57,  57],\n",
       "         [ 52,  52,  52],\n",
       "         [ 66,  66,  66],\n",
       "         ...,\n",
       "         [ 20,  20,  20],\n",
       "         [ 18,  18,  18],\n",
       "         [ 16,  16,  16]],\n",
       " \n",
       "        [[ 63,  63,  63],\n",
       "         [ 52,  52,  52],\n",
       "         [ 59,  59,  59],\n",
       "         ...,\n",
       "         [ 25,  25,  25],\n",
       "         [ 18,  18,  18],\n",
       "         [ 16,  16,  16]],\n",
       " \n",
       "        [[ 58,  58,  58],\n",
       "         [ 56,  56,  56],\n",
       "         [ 58,  58,  58],\n",
       "         ...,\n",
       "         [ 25,  25,  25],\n",
       "         [ 19,  19,  19],\n",
       "         [ 15,  15,  15]],\n",
       " \n",
       "        ...,\n",
       " \n",
       "        [[ 45,  45,  45],\n",
       "         [ 42,  42,  42],\n",
       "         [ 45,  45,  45],\n",
       "         ...,\n",
       "         [101, 101, 101],\n",
       "         [113, 113, 113],\n",
       "         [126, 126, 126]],\n",
       " \n",
       "        [[ 45,  45,  45],\n",
       "         [ 42,  42,  42],\n",
       "         [ 43,  43,  43],\n",
       "         ...,\n",
       "         [ 97,  97,  97],\n",
       "         [ 94,  94,  94],\n",
       "         [118, 118, 118]],\n",
       " \n",
       "        [[ 50,  50,  50],\n",
       "         [ 48,  48,  48],\n",
       "         [ 42,  42,  42],\n",
       "         ...,\n",
       "         [ 86,  86,  86],\n",
       "         [106, 106, 106],\n",
       "         [123, 123, 123]]], dtype=uint8)\n",
       " orig_shape: (682, 818)\n",
       " path: '/home/ec2-user/SageMaker/data/test/images/9_S1A_IW_GRDH_1SDV_20190127T140836_20190127T140901_025664_02D9BE_F63E_Cal_ML_Spk_TC.png'\n",
       " probs: None\n",
       " save_dir: 'runs/detect/predict2'\n",
       " speed: {'preprocess': 2.398252487182617, 'inference': 18.7990665435791, 'postprocess': 1.4958381652832031},\n",
       " ultralytics.engine.results.Results object with attributes:\n",
       " \n",
       " boxes: ultralytics.engine.results.Boxes object\n",
       " keypoints: None\n",
       " masks: None\n",
       " names: {0: 'eddy', 1: 'non-eddy'}\n",
       " obb: None\n",
       " orig_img: array([[[25, 25, 25],\n",
       "         [27, 27, 27],\n",
       "         [28, 28, 28],\n",
       "         ...,\n",
       "         [57, 57, 57],\n",
       "         [48, 48, 48],\n",
       "         [53, 53, 53]],\n",
       " \n",
       "        [[32, 32, 32],\n",
       "         [31, 31, 31],\n",
       "         [28, 28, 28],\n",
       "         ...,\n",
       "         [49, 49, 49],\n",
       "         [46, 46, 46],\n",
       "         [54, 54, 54]],\n",
       " \n",
       "        [[43, 43, 43],\n",
       "         [34, 34, 34],\n",
       "         [31, 31, 31],\n",
       "         ...,\n",
       "         [52, 52, 52],\n",
       "         [58, 58, 58],\n",
       "         [59, 59, 59]],\n",
       " \n",
       "        ...,\n",
       " \n",
       "        [[20, 20, 20],\n",
       "         [27, 27, 27],\n",
       "         [34, 34, 34],\n",
       "         ...,\n",
       "         [14, 14, 14],\n",
       "         [12, 12, 12],\n",
       "         [13, 13, 13]],\n",
       " \n",
       "        [[45, 45, 45],\n",
       "         [34, 34, 34],\n",
       "         [41, 41, 41],\n",
       "         ...,\n",
       "         [14, 14, 14],\n",
       "         [14, 14, 14],\n",
       "         [13, 13, 13]],\n",
       " \n",
       "        [[59, 59, 59],\n",
       "         [49, 49, 49],\n",
       "         [50, 50, 50],\n",
       "         ...,\n",
       "         [18, 18, 18],\n",
       "         [22, 22, 22],\n",
       "         [26, 26, 26]]], dtype=uint8)\n",
       " orig_shape: (682, 841)\n",
       " path: '/home/ec2-user/SageMaker/data/test/images/9_S1A_IW_GRDH_1SDV_20190326T142435_20190326T142500_026510_02F845_6C7C.png'\n",
       " probs: None\n",
       " save_dir: 'runs/detect/predict2'\n",
       " speed: {'preprocess': 2.424955368041992, 'inference': 17.863035202026367, 'postprocess': 0.7152557373046875}]"
      ]
     },
     "execution_count": 10,
     "metadata": {},
     "output_type": "execute_result"
    }
   ],
   "source": [
    "res.predict(\"/home/ec2-user/SageMaker/data/test/images\", save=True, save_txt = True, conf = 0.5)"
   ]
  },
  {
   "cell_type": "code",
   "execution_count": null,
   "id": "28d52f42-e4fb-4b38-8f06-e525d1ef89ce",
   "metadata": {},
   "outputs": [],
   "source": []
  }
 ],
 "metadata": {
  "kernelspec": {
   "display_name": "conda_pytorch_p310",
   "language": "python",
   "name": "conda_pytorch_p310"
  },
  "language_info": {
   "codemirror_mode": {
    "name": "ipython",
    "version": 3
   },
   "file_extension": ".py",
   "mimetype": "text/x-python",
   "name": "python",
   "nbconvert_exporter": "python",
   "pygments_lexer": "ipython3",
   "version": "3.10.13"
  }
 },
 "nbformat": 4,
 "nbformat_minor": 5
}
